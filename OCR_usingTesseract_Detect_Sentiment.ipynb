{
  "nbformat": 4,
  "nbformat_minor": 0,
  "metadata": {
    "colab": {
      "name": "OCR_usingTesseract_Detect_Sentiment.ipynb",
      "provenance": [],
      "collapsed_sections": [],
      "include_colab_link": true
    },
    "kernelspec": {
      "name": "python3",
      "display_name": "Python 3"
    }
  },
  "cells": [
    {
      "cell_type": "markdown",
      "metadata": {
        "id": "view-in-github",
        "colab_type": "text"
      },
      "source": [
        "<a href=\"https://colab.research.google.com/github/plaban1981/HACKEREARTH/blob/master/OCR_usingTesseract_Detect_Sentiment.ipynb\" target=\"_parent\"><img src=\"https://colab.research.google.com/assets/colab-badge.svg\" alt=\"Open In Colab\"/></a>"
      ]
    },
    {
      "cell_type": "markdown",
      "metadata": {
        "id": "GMV2fxvCPflg",
        "colab_type": "text"
      },
      "source": [
        "## Problem Statement : Detecting sentiments of a quote\n",
        "\n",
        "Love knows no gender and the LGBTQ (Lesbian, Gay, Bisexual, Transgender, and Queer) community is the epitome of this thought. In honor of Pride Month, we are here with another Machine Learning challenge, in association with Pride Circle, to celebrate the impact and changes that they made globally.\n",
        "\n",
        "You have been appointed as a social media moderator for your firm. Your key responsibility is to tag and categorize quotes that are uploaded during Pride Month on the basis of its sentiment—\n",
        "\n",
        "* positive, \n",
        "* negative, and \n",
        "* random. \n",
        "\n",
        "\n",
        "Your task is to build a sophisticated Machine Learning model combining Optical Character Recognition (OCR) and Natural Language Processing (NLP) to assess sentiments of these quotes."
      ]
    },
    {
      "cell_type": "markdown",
      "metadata": {
        "id": "CibyLVusPo6H",
        "colab_type": "text"
      },
      "source": [
        "# Dataset\n",
        "\n",
        "The dataset consists of quotes that are uploaded during Pride Month.\n",
        "\n",
        "The benefits of practicing this problem by using unsupervised Machine Learning techniques are as follows:\n",
        "\n",
        "* This challenge encourages you to apply your unsupervised Machine Learning skills to build models that can assess sentiments of a quote.\n",
        "\n",
        "* This challenge helps you enhance your knowledge of OCR and NLP that are a part of the advanced fields of Machine Learning and artificial intelligence.\n",
        "\n",
        "* You are required to build a model that analyzes sentiments of a quote and classifies them into positive, negative, or random."
      ]
    },
    {
      "cell_type": "markdown",
      "metadata": {
        "id": "XOohP_C0RgyD",
        "colab_type": "text"
      },
      "source": [
        "# Task\n",
        "Your task is to build an engine that combines the concepts of OCR and NLP that accepts a .jpg file as input, extracts the text, if any, and classifies sentiment as positive or negative. If the text sentiment is neutral or an image file does not have any text, then it is classified as random."
      ]
    },
    {
      "cell_type": "markdown",
      "metadata": {
        "id": "hDFmOIjQRrhe",
        "colab_type": "text"
      },
      "source": [
        "# Evaluation Criteria\n",
        "\n",
        "score = 100*(recall_score(actual_values,Predicted_values))"
      ]
    },
    {
      "cell_type": "code",
      "metadata": {
        "id": "uWwpI-24_Nob",
        "colab_type": "code",
        "colab": {
          "base_uri": "https://localhost:8080/",
          "height": 153
        },
        "outputId": "c6a14240-35ad-4e1d-f8f4-a884b3634bb7"
      },
      "source": [
        "!sudo apt install tesseract-ocr"
      ],
      "execution_count": null,
      "outputs": [
        {
          "output_type": "stream",
          "text": [
            "Reading package lists... Done\n",
            "Building dependency tree       \n",
            "Reading state information... Done\n",
            "tesseract-ocr is already the newest version (4.00~git2288-10f4998a-2).\n",
            "The following package was automatically installed and is no longer required:\n",
            "  libnvidia-common-440\n",
            "Use 'sudo apt autoremove' to remove it.\n",
            "0 upgraded, 0 newly installed, 0 to remove and 33 not upgraded.\n"
          ],
          "name": "stdout"
        }
      ]
    },
    {
      "cell_type": "code",
      "metadata": {
        "id": "ujL16dZ2_O-3",
        "colab_type": "code",
        "colab": {
          "base_uri": "https://localhost:8080/",
          "height": 51
        },
        "outputId": "ce48cb8b-d607-4e41-c71a-6d2ea5bab33e"
      },
      "source": [
        "!pip install pytesseract"
      ],
      "execution_count": null,
      "outputs": [
        {
          "output_type": "stream",
          "text": [
            "Requirement already satisfied: pytesseract in /usr/local/lib/python3.6/dist-packages (0.3.4)\n",
            "Requirement already satisfied: Pillow in /usr/local/lib/python3.6/dist-packages (from pytesseract) (7.0.0)\n"
          ],
          "name": "stdout"
        }
      ]
    },
    {
      "cell_type": "code",
      "metadata": {
        "id": "QKJh7JjTAqzO",
        "colab_type": "code",
        "colab": {}
      },
      "source": [
        "import pytesseract\n",
        "import shutil\n",
        "import os\n",
        "import random\n",
        "try:\n",
        "    from PIL import Image\n",
        "except ImportError:\n",
        "    import Image"
      ],
      "execution_count": null,
      "outputs": []
    },
    {
      "cell_type": "code",
      "metadata": {
        "id": "8zmc-K_nAyg1",
        "colab_type": "code",
        "colab": {
          "base_uri": "https://localhost:8080/",
          "height": 54
        },
        "outputId": "868734e8-1935-4d92-b615-0b68c4f650eb"
      },
      "source": [
        "from google.colab import  drive\n",
        "drive.mount('/content/drive')"
      ],
      "execution_count": null,
      "outputs": [
        {
          "output_type": "stream",
          "text": [
            "Drive already mounted at /content/drive; to attempt to forcibly remount, call drive.mount(\"/content/drive\", force_remount=True).\n"
          ],
          "name": "stdout"
        }
      ]
    },
    {
      "cell_type": "code",
      "metadata": {
        "id": "HaM3cMUDA_Ma",
        "colab_type": "code",
        "colab": {}
      },
      "source": [
        "extractedInformation = pytesseract.image_to_string(Image.open('/content/drive/My Drive/Detect_Sentiments/Data Files/Sample Data Files/Sample_Negative.jpg'))"
      ],
      "execution_count": null,
      "outputs": []
    },
    {
      "cell_type": "code",
      "metadata": {
        "id": "syPCWhYvgFUC",
        "colab_type": "code",
        "colab": {}
      },
      "source": [
        "extractedInformation = pytesseract.image_to_string(Image.open('/content/drive/My Drive/Detect_Sentiments/Data Files/Sample Data Files/Sample_Positive.jpg'))"
      ],
      "execution_count": null,
      "outputs": []
    },
    {
      "cell_type": "code",
      "metadata": {
        "id": "RQ6olyjDhBtT",
        "colab_type": "code",
        "colab": {}
      },
      "source": [
        "extractedInformation = pytesseract.image_to_string(Image.open('/content/drive/My Drive/Detect_Sentiments/Data Files/Dataset/Test206.jpg'))"
      ],
      "execution_count": null,
      "outputs": []
    },
    {
      "cell_type": "code",
      "metadata": {
        "id": "Key-3vILBNUd",
        "colab_type": "code",
        "colab": {
          "base_uri": "https://localhost:8080/",
          "height": 54
        },
        "outputId": "258e0896-b444-4b70-aeed-5e4c38eb0eb9"
      },
      "source": [
        "print(extractedInformation.split(\" \"))"
      ],
      "execution_count": null,
      "outputs": [
        {
          "output_type": "stream",
          "text": [
            "['Of', 'course', 'gay', 'men\\n\\ndress', 'well.', 'They', \"didn't\\nspend\", 'all', 'that', 'time', 'in\\nthe', 'closet', 'doing', 'nothing.\\n\\nee', 'Being', 'Gay', '&', 'Proud', 'Quotes\\nwww.', 'geckoandfly.', 'com']\n"
          ],
          "name": "stdout"
        }
      ]
    },
    {
      "cell_type": "code",
      "metadata": {
        "id": "9HEaVWRWa0Pk",
        "colab_type": "code",
        "colab": {}
      },
      "source": [
        "text = extractedInformation.encode('utf-8')"
      ],
      "execution_count": null,
      "outputs": []
    },
    {
      "cell_type": "code",
      "metadata": {
        "id": "TEY__Wc7ZEeA",
        "colab_type": "code",
        "colab": {
          "base_uri": "https://localhost:8080/",
          "height": 34
        },
        "outputId": "ee669dce-17b2-46e1-8c3b-f59b77115816"
      },
      "source": [
        "type(extractedInformation),type(text)"
      ],
      "execution_count": null,
      "outputs": [
        {
          "output_type": "execute_result",
          "data": {
            "text/plain": [
              "(str, bytes)"
            ]
          },
          "metadata": {
            "tags": []
          },
          "execution_count": 7
        }
      ]
    },
    {
      "cell_type": "code",
      "metadata": {
        "id": "aw9nJoeqBWZP",
        "colab_type": "code",
        "colab": {
          "base_uri": "https://localhost:8080/",
          "height": 34
        },
        "outputId": "afa16afd-587c-4e87-da66-2c5dab57f9e1"
      },
      "source": [
        "from textblob import TextBlob\n",
        "TextBlob(extractedInformation).sentiment"
      ],
      "execution_count": null,
      "outputs": [
        {
          "output_type": "execute_result",
          "data": {
            "text/plain": [
              "Sentiment(polarity=0.5444444444444444, subjectivity=0.7222222222222223)"
            ]
          },
          "metadata": {
            "tags": []
          },
          "execution_count": 8
        }
      ]
    },
    {
      "cell_type": "code",
      "metadata": {
        "id": "uP6I4BvWbzoR",
        "colab_type": "code",
        "colab": {}
      },
      "source": [
        "converted_list = []\n",
        "\n",
        "for element in extractedInformation.split(\" \"):\n",
        "    converted_list.append(element.replace(\"\\n\",\"\"))"
      ],
      "execution_count": null,
      "outputs": []
    },
    {
      "cell_type": "code",
      "metadata": {
        "id": "y-IhsHpkYLNo",
        "colab_type": "code",
        "colab": {
          "base_uri": "https://localhost:8080/",
          "height": 52
        },
        "outputId": "76e46b55-399a-43e8-a4a4-8e0702544c58"
      },
      "source": [
        "\" \".join(converted_list)"
      ],
      "execution_count": null,
      "outputs": [
        {
          "output_type": "execute_result",
          "data": {
            "application/vnd.google.colaboratory.intrinsic": {
              "type": "string"
            },
            "text/plain": [
              "\"Of course gay mendress well. They didn'tspend all that time inthe closet doing nothing.ee Being Gay & Proud Quoteswww. geckoandfly. com\""
            ]
          },
          "metadata": {
            "tags": []
          },
          "execution_count": 24
        }
      ]
    },
    {
      "cell_type": "code",
      "metadata": {
        "id": "OX8SQ-H8chCg",
        "colab_type": "code",
        "colab": {}
      },
      "source": [
        "path_train = '/content/drive/My Drive/Detect_Sentiments/Data Files/Dataset'"
      ],
      "execution_count": null,
      "outputs": []
    },
    {
      "cell_type": "code",
      "metadata": {
        "id": "JRRR33Ku6JxC",
        "colab_type": "code",
        "colab": {}
      },
      "source": [
        "from textblob import TextBlob\n",
        "def detect_polarity(text):\n",
        "    return TextBlob(text).sentiment.polarity"
      ],
      "execution_count": null,
      "outputs": []
    },
    {
      "cell_type": "code",
      "metadata": {
        "id": "dPE1MIBme__s",
        "colab_type": "code",
        "colab": {}
      },
      "source": [
        "import os\n",
        "img_txt =[]\n",
        "image_name = []\n",
        "polarity =  []\n",
        "for images in os.listdir(path_train):\n",
        "  extractedInformation = pytesseract.image_to_string(Image.open(path_train+'/'+ images))\n",
        "  text = extractedInformation.encode('utf-8')\n",
        "  converted_list = []\n",
        "  for element in extractedInformation.split(\" \"):\n",
        "    converted_list.append(element.replace(\"\\n\",\"\"))\n",
        "  img_txt.append(\" \".join(converted_list))\n",
        "  polarity.append(detect_polarity(extractedInformation))\n",
        "  image_name.append(images)\n",
        "\n",
        "\n",
        "\n"
      ],
      "execution_count": null,
      "outputs": []
    },
    {
      "cell_type": "code",
      "metadata": {
        "id": "vKcCkzOnlb3s",
        "colab_type": "code",
        "colab": {}
      },
      "source": [
        "import pandas as pd\n",
        "train_df = pd.DataFrame({'Image':image_name,'text':img_txt,'polarity':polarity})"
      ],
      "execution_count": null,
      "outputs": []
    },
    {
      "cell_type": "code",
      "metadata": {
        "id": "piLvPHXooFJm",
        "colab_type": "code",
        "colab": {
          "base_uri": "https://localhost:8080/",
          "height": 204
        },
        "outputId": "188053ac-8883-44d8-966e-07022dc19f03"
      },
      "source": [
        "train_df.head()"
      ],
      "execution_count": null,
      "outputs": [
        {
          "output_type": "execute_result",
          "data": {
            "text/html": [
              "<div>\n",
              "<style scoped>\n",
              "    .dataframe tbody tr th:only-of-type {\n",
              "        vertical-align: middle;\n",
              "    }\n",
              "\n",
              "    .dataframe tbody tr th {\n",
              "        vertical-align: top;\n",
              "    }\n",
              "\n",
              "    .dataframe thead th {\n",
              "        text-align: right;\n",
              "    }\n",
              "</style>\n",
              "<table border=\"1\" class=\"dataframe\">\n",
              "  <thead>\n",
              "    <tr style=\"text-align: right;\">\n",
              "      <th></th>\n",
              "      <th>Image</th>\n",
              "      <th>text</th>\n",
              "      <th>polarity</th>\n",
              "    </tr>\n",
              "  </thead>\n",
              "  <tbody>\n",
              "    <tr>\n",
              "      <th>0</th>\n",
              "      <td>Test1902.jpg</td>\n",
              "      <td>Se aCe en asCard———]</td>\n",
              "      <td>0.0</td>\n",
              "    </tr>\n",
              "    <tr>\n",
              "      <th>1</th>\n",
              "      <td>Test1992.jpg</td>\n",
              "      <td>Colt) NGSTEAIGHT'Y BASTERAINBOW’a</td>\n",
              "      <td>0.0</td>\n",
              "    </tr>\n",
              "    <tr>\n",
              "      <th>2</th>\n",
              "      <td>Test2411.jpg</td>\n",
              "      <td>ONE DAYWON'T HAVE TO“COME OUT OFTHE CLOWE'LL J...</td>\n",
              "      <td>0.0</td>\n",
              "    </tr>\n",
              "    <tr>\n",
              "      <th>3</th>\n",
              "      <td>Test3118.jpg</td>\n",
              "      <td>A KEEP CALMAND LOVEWHO YOU WANTior</td>\n",
              "      <td>0.4</td>\n",
              "    </tr>\n",
              "    <tr>\n",
              "      <th>4</th>\n",
              "      <td>Test3130.jpg</td>\n",
              "      <td>Fagms. id2ato be norm.!you will never knowea S...</td>\n",
              "      <td>0.0</td>\n",
              "    </tr>\n",
              "  </tbody>\n",
              "</table>\n",
              "</div>"
            ],
            "text/plain": [
              "          Image                                               text  polarity\n",
              "0  Test1902.jpg                               Se aCe en asCard———]       0.0\n",
              "1  Test1992.jpg                  Colt) NGSTEAIGHT'Y BASTERAINBOW’a       0.0\n",
              "2  Test2411.jpg  ONE DAYWON'T HAVE TO“COME OUT OFTHE CLOWE'LL J...       0.0\n",
              "3  Test3118.jpg                 A KEEP CALMAND LOVEWHO YOU WANTior       0.4\n",
              "4  Test3130.jpg  Fagms. id2ato be norm.!you will never knowea S...       0.0"
            ]
          },
          "metadata": {
            "tags": []
          },
          "execution_count": 13
        }
      ]
    },
    {
      "cell_type": "code",
      "metadata": {
        "id": "slySxGqu8rSy",
        "colab_type": "code",
        "colab": {
          "base_uri": "https://localhost:8080/",
          "height": 204
        },
        "outputId": "2afbe757-0555-4104-dc0f-c19bfc43bdef"
      },
      "source": [
        "train_df[train_df['polarity'] < 0].head()"
      ],
      "execution_count": null,
      "outputs": [
        {
          "output_type": "execute_result",
          "data": {
            "text/html": [
              "<div>\n",
              "<style scoped>\n",
              "    .dataframe tbody tr th:only-of-type {\n",
              "        vertical-align: middle;\n",
              "    }\n",
              "\n",
              "    .dataframe tbody tr th {\n",
              "        vertical-align: top;\n",
              "    }\n",
              "\n",
              "    .dataframe thead th {\n",
              "        text-align: right;\n",
              "    }\n",
              "</style>\n",
              "<table border=\"1\" class=\"dataframe\">\n",
              "  <thead>\n",
              "    <tr style=\"text-align: right;\">\n",
              "      <th></th>\n",
              "      <th>Image</th>\n",
              "      <th>text</th>\n",
              "      <th>polarity</th>\n",
              "    </tr>\n",
              "  </thead>\n",
              "  <tbody>\n",
              "    <tr>\n",
              "      <th>13</th>\n",
              "      <td>Test1785.jpg</td>\n",
              "      <td>To be afraid isBSR tale el)if the truth wereno...</td>\n",
              "      <td>-0.387500</td>\n",
              "    </tr>\n",
              "    <tr>\n",
              "      <th>30</th>\n",
              "      <td>Test2792.jpg</td>\n",
              "      <td>Se ee eePree cae Rettrece ohne)Ceo et ec)Cee e...</td>\n",
              "      <td>-0.166667</td>\n",
              "    </tr>\n",
              "    <tr>\n",
              "      <th>62</th>\n",
              "      <td>Test1884.jpg</td>\n",
              "      <td>Pura ould say}judicrous. mee icnairrational. i...</td>\n",
              "      <td>-0.083333</td>\n",
              "    </tr>\n",
              "    <tr>\n",
              "      <th>93</th>\n",
              "      <td>Test516.jpg</td>\n",
              "      <td>THERE'S NOTHINGWRONG WITH YOU.THERE'S ALO</td>\n",
              "      <td>-0.500000</td>\n",
              "    </tr>\n",
              "    <tr>\n",
              "      <th>99</th>\n",
              "      <td>Test614.jpg</td>\n",
              "      <td>| learnedcompassion frombeing discriminatedaga...</td>\n",
              "      <td>-0.700000</td>\n",
              "    </tr>\n",
              "  </tbody>\n",
              "</table>\n",
              "</div>"
            ],
            "text/plain": [
              "           Image                                               text  polarity\n",
              "13  Test1785.jpg  To be afraid isBSR tale el)if the truth wereno... -0.387500\n",
              "30  Test2792.jpg  Se ee eePree cae Rettrece ohne)Ceo et ec)Cee e... -0.166667\n",
              "62  Test1884.jpg  Pura ould say}judicrous. mee icnairrational. i... -0.083333\n",
              "93   Test516.jpg          THERE'S NOTHINGWRONG WITH YOU.THERE'S ALO -0.500000\n",
              "99   Test614.jpg  | learnedcompassion frombeing discriminatedaga... -0.700000"
            ]
          },
          "metadata": {
            "tags": []
          },
          "execution_count": 14
        }
      ]
    },
    {
      "cell_type": "code",
      "metadata": {
        "id": "Exi26xZloHhr",
        "colab_type": "code",
        "colab": {
          "base_uri": "https://localhost:8080/",
          "height": 204
        },
        "outputId": "2c149d14-5bdb-4ef9-8328-05da14612b68"
      },
      "source": [
        "train_df.tail()"
      ],
      "execution_count": null,
      "outputs": [
        {
          "output_type": "execute_result",
          "data": {
            "text/html": [
              "<div>\n",
              "<style scoped>\n",
              "    .dataframe tbody tr th:only-of-type {\n",
              "        vertical-align: middle;\n",
              "    }\n",
              "\n",
              "    .dataframe tbody tr th {\n",
              "        vertical-align: top;\n",
              "    }\n",
              "\n",
              "    .dataframe thead th {\n",
              "        text-align: right;\n",
              "    }\n",
              "</style>\n",
              "<table border=\"1\" class=\"dataframe\">\n",
              "  <thead>\n",
              "    <tr style=\"text-align: right;\">\n",
              "      <th></th>\n",
              "      <th>Image</th>\n",
              "      <th>text</th>\n",
              "      <th>polarity</th>\n",
              "    </tr>\n",
              "  </thead>\n",
              "  <tbody>\n",
              "    <tr>\n",
              "      <th>234</th>\n",
              "      <td>Test228.jpg</td>\n",
              "      <td></td>\n",
              "      <td>0.0</td>\n",
              "    </tr>\n",
              "    <tr>\n",
              "      <th>235</th>\n",
              "      <td>Test225.jpg</td>\n",
              "      <td></td>\n",
              "      <td>0.0</td>\n",
              "    </tr>\n",
              "    <tr>\n",
              "      <th>236</th>\n",
              "      <td>Test143.jpg</td>\n",
              "      <td></td>\n",
              "      <td>0.0</td>\n",
              "    </tr>\n",
              "    <tr>\n",
              "      <th>237</th>\n",
              "      <td>Test160.jpg</td>\n",
              "      <td></td>\n",
              "      <td>0.0</td>\n",
              "    </tr>\n",
              "    <tr>\n",
              "      <th>238</th>\n",
              "      <td>Test236.jpg</td>\n",
              "      <td></td>\n",
              "      <td>0.0</td>\n",
              "    </tr>\n",
              "  </tbody>\n",
              "</table>\n",
              "</div>"
            ],
            "text/plain": [
              "           Image text  polarity\n",
              "234  Test228.jpg            0.0\n",
              "235  Test225.jpg            0.0\n",
              "236  Test143.jpg            0.0\n",
              "237  Test160.jpg            0.0\n",
              "238  Test236.jpg            0.0"
            ]
          },
          "metadata": {
            "tags": []
          },
          "execution_count": 11
        }
      ]
    },
    {
      "cell_type": "code",
      "metadata": {
        "id": "wueYTUKTWqyV",
        "colab_type": "code",
        "colab": {}
      },
      "source": [
        "def filltext(text):\n",
        "  if text =='':\n",
        "    return 'no text'\n",
        "  else:\n",
        "    return text"
      ],
      "execution_count": null,
      "outputs": []
    },
    {
      "cell_type": "code",
      "metadata": {
        "id": "6hTDJGOjU8x1",
        "colab_type": "code",
        "colab": {}
      },
      "source": [
        "train_df['text']  = train_df['text'].apply(lambda x : filltext(x))"
      ],
      "execution_count": null,
      "outputs": []
    },
    {
      "cell_type": "code",
      "metadata": {
        "id": "0jWRjBvjoU-K",
        "colab_type": "code",
        "colab": {
          "base_uri": "https://localhost:8080/",
          "height": 80
        },
        "outputId": "58f50c21-ce77-4e72-952e-32535bfe9830"
      },
      "source": [
        "train_df[train_df['Image'] == 'Test206.jpg']"
      ],
      "execution_count": null,
      "outputs": [
        {
          "output_type": "execute_result",
          "data": {
            "text/html": [
              "<div>\n",
              "<style scoped>\n",
              "    .dataframe tbody tr th:only-of-type {\n",
              "        vertical-align: middle;\n",
              "    }\n",
              "\n",
              "    .dataframe tbody tr th {\n",
              "        vertical-align: top;\n",
              "    }\n",
              "\n",
              "    .dataframe thead th {\n",
              "        text-align: right;\n",
              "    }\n",
              "</style>\n",
              "<table border=\"1\" class=\"dataframe\">\n",
              "  <thead>\n",
              "    <tr style=\"text-align: right;\">\n",
              "      <th></th>\n",
              "      <th>Image</th>\n",
              "      <th>text</th>\n",
              "      <th>polarity</th>\n",
              "    </tr>\n",
              "  </thead>\n",
              "  <tbody>\n",
              "    <tr>\n",
              "      <th>181</th>\n",
              "      <td>Test206.jpg</td>\n",
              "      <td>Bote Verses aganstde verses agars! homosemuali...</td>\n",
              "      <td>0.520833</td>\n",
              "    </tr>\n",
              "  </tbody>\n",
              "</table>\n",
              "</div>"
            ],
            "text/plain": [
              "           Image                                               text  polarity\n",
              "181  Test206.jpg  Bote Verses aganstde verses agars! homosemuali...  0.520833"
            ]
          },
          "metadata": {
            "tags": []
          },
          "execution_count": 17
        }
      ]
    },
    {
      "cell_type": "code",
      "metadata": {
        "id": "EMSFOOPo0isE",
        "colab_type": "code",
        "colab": {}
      },
      "source": [
        "homophobic_words = ['gay','homosexual','lesbian','closeted','flammer','faggot','homo','lgbt','bisexual','sassy','homophobia','lgbtqia','mlm','pansexual']"
      ],
      "execution_count": null,
      "outputs": []
    },
    {
      "cell_type": "code",
      "metadata": {
        "id": "V7CPKn5QAfRs",
        "colab_type": "code",
        "colab": {}
      },
      "source": [
        "def detect_category(val):\n",
        "    if val > 0 :\n",
        "      return 'Positive'\n",
        "    elif val < 0:\n",
        "      return 'Negative'\n",
        "    else:\n",
        "      return 'Random'"
      ],
      "execution_count": null,
      "outputs": []
    },
    {
      "cell_type": "code",
      "metadata": {
        "id": "2RKo0_VT9yG_",
        "colab_type": "code",
        "colab": {}
      },
      "source": [
        "train_df['category'] = train_df['polarity'].apply(detect_category)"
      ],
      "execution_count": null,
      "outputs": []
    },
    {
      "cell_type": "code",
      "metadata": {
        "id": "QJjUCTWaBGp8",
        "colab_type": "code",
        "colab": {
          "base_uri": "https://localhost:8080/",
          "height": 350
        },
        "outputId": "9fb7da69-cac6-449d-c782-de3d880ad2e0"
      },
      "source": [
        "import seaborn as sns\n",
        "sns.countplot(train_df['category'])"
      ],
      "execution_count": null,
      "outputs": [
        {
          "output_type": "stream",
          "text": [
            "/usr/local/lib/python3.6/dist-packages/statsmodels/tools/_testing.py:19: FutureWarning: pandas.util.testing is deprecated. Use the functions in the public API at pandas.testing instead.\n",
            "  import pandas.util.testing as tm\n"
          ],
          "name": "stderr"
        },
        {
          "output_type": "execute_result",
          "data": {
            "text/plain": [
              "<matplotlib.axes._subplots.AxesSubplot at 0x7f30f6d98dd8>"
            ]
          },
          "metadata": {
            "tags": []
          },
          "execution_count": 20
        },
        {
          "output_type": "display_data",
          "data": {
            "image/png": "[encoded data removed]",
            "text/plain": [
              "<Figure size 432x288 with 1 Axes>"
            ]
          },
          "metadata": {
            "tags": [],
            "needs_background": "light"
          }
        }
      ]
    },
    {
      "cell_type": "code",
      "metadata": {
        "id": "Y9hW-jgxBN47",
        "colab_type": "code",
        "colab": {
          "base_uri": "https://localhost:8080/",
          "height": 34
        },
        "outputId": "9c52ebd2-2e3f-462a-b7d6-6e35ca62e9e5"
      },
      "source": [
        "train_df.isnull().sum()[train_df.isnull().sum() > 0]"
      ],
      "execution_count": null,
      "outputs": [
        {
          "output_type": "execute_result",
          "data": {
            "text/plain": [
              "Series([], dtype: int64)"
            ]
          },
          "metadata": {
            "tags": []
          },
          "execution_count": 21
        }
      ]
    },
    {
      "cell_type": "code",
      "metadata": {
        "id": "2qI3SXLzFlmj",
        "colab_type": "code",
        "colab": {
          "base_uri": "https://localhost:8080/",
          "height": 204
        },
        "outputId": "c0852080-c23c-41a0-9a75-c41d547dd551"
      },
      "source": [
        "train_df.head()"
      ],
      "execution_count": null,
      "outputs": [
        {
          "output_type": "execute_result",
          "data": {
            "text/html": [
              "<div>\n",
              "<style scoped>\n",
              "    .dataframe tbody tr th:only-of-type {\n",
              "        vertical-align: middle;\n",
              "    }\n",
              "\n",
              "    .dataframe tbody tr th {\n",
              "        vertical-align: top;\n",
              "    }\n",
              "\n",
              "    .dataframe thead th {\n",
              "        text-align: right;\n",
              "    }\n",
              "</style>\n",
              "<table border=\"1\" class=\"dataframe\">\n",
              "  <thead>\n",
              "    <tr style=\"text-align: right;\">\n",
              "      <th></th>\n",
              "      <th>Image</th>\n",
              "      <th>text</th>\n",
              "      <th>polarity</th>\n",
              "      <th>category</th>\n",
              "    </tr>\n",
              "  </thead>\n",
              "  <tbody>\n",
              "    <tr>\n",
              "      <th>0</th>\n",
              "      <td>Test1902.jpg</td>\n",
              "      <td>Se aCe en asCard———]</td>\n",
              "      <td>0.0</td>\n",
              "      <td>Random</td>\n",
              "    </tr>\n",
              "    <tr>\n",
              "      <th>1</th>\n",
              "      <td>Test1992.jpg</td>\n",
              "      <td>Colt) NGSTEAIGHT'Y BASTERAINBOW’a</td>\n",
              "      <td>0.0</td>\n",
              "      <td>Random</td>\n",
              "    </tr>\n",
              "    <tr>\n",
              "      <th>2</th>\n",
              "      <td>Test2411.jpg</td>\n",
              "      <td>ONE DAYWON'T HAVE TO“COME OUT OFTHE CLOWE'LL J...</td>\n",
              "      <td>0.0</td>\n",
              "      <td>Random</td>\n",
              "    </tr>\n",
              "    <tr>\n",
              "      <th>3</th>\n",
              "      <td>Test3118.jpg</td>\n",
              "      <td>A KEEP CALMAND LOVEWHO YOU WANTior</td>\n",
              "      <td>0.4</td>\n",
              "      <td>Positive</td>\n",
              "    </tr>\n",
              "    <tr>\n",
              "      <th>4</th>\n",
              "      <td>Test3130.jpg</td>\n",
              "      <td>Fagms. id2ato be norm.!you will never knowea S...</td>\n",
              "      <td>0.0</td>\n",
              "      <td>Random</td>\n",
              "    </tr>\n",
              "  </tbody>\n",
              "</table>\n",
              "</div>"
            ],
            "text/plain": [
              "          Image  ...  category\n",
              "0  Test1902.jpg  ...    Random\n",
              "1  Test1992.jpg  ...    Random\n",
              "2  Test2411.jpg  ...    Random\n",
              "3  Test3118.jpg  ...  Positive\n",
              "4  Test3130.jpg  ...    Random\n",
              "\n",
              "[5 rows x 4 columns]"
            ]
          },
          "metadata": {
            "tags": []
          },
          "execution_count": 22
        }
      ]
    },
    {
      "cell_type": "code",
      "metadata": {
        "id": "FHOkzR-MUSmA",
        "colab_type": "code",
        "colab": {}
      },
      "source": [
        "data = train_df[['text','category']].copy()"
      ],
      "execution_count": null,
      "outputs": []
    },
    {
      "cell_type": "code",
      "metadata": {
        "id": "KY0F6m2uZfJF",
        "colab_type": "code",
        "colab": {
          "base_uri": "https://localhost:8080/",
          "height": 204
        },
        "outputId": "c67b7c43-cc3b-4622-b9b0-5ea9dfa1f5ed"
      },
      "source": [
        "data.tail()"
      ],
      "execution_count": null,
      "outputs": [
        {
          "output_type": "execute_result",
          "data": {
            "text/html": [
              "<div>\n",
              "<style scoped>\n",
              "    .dataframe tbody tr th:only-of-type {\n",
              "        vertical-align: middle;\n",
              "    }\n",
              "\n",
              "    .dataframe tbody tr th {\n",
              "        vertical-align: top;\n",
              "    }\n",
              "\n",
              "    .dataframe thead th {\n",
              "        text-align: right;\n",
              "    }\n",
              "</style>\n",
              "<table border=\"1\" class=\"dataframe\">\n",
              "  <thead>\n",
              "    <tr style=\"text-align: right;\">\n",
              "      <th></th>\n",
              "      <th>text</th>\n",
              "      <th>category</th>\n",
              "    </tr>\n",
              "  </thead>\n",
              "  <tbody>\n",
              "    <tr>\n",
              "      <th>234</th>\n",
              "      <td>no text</td>\n",
              "      <td>Random</td>\n",
              "    </tr>\n",
              "    <tr>\n",
              "      <th>235</th>\n",
              "      <td>no text</td>\n",
              "      <td>Random</td>\n",
              "    </tr>\n",
              "    <tr>\n",
              "      <th>236</th>\n",
              "      <td>no text</td>\n",
              "      <td>Random</td>\n",
              "    </tr>\n",
              "    <tr>\n",
              "      <th>237</th>\n",
              "      <td>no text</td>\n",
              "      <td>Random</td>\n",
              "    </tr>\n",
              "    <tr>\n",
              "      <th>238</th>\n",
              "      <td>no text</td>\n",
              "      <td>Random</td>\n",
              "    </tr>\n",
              "  </tbody>\n",
              "</table>\n",
              "</div>"
            ],
            "text/plain": [
              "        text category\n",
              "234  no text   Random\n",
              "235  no text   Random\n",
              "236  no text   Random\n",
              "237  no text   Random\n",
              "238  no text   Random"
            ]
          },
          "metadata": {
            "tags": []
          },
          "execution_count": 24
        }
      ]
    },
    {
      "cell_type": "code",
      "metadata": {
        "id": "ryS3FC_hZqhs",
        "colab_type": "code",
        "colab": {}
      },
      "source": [
        "#!pip install texthero"
      ],
      "execution_count": null,
      "outputs": []
    },
    {
      "cell_type": "code",
      "metadata": {
        "id": "UJEMctPycLBU",
        "colab_type": "code",
        "colab": {
          "base_uri": "https://localhost:8080/",
          "height": 105
        },
        "outputId": "41f275ce-7a16-499b-d4d2-9250dbf3bfd9"
      },
      "source": [
        "pip install config"
      ],
      "execution_count": null,
      "outputs": [
        {
          "output_type": "stream",
          "text": [
            "Collecting config\n",
            "  Downloading https://files.pythonhosted.org/packages/67/af/a7c8be986afee4cf277045cfdb06605296ff3f1a1de415d62c18a7a33040/config-0.5.0.post0-py2.py3-none-any.whl\n",
            "Installing collected packages: config\n",
            "Successfully installed config-0.5.0.post0\n"
          ],
          "name": "stdout"
        }
      ]
    },
    {
      "cell_type": "code",
      "metadata": {
        "id": "hSu4_g3wcCy2",
        "colab_type": "code",
        "colab": {}
      },
      "source": [
        "import texthero as hero\n"
      ],
      "execution_count": null,
      "outputs": []
    },
    {
      "cell_type": "code",
      "metadata": {
        "id": "nG1pl2PDce5F",
        "colab_type": "code",
        "colab": {}
      },
      "source": [
        "data['clean_text'] = hero.clean(data['text'])"
      ],
      "execution_count": null,
      "outputs": []
    },
    {
      "cell_type": "code",
      "metadata": {
        "id": "425VTqumcr-q",
        "colab_type": "code",
        "colab": {
          "base_uri": "https://localhost:8080/",
          "height": 204
        },
        "outputId": "672abf79-ea25-4969-a254-7fc1ddbb15ce"
      },
      "source": [
        "data.head()"
      ],
      "execution_count": null,
      "outputs": [
        {
          "output_type": "execute_result",
          "data": {
            "text/html": [
              "<div>\n",
              "<style scoped>\n",
              "    .dataframe tbody tr th:only-of-type {\n",
              "        vertical-align: middle;\n",
              "    }\n",
              "\n",
              "    .dataframe tbody tr th {\n",
              "        vertical-align: top;\n",
              "    }\n",
              "\n",
              "    .dataframe thead th {\n",
              "        text-align: right;\n",
              "    }\n",
              "</style>\n",
              "<table border=\"1\" class=\"dataframe\">\n",
              "  <thead>\n",
              "    <tr style=\"text-align: right;\">\n",
              "      <th></th>\n",
              "      <th>text</th>\n",
              "      <th>category</th>\n",
              "      <th>clean_text</th>\n",
              "    </tr>\n",
              "  </thead>\n",
              "  <tbody>\n",
              "    <tr>\n",
              "      <th>0</th>\n",
              "      <td>Se aCe en asCard———]</td>\n",
              "      <td>Random</td>\n",
              "      <td>se ace en ascard</td>\n",
              "    </tr>\n",
              "    <tr>\n",
              "      <th>1</th>\n",
              "      <td>Colt) NGSTEAIGHT'Y BASTERAINBOW’a</td>\n",
              "      <td>Random</td>\n",
              "      <td>colt ngsteaight basterainbow</td>\n",
              "    </tr>\n",
              "    <tr>\n",
              "      <th>2</th>\n",
              "      <td>ONE DAYWON'T HAVE TO“COME OUT OFTHE CLOWE'LL J...</td>\n",
              "      <td>Random</td>\n",
              "      <td>one daywon come ofthe clowe ju veps ty l beall...</td>\n",
              "    </tr>\n",
              "    <tr>\n",
              "      <th>3</th>\n",
              "      <td>A KEEP CALMAND LOVEWHO YOU WANTior</td>\n",
              "      <td>Positive</td>\n",
              "      <td>keep calmand lovewho wantior</td>\n",
              "    </tr>\n",
              "    <tr>\n",
              "      <th>4</th>\n",
              "      <td>Fagms. id2ato be norm.!you will never knowea S...</td>\n",
              "      <td>Random</td>\n",
              "      <td>fagms id2ato norm never knowea seareaie oesa chia</td>\n",
              "    </tr>\n",
              "  </tbody>\n",
              "</table>\n",
              "</div>"
            ],
            "text/plain": [
              "                                                text  ...                                         clean_text\n",
              "0                               Se aCe en asCard———]  ...                                   se ace en ascard\n",
              "1                  Colt) NGSTEAIGHT'Y BASTERAINBOW’a  ...                       colt ngsteaight basterainbow\n",
              "2  ONE DAYWON'T HAVE TO“COME OUT OFTHE CLOWE'LL J...  ...  one daywon come ofthe clowe ju veps ty l beall...\n",
              "3                 A KEEP CALMAND LOVEWHO YOU WANTior  ...                       keep calmand lovewho wantior\n",
              "4  Fagms. id2ato be norm.!you will never knowea S...  ...  fagms id2ato norm never knowea seareaie oesa chia\n",
              "\n",
              "[5 rows x 3 columns]"
            ]
          },
          "metadata": {
            "tags": []
          },
          "execution_count": 136
        }
      ]
    },
    {
      "cell_type": "code",
      "metadata": {
        "id": "Y8qHkbhgcw4J",
        "colab_type": "code",
        "colab": {}
      },
      "source": [
        "from texthero import preprocessing\n",
        "#create a custom cleaning pipeline\n",
        "custom_pipeline = [preprocessing.fillna\n",
        "                   , preprocessing.lowercase\n",
        "                   , preprocessing.remove_digits\n",
        "                   , preprocessing.remove_punctuation\n",
        "                   , preprocessing.remove_diacritics\n",
        "                   , preprocessing.remove_stopwords\n",
        "                   , preprocessing.remove_whitespace\n",
        "                   , preprocessing.stem]"
      ],
      "execution_count": null,
      "outputs": []
    },
    {
      "cell_type": "code",
      "metadata": {
        "id": "R1IAtp8HdI_R",
        "colab_type": "code",
        "colab": {
          "base_uri": "https://localhost:8080/",
          "height": 204
        },
        "outputId": "f1588134-b561-41c7-8172-e623efc4345f"
      },
      "source": [
        "#pass the custom_pipeline to the pipeline argument\n",
        "data['clean_text'] = hero.clean(data['text'], pipeline = custom_pipeline)\n",
        "data.head()"
      ],
      "execution_count": null,
      "outputs": [
        {
          "output_type": "execute_result",
          "data": {
            "text/html": [
              "<div>\n",
              "<style scoped>\n",
              "    .dataframe tbody tr th:only-of-type {\n",
              "        vertical-align: middle;\n",
              "    }\n",
              "\n",
              "    .dataframe tbody tr th {\n",
              "        vertical-align: top;\n",
              "    }\n",
              "\n",
              "    .dataframe thead th {\n",
              "        text-align: right;\n",
              "    }\n",
              "</style>\n",
              "<table border=\"1\" class=\"dataframe\">\n",
              "  <thead>\n",
              "    <tr style=\"text-align: right;\">\n",
              "      <th></th>\n",
              "      <th>text</th>\n",
              "      <th>category</th>\n",
              "      <th>clean_text</th>\n",
              "    </tr>\n",
              "  </thead>\n",
              "  <tbody>\n",
              "    <tr>\n",
              "      <th>0</th>\n",
              "      <td>Se aCe en asCard———]</td>\n",
              "      <td>Random</td>\n",
              "      <td>se ace en ascard</td>\n",
              "    </tr>\n",
              "    <tr>\n",
              "      <th>1</th>\n",
              "      <td>Colt) NGSTEAIGHT'Y BASTERAINBOW’a</td>\n",
              "      <td>Random</td>\n",
              "      <td>colt ngsteaight basterainbow</td>\n",
              "    </tr>\n",
              "    <tr>\n",
              "      <th>2</th>\n",
              "      <td>ONE DAYWON'T HAVE TO“COME OUT OFTHE CLOWE'LL J...</td>\n",
              "      <td>Random</td>\n",
              "      <td>one daywon come ofth clow ju vep ty l beall ma...</td>\n",
              "    </tr>\n",
              "    <tr>\n",
              "      <th>3</th>\n",
              "      <td>A KEEP CALMAND LOVEWHO YOU WANTior</td>\n",
              "      <td>Positive</td>\n",
              "      <td>keep calmand lovewho wantior</td>\n",
              "    </tr>\n",
              "    <tr>\n",
              "      <th>4</th>\n",
              "      <td>Fagms. id2ato be norm.!you will never knowea S...</td>\n",
              "      <td>Random</td>\n",
              "      <td>fagm id2ato norm never knowea seareai oesa chia</td>\n",
              "    </tr>\n",
              "  </tbody>\n",
              "</table>\n",
              "</div>"
            ],
            "text/plain": [
              "                                                text  ...                                         clean_text\n",
              "0                               Se aCe en asCard———]  ...                                   se ace en ascard\n",
              "1                  Colt) NGSTEAIGHT'Y BASTERAINBOW’a  ...                       colt ngsteaight basterainbow\n",
              "2  ONE DAYWON'T HAVE TO“COME OUT OFTHE CLOWE'LL J...  ...  one daywon come ofth clow ju vep ty l beall ma...\n",
              "3                 A KEEP CALMAND LOVEWHO YOU WANTior  ...                       keep calmand lovewho wantior\n",
              "4  Fagms. id2ato be norm.!you will never knowea S...  ...    fagm id2ato norm never knowea seareai oesa chia\n",
              "\n",
              "[5 rows x 3 columns]"
            ]
          },
          "metadata": {
            "tags": []
          },
          "execution_count": 138
        }
      ]
    },
    {
      "cell_type": "code",
      "metadata": {
        "id": "uBSkcwMRdRsF",
        "colab_type": "code",
        "colab": {
          "base_uri": "https://localhost:8080/",
          "height": 644
        },
        "outputId": "f673d3fc-c663-4a60-b78b-8c2fd07f47ec"
      },
      "source": [
        "tw = hero.visualization.top_words(data['clean_text']).head(10)\n",
        "import plotly.express as px\n",
        "fig = px.bar(tw)\n",
        "fig.show()\n",
        "tw.head()"
      ],
      "execution_count": null,
      "outputs": [
        {
          "output_type": "display_data",
          "data": {
            "text/html": [
              "<html>\n",
              "<head><meta charset=\"utf-8\" /></head>\n",
              "<body>\n",
              "    <div>\n",
              "            <script src=\"https://cdnjs.cloudflare.com/ajax/libs/mathjax/2.7.5/MathJax.js?config=TeX-AMS-MML_SVG\"></script><script type=\"text/javascript\">if (window.MathJax) {MathJax.Hub.Config({SVG: {font: \"STIX-Web\"}});}</script>\n",
              "                <script type=\"text/javascript\">window.PlotlyConfig = {MathJaxConfig: 'local'};</script>\n",
              "        <script src=\"https://cdn.plot.ly/plotly-latest.min.js\"></script>    \n",
              "            <div id=\"95f9b88b-da4a-4d1d-a197-522571045ef4\" class=\"plotly-graph-div\" style=\"height:525px; width:100%;\"></div>\n",
              "            <script type=\"text/javascript\">\n",
              "                \n",
              "                    window.PLOTLYENV=window.PLOTLYENV || {};\n",
              "                    \n",
              "                if (document.getElementById(\"95f9b88b-da4a-4d1d-a197-522571045ef4\")) {\n",
              "                    Plotly.newPlot(\n",
              "                        '95f9b88b-da4a-4d1d-a197-522571045ef4',\n",
              "                        [],\n",
              "                        {\"barmode\": \"relative\", \"legend\": {\"tracegroupgap\": 0}, \"margin\": {\"t\": 60}, \"template\": {\"data\": {\"bar\": [{\"error_x\": {\"color\": \"#2a3f5f\"}, \"error_y\": {\"color\": \"#2a3f5f\"}, \"marker\": {\"line\": {\"color\": \"#E5ECF6\", \"width\": 0.5}}, \"type\": \"bar\"}], \"barpolar\": [{\"marker\": {\"line\": {\"color\": \"#E5ECF6\", \"width\": 0.5}}, \"type\": \"barpolar\"}], \"carpet\": [{\"aaxis\": {\"endlinecolor\": \"#2a3f5f\", \"gridcolor\": \"white\", \"linecolor\": \"white\", \"minorgridcolor\": \"white\", \"startlinecolor\": \"#2a3f5f\"}, \"baxis\": {\"endlinecolor\": \"#2a3f5f\", \"gridcolor\": \"white\", \"linecolor\": \"white\", \"minorgridcolor\": \"white\", \"startlinecolor\": \"#2a3f5f\"}, \"type\": \"carpet\"}], \"choropleth\": [{\"colorbar\": {\"outlinewidth\": 0, \"ticks\": \"\"}, \"type\": \"choropleth\"}], \"contour\": [{\"colorbar\": {\"outlinewidth\": 0, \"ticks\": \"\"}, \"colorscale\": [[0.0, \"#0d0887\"], [0.1111111111111111, \"#46039f\"], [0.2222222222222222, \"#7201a8\"], [0.3333333333333333, \"#9c179e\"], [0.4444444444444444, \"#bd3786\"], [0.5555555555555556, \"#d8576b\"], [0.6666666666666666, \"#ed7953\"], [0.7777777777777778, \"#fb9f3a\"], [0.8888888888888888, \"#fdca26\"], [1.0, \"#f0f921\"]], \"type\": \"contour\"}], \"contourcarpet\": [{\"colorbar\": {\"outlinewidth\": 0, \"ticks\": \"\"}, \"type\": \"contourcarpet\"}], \"heatmap\": [{\"colorbar\": {\"outlinewidth\": 0, \"ticks\": \"\"}, \"colorscale\": [[0.0, \"#0d0887\"], [0.1111111111111111, \"#46039f\"], [0.2222222222222222, \"#7201a8\"], [0.3333333333333333, \"#9c179e\"], [0.4444444444444444, \"#bd3786\"], [0.5555555555555556, \"#d8576b\"], [0.6666666666666666, \"#ed7953\"], [0.7777777777777778, \"#fb9f3a\"], [0.8888888888888888, \"#fdca26\"], [1.0, \"#f0f921\"]], \"type\": \"heatmap\"}], \"heatmapgl\": [{\"colorbar\": {\"outlinewidth\": 0, \"ticks\": \"\"}, \"colorscale\": [[0.0, \"#0d0887\"], [0.1111111111111111, \"#46039f\"], [0.2222222222222222, \"#7201a8\"], [0.3333333333333333, \"#9c179e\"], [0.4444444444444444, \"#bd3786\"], [0.5555555555555556, \"#d8576b\"], [0.6666666666666666, \"#ed7953\"], [0.7777777777777778, \"#fb9f3a\"], [0.8888888888888888, \"#fdca26\"], [1.0, \"#f0f921\"]], \"type\": \"heatmapgl\"}], \"histogram\": [{\"marker\": {\"colorbar\": {\"outlinewidth\": 0, \"ticks\": \"\"}}, \"type\": \"histogram\"}], \"histogram2d\": [{\"colorbar\": {\"outlinewidth\": 0, \"ticks\": \"\"}, \"colorscale\": [[0.0, \"#0d0887\"], [0.1111111111111111, \"#46039f\"], [0.2222222222222222, \"#7201a8\"], [0.3333333333333333, \"#9c179e\"], [0.4444444444444444, \"#bd3786\"], [0.5555555555555556, \"#d8576b\"], [0.6666666666666666, \"#ed7953\"], [0.7777777777777778, \"#fb9f3a\"], [0.8888888888888888, \"#fdca26\"], [1.0, \"#f0f921\"]], \"type\": \"histogram2d\"}], \"histogram2dcontour\": [{\"colorbar\": {\"outlinewidth\": 0, \"ticks\": \"\"}, \"colorscale\": [[0.0, \"#0d0887\"], [0.1111111111111111, \"#46039f\"], [0.2222222222222222, \"#7201a8\"], [0.3333333333333333, \"#9c179e\"], [0.4444444444444444, \"#bd3786\"], [0.5555555555555556, \"#d8576b\"], [0.6666666666666666, \"#ed7953\"], [0.7777777777777778, \"#fb9f3a\"], [0.8888888888888888, \"#fdca26\"], [1.0, \"#f0f921\"]], \"type\": \"histogram2dcontour\"}], \"mesh3d\": [{\"colorbar\": {\"outlinewidth\": 0, \"ticks\": \"\"}, \"type\": \"mesh3d\"}], \"parcoords\": [{\"line\": {\"colorbar\": {\"outlinewidth\": 0, \"ticks\": \"\"}}, \"type\": \"parcoords\"}], \"pie\": [{\"automargin\": true, \"type\": \"pie\"}], \"scatter\": [{\"marker\": {\"colorbar\": {\"outlinewidth\": 0, \"ticks\": \"\"}}, \"type\": \"scatter\"}], \"scatter3d\": [{\"line\": {\"colorbar\": {\"outlinewidth\": 0, \"ticks\": \"\"}}, \"marker\": {\"colorbar\": {\"outlinewidth\": 0, \"ticks\": \"\"}}, \"type\": \"scatter3d\"}], \"scattercarpet\": [{\"marker\": {\"colorbar\": {\"outlinewidth\": 0, \"ticks\": \"\"}}, \"type\": \"scattercarpet\"}], \"scattergeo\": [{\"marker\": {\"colorbar\": {\"outlinewidth\": 0, \"ticks\": \"\"}}, \"type\": \"scattergeo\"}], \"scattergl\": [{\"marker\": {\"colorbar\": {\"outlinewidth\": 0, \"ticks\": \"\"}}, \"type\": \"scattergl\"}], \"scattermapbox\": [{\"marker\": {\"colorbar\": {\"outlinewidth\": 0, \"ticks\": \"\"}}, \"type\": \"scattermapbox\"}], \"scatterpolar\": [{\"marker\": {\"colorbar\": {\"outlinewidth\": 0, \"ticks\": \"\"}}, \"type\": \"scatterpolar\"}], \"scatterpolargl\": [{\"marker\": {\"colorbar\": {\"outlinewidth\": 0, \"ticks\": \"\"}}, \"type\": \"scatterpolargl\"}], \"scatterternary\": [{\"marker\": {\"colorbar\": {\"outlinewidth\": 0, \"ticks\": \"\"}}, \"type\": \"scatterternary\"}], \"surface\": [{\"colorbar\": {\"outlinewidth\": 0, \"ticks\": \"\"}, \"colorscale\": [[0.0, \"#0d0887\"], [0.1111111111111111, \"#46039f\"], [0.2222222222222222, \"#7201a8\"], [0.3333333333333333, \"#9c179e\"], [0.4444444444444444, \"#bd3786\"], [0.5555555555555556, \"#d8576b\"], [0.6666666666666666, \"#ed7953\"], [0.7777777777777778, \"#fb9f3a\"], [0.8888888888888888, \"#fdca26\"], [1.0, \"#f0f921\"]], \"type\": \"surface\"}], \"table\": [{\"cells\": {\"fill\": {\"color\": \"#EBF0F8\"}, \"line\": {\"color\": \"white\"}}, \"header\": {\"fill\": {\"color\": \"#C8D4E3\"}, \"line\": {\"color\": \"white\"}}, \"type\": \"table\"}]}, \"layout\": {\"annotationdefaults\": {\"arrowcolor\": \"#2a3f5f\", \"arrowhead\": 0, \"arrowwidth\": 1}, \"coloraxis\": {\"colorbar\": {\"outlinewidth\": 0, \"ticks\": \"\"}}, \"colorscale\": {\"diverging\": [[0, \"#8e0152\"], [0.1, \"#c51b7d\"], [0.2, \"#de77ae\"], [0.3, \"#f1b6da\"], [0.4, \"#fde0ef\"], [0.5, \"#f7f7f7\"], [0.6, \"#e6f5d0\"], [0.7, \"#b8e186\"], [0.8, \"#7fbc41\"], [0.9, \"#4d9221\"], [1, \"#276419\"]], \"sequential\": [[0.0, \"#0d0887\"], [0.1111111111111111, \"#46039f\"], [0.2222222222222222, \"#7201a8\"], [0.3333333333333333, \"#9c179e\"], [0.4444444444444444, \"#bd3786\"], [0.5555555555555556, \"#d8576b\"], [0.6666666666666666, \"#ed7953\"], [0.7777777777777778, \"#fb9f3a\"], [0.8888888888888888, \"#fdca26\"], [1.0, \"#f0f921\"]], \"sequentialminus\": [[0.0, \"#0d0887\"], [0.1111111111111111, \"#46039f\"], [0.2222222222222222, \"#7201a8\"], [0.3333333333333333, \"#9c179e\"], [0.4444444444444444, \"#bd3786\"], [0.5555555555555556, \"#d8576b\"], [0.6666666666666666, \"#ed7953\"], [0.7777777777777778, \"#fb9f3a\"], [0.8888888888888888, \"#fdca26\"], [1.0, \"#f0f921\"]]}, \"colorway\": [\"#636efa\", \"#EF553B\", \"#00cc96\", \"#ab63fa\", \"#FFA15A\", \"#19d3f3\", \"#FF6692\", \"#B6E880\", \"#FF97FF\", \"#FECB52\"], \"font\": {\"color\": \"#2a3f5f\"}, \"geo\": {\"bgcolor\": \"white\", \"lakecolor\": \"white\", \"landcolor\": \"#E5ECF6\", \"showlakes\": true, \"showland\": true, \"subunitcolor\": \"white\"}, \"hoverlabel\": {\"align\": \"left\"}, \"hovermode\": \"closest\", \"mapbox\": {\"style\": \"light\"}, \"paper_bgcolor\": \"white\", \"plot_bgcolor\": \"#E5ECF6\", \"polar\": {\"angularaxis\": {\"gridcolor\": \"white\", \"linecolor\": \"white\", \"ticks\": \"\"}, \"bgcolor\": \"#E5ECF6\", \"radialaxis\": {\"gridcolor\": \"white\", \"linecolor\": \"white\", \"ticks\": \"\"}}, \"scene\": {\"xaxis\": {\"backgroundcolor\": \"#E5ECF6\", \"gridcolor\": \"white\", \"gridwidth\": 2, \"linecolor\": \"white\", \"showbackground\": true, \"ticks\": \"\", \"zerolinecolor\": \"white\"}, \"yaxis\": {\"backgroundcolor\": \"#E5ECF6\", \"gridcolor\": \"white\", \"gridwidth\": 2, \"linecolor\": \"white\", \"showbackground\": true, \"ticks\": \"\", \"zerolinecolor\": \"white\"}, \"zaxis\": {\"backgroundcolor\": \"#E5ECF6\", \"gridcolor\": \"white\", \"gridwidth\": 2, \"linecolor\": \"white\", \"showbackground\": true, \"ticks\": \"\", \"zerolinecolor\": \"white\"}}, \"shapedefaults\": {\"line\": {\"color\": \"#2a3f5f\"}}, \"ternary\": {\"aaxis\": {\"gridcolor\": \"white\", \"linecolor\": \"white\", \"ticks\": \"\"}, \"baxis\": {\"gridcolor\": \"white\", \"linecolor\": \"white\", \"ticks\": \"\"}, \"bgcolor\": \"#E5ECF6\", \"caxis\": {\"gridcolor\": \"white\", \"linecolor\": \"white\", \"ticks\": \"\"}}, \"title\": {\"x\": 0.05}, \"xaxis\": {\"automargin\": true, \"gridcolor\": \"white\", \"linecolor\": \"white\", \"ticks\": \"\", \"title\": {\"standoff\": 15}, \"zerolinecolor\": \"white\", \"zerolinewidth\": 2}, \"yaxis\": {\"automargin\": true, \"gridcolor\": \"white\", \"linecolor\": \"white\", \"ticks\": \"\", \"title\": {\"standoff\": 15}, \"zerolinecolor\": \"white\", \"zerolinewidth\": 2}}}, \"xaxis\": {\"anchor\": \"y\", \"domain\": [0.0, 1.0]}, \"yaxis\": {\"anchor\": \"x\", \"domain\": [0.0, 1.0]}},\n",
              "                        {\"responsive\": true}\n",
              "                    ).then(function(){\n",
              "                            \n",
              "var gd = document.getElementById('95f9b88b-da4a-4d1d-a197-522571045ef4');\n",
              "var x = new MutationObserver(function (mutations, observer) {{\n",
              "        var display = window.getComputedStyle(gd).display;\n",
              "        if (!display || display === 'none') {{\n",
              "            console.log([gd, 'removed!']);\n",
              "            Plotly.purge(gd);\n",
              "            observer.disconnect();\n",
              "        }}\n",
              "}});\n",
              "\n",
              "// Listen for the removal of the full notebook cells\n",
              "var notebookContainer = gd.closest('#notebook-container');\n",
              "if (notebookContainer) {{\n",
              "    x.observe(notebookContainer, {childList: true});\n",
              "}}\n",
              "\n",
              "// Listen for the clearing of the current output cell\n",
              "var outputEl = gd.closest('.output');\n",
              "if (outputEl) {{\n",
              "    x.observe(outputEl, {childList: true});\n",
              "}}\n",
              "\n",
              "                        })\n",
              "                };\n",
              "                \n",
              "            </script>\n",
              "        </div>\n",
              "</body>\n",
              "</html>"
            ]
          },
          "metadata": {
            "tags": []
          }
        },
        {
          "output_type": "execute_result",
          "data": {
            "text/plain": [
              "text     111\n",
              "gay       30\n",
              "ee        14\n",
              "peopl     10\n",
              "proud     10\n",
              "Name: clean_text, dtype: int64"
            ]
          },
          "metadata": {
            "tags": []
          },
          "execution_count": 30
        }
      ]
    },
    {
      "cell_type": "code",
      "metadata": {
        "id": "PQGMWLRId5pV",
        "colab_type": "code",
        "colab": {
          "base_uri": "https://localhost:8080/",
          "height": 289
        },
        "outputId": "444f67e2-219a-41b6-de86-67d367e37b61"
      },
      "source": [
        "#Add pca value to dataframe to use as visualization coordinates\n",
        "df = data.copy()\n",
        "df['pca'] = (\n",
        "            df['clean_text']\n",
        "            .pipe(hero.tfidf)\n",
        "            .pipe(hero.pca)\n",
        "   )\n",
        "#Add k-means cluster to dataframe \n",
        "df['kmeans'] = (\n",
        "            df['clean_text']\n",
        "            .pipe(hero.tfidf)\n",
        "            .pipe(hero.kmeans)\n",
        "   )\n",
        "df.head()"
      ],
      "execution_count": null,
      "outputs": [
        {
          "output_type": "execute_result",
          "data": {
            "text/html": [
              "<div>\n",
              "<style scoped>\n",
              "    .dataframe tbody tr th:only-of-type {\n",
              "        vertical-align: middle;\n",
              "    }\n",
              "\n",
              "    .dataframe tbody tr th {\n",
              "        vertical-align: top;\n",
              "    }\n",
              "\n",
              "    .dataframe thead th {\n",
              "        text-align: right;\n",
              "    }\n",
              "</style>\n",
              "<table border=\"1\" class=\"dataframe\">\n",
              "  <thead>\n",
              "    <tr style=\"text-align: right;\">\n",
              "      <th></th>\n",
              "      <th>text</th>\n",
              "      <th>category</th>\n",
              "      <th>clean_text</th>\n",
              "      <th>pca</th>\n",
              "      <th>kmeans</th>\n",
              "    </tr>\n",
              "  </thead>\n",
              "  <tbody>\n",
              "    <tr>\n",
              "      <th>0</th>\n",
              "      <td>Se aCe en asCard———]</td>\n",
              "      <td>Random</td>\n",
              "      <td>se ace en ascard</td>\n",
              "      <td>[-0.46694440363381146, -0.03681018650884662]</td>\n",
              "      <td>0</td>\n",
              "    </tr>\n",
              "    <tr>\n",
              "      <th>1</th>\n",
              "      <td>Colt) NGSTEAIGHT'Y BASTERAINBOW’a</td>\n",
              "      <td>Random</td>\n",
              "      <td>colt ngsteaight basterainbow</td>\n",
              "      <td>[-0.4620957987377668, -0.05421095819806234]</td>\n",
              "      <td>0</td>\n",
              "    </tr>\n",
              "    <tr>\n",
              "      <th>2</th>\n",
              "      <td>ONE DAYWON'T HAVE TO“COME OUT OFTHE CLOWE'LL J...</td>\n",
              "      <td>Random</td>\n",
              "      <td>one daywon come ofth clow ju vep ty l beall ma...</td>\n",
              "      <td>[-0.46732550398398814, -0.028501251083103467]</td>\n",
              "      <td>0</td>\n",
              "    </tr>\n",
              "    <tr>\n",
              "      <th>3</th>\n",
              "      <td>A KEEP CALMAND LOVEWHO YOU WANTior</td>\n",
              "      <td>Positive</td>\n",
              "      <td>keep calmand lovewho wantior</td>\n",
              "      <td>[-0.4644112395037997, -0.041984719559498423]</td>\n",
              "      <td>0</td>\n",
              "    </tr>\n",
              "    <tr>\n",
              "      <th>4</th>\n",
              "      <td>Fagms. id2ato be norm.!you will never knowea S...</td>\n",
              "      <td>Random</td>\n",
              "      <td>fagm id2ato norm never knowea seareai oesa chia</td>\n",
              "      <td>[-0.46209579873771517, -0.053279667334234254]</td>\n",
              "      <td>0</td>\n",
              "    </tr>\n",
              "  </tbody>\n",
              "</table>\n",
              "</div>"
            ],
            "text/plain": [
              "                                                text  ... kmeans\n",
              "0                               Se aCe en asCard———]  ...      0\n",
              "1                  Colt) NGSTEAIGHT'Y BASTERAINBOW’a  ...      0\n",
              "2  ONE DAYWON'T HAVE TO“COME OUT OFTHE CLOWE'LL J...  ...      0\n",
              "3                 A KEEP CALMAND LOVEWHO YOU WANTior  ...      0\n",
              "4  Fagms. id2ato be norm.!you will never knowea S...  ...      0\n",
              "\n",
              "[5 rows x 5 columns]"
            ]
          },
          "metadata": {
            "tags": []
          },
          "execution_count": 141
        }
      ]
    },
    {
      "cell_type": "code",
      "metadata": {
        "id": "E4OYOhrGeAs_",
        "colab_type": "code",
        "colab": {
          "base_uri": "https://localhost:8080/",
          "height": 542
        },
        "outputId": "61692ab6-f8b1-4c93-b23e-d4476a0786da"
      },
      "source": [
        "#generate scatter plot\n",
        "hero.scatterplot(df, 'pca', color = 'kmeans', hover_data=['text'] )"
      ],
      "execution_count": null,
      "outputs": [
        {
          "output_type": "display_data",
          "data": {
            "text/html": [
              "<html>\n",
              "<head><meta charset=\"utf-8\" /></head>\n",
              "<body>\n",
              "    <div>\n",
              "            <script src=\"https://cdnjs.cloudflare.com/ajax/libs/mathjax/2.7.5/MathJax.js?config=TeX-AMS-MML_SVG\"></script><script type=\"text/javascript\">if (window.MathJax) {MathJax.Hub.Config({SVG: {font: \"STIX-Web\"}});}</script>\n",
              "                <script type=\"text/javascript\">window.PlotlyConfig = {MathJaxConfig: 'local'};</script>\n",
              "        <script src=\"https://cdn.plot.ly/plotly-latest.min.js\"></script>    \n",
              "            <div id=\"4ed1538b-854f-4d56-8cbf-657baa3633f6\" class=\"plotly-graph-div\" style=\"height:525px; width:100%;\"></div>\n",
              "            <script type=\"text/javascript\">\n",
              "                \n",
              "                    window.PLOTLYENV=window.PLOTLYENV || {};\n",
              "                    \n",
              "                if (document.getElementById(\"4ed1538b-854f-4d56-8cbf-657baa3633f6\")) {\n",
              "                    Plotly.newPlot(\n",
              "                        '4ed1538b-854f-4d56-8cbf-657baa3633f6',\n",
              "                        [{\"customdata\": [[\"Se aCe en asCard\\u2014\\u2014\\u2014]\"], [\"Colt) NGSTEAIGHT'Y BASTERAINBOW\\u2019a\"], [\"ONE DAYWON'T HAVE TO\\u201cCOME OUT OFTHE CLOWE'LL JU \\\\WE ARE I VEPS TY L BEALL THAT MATTERS)\"], [\"A KEEP CALMAND LOVEWHO YOU WANTior\"], [\"Fagms. id2ato be norm.!you will never knowea Seareaie)oesa chia\"], [\"no text\"], [\"no text\"], [\"no text\"], [\"no text\"], [\"no text\"], [\"rnuDae\"], [\"ELAINA\"], [\"no text\"], [\"To be afraid isBSR tale el)if the truth werenot true.TV N7C ON Ure ,\\u2014_\\u2014\"], [\"When people askwhat I see in you,I just smile andlook away becauseI'm afraid if they knew,they'd fall in lovewith you too.\"], [\"no text\"], [\"\\u201cHf you're not out and proud, you'remissing out on the best month ofthe year. Don't spend another yearhiding in a closet of fear and shameYou don't have forever, you deserve\\u201cer and your tribe is waiting towelcome you home.\\u2019\"], [\"rycoonPoe eee eesWe gp\"], [\"no text\"], [\"Being gay is like beingleft handed. Some peopleare, most people aren'tFete eee ares] VE CeVato iiee a ce neit\\u2019s just the way things are!2 Being Gay & Proud Quoteswww. geckoandfly.com. me Ff? *) 2S DSS\"], [\"no text\"], [\"wd aieCaitre\"], [\"Do you realize what yousay. when you sa\\u2019\\\"That's so gay!\\\"?\"], [\"Woe) ee the stem ELL) eel eean alien from outer space.. its funny\\u201dGerard Wey\"], [\"From the time | wasa kid, | have neverbeen able tounderstand attacks upon the gaycommunity. There are so manyqualities that make up a human being...by the time | get through with all thethings that | really admire about people,what they do with their private parts isprobably so low on the list that it is irrelevant.Sem =) tite lt meena\"], [\"no text\"], [\"jamWe are powerfulbecause we havesurvived.il AUDRE LORDE\"], [\"UVESMeLwaaayLTOaayf\"], [\"no text\"], [\"no text\"], [\"Se ee eePree cae Rettrece ohne)Ceo et ec)Cee eke ot Tytake i Ad aedwhat makes people so cruel. Try beingeeeyou're as good as dead.\\u201deer\"], [\"\\u201cwheTN Cg\"], [\"no text\"], [\"74Find out who you areand be that person.aia le-a\\\\ 10-1 MV (el0 a el8 |.was put on this earthto be. Find that truth,live that truth, andeverything elseNV7| Rove) a a= e ,-Ellenae\"], [\"Zeigler, author of \\\"Fair Play: How LGBT Athletes are Claiming theirRightful Place in Sports,\\\" defied the notion that sports are inherentlyhomophobic. Part of what is keeping gay athletes closeted, Zeigler said, isthe hyper heterosexism that exists in locker rooms. Negative talk aboutgay people is not the issue. Instead, it's the demeaning talk about women.\"], [\"LOVEIS TOO BEAUTO BE HIDIN THE CLOior\"], [\"It's funny how we know gaypeople exist and we don\\u2019thave proof of God but weeg uous eeeta pated pied os ore Pe)Nae Reece ekee Being Gay & Proud Quoteswww. geckoandfly.comi\\u00bb OR Wiz Tin .\"], [\"Alot of parents willeam tlePetey (este) a im tcl]ee ici pcs oyc2 Being Gay & Proud QuotesRL OA AC)aS. a_ \\u00a9 | ae \\u2014 - a = | 6\"], [\"no text\"], [\"\\u2018Zeigler, author of \\\"Fair Play: How LGBT Athletes are Claiming theirRightful Place in Sports.\\u201d defied the motion that sports are inberemtyhomophobic. Part of what is keeping gay athletes closeted, Zeigher said, iythe hyper heteromeninm that exists in locket roams. Negative talk aboutbay people isnot the iste. Instead, i's the demeaning talk about women,\"], [\"no text\"], [\"no text\"], [\"no text\"], [\"no text\"], [\"no text\"], [\"no text\"], [\"\\u2018Shine your soul with the same egoless humilityFee TEE her you goin this world or > will,or the next, oo find, \\u201cyou,   \\u2014-\\u2014A>= Se 7aBS Aberjha , =pthrough the P in= y 8\\u00b0 ant by Sara\\u2014\\u2014\\u2014 \\u2014\"], [\"no text\"], [\"La not dfva'd oaWO. Tan\"], [\"se oa adCOLO50;It\\u2019s that no oneCe od\"], [\"\\u2018She just Lept storing ather. she lamented. \\u201cite | awosn't even there\\u00ae 4\\u201cThe trouble with lesbianlove triangles is you can't\\u2018tell which \\u2018she\\u2019 and which m4\\u2018ner\\u2019 we're talking abovt.~ Molly Ringle\"], [\"no text\"], [\"Of course gay menites eel esspend all that time inthe closet doing nothing.a2 Being Gay & Proud Quoteswww. geckoandfly.comif\"], [\"no text\"], [\"\\u2014a_p\"], [\"elleslaaitieebebeed actedLL encbarlatdval aioecdeOe Caetena\"], [\"no text\"], [\"ees MU WALLA OLem eae ienot living by society'sstandards, but deep down,they wish they had thecourage to do the same.we Being Gay & Proud Quoteswww.geckoandfly.comSe\"], [\"no text\"], [\"ae odMLC yI's that no oneCee\"], [\"no text\"], [\"no text\"], [\"Pura ould say}judicrous. mee icnairrational. interesting, curiou:eccentric. bogus. . foolish.). insipid. absurd. ridiculous.an . asinine. beyectottoan wacnly):\"], [\"\\u201cOnstage, | am a devil. But I'm hardly asocial reject.\\u201deee ae)\"], [\"Ce a eyAe StagTHE RECENT RISE IN HOMOPHOBICPts ea ated a 4Beret gus dat [les\"], [\"Do you realize what yousay, when you sa\\\"That's so gay!\\\"?The way \\u201cgay\\u201d is used now-a-days has anegative connotation. Which it should not:\\\"GAY\\\"means brightly colored. happy and or homosexualWEAK. BOGUS. RIDICULOUS.FRIVOLOUS. CHILDISH.ABSURD.AWKWARD.oRFREAKY.CHOOSE A WORD WHICH MEANS,WHAT YOU MEAN TO SAY.IT'S ONLY THE SMART THING TO DO.te\"], [\"When people askwhat I see in you,I just smile andlook away becauseT'm afraid if they knew,they'd fall in lovewith you too.\"], [\"no text\"], [\"TNCeeeedcil ansool \\\\seta) BEpoe THAT: iF a\"], [\"no text\"], [\"odue,te=\"], [\"Being gay is not a crimeand it is not a sin. Stop usingGod to justify your prejudice.Religion is about loving oneFU mM CUM Cey cme isdsie) elie Cem CO Ke)ee Being Gay & Proud Quoteswww. geckoandfly.comee lll Me lee ; We i a soe\"], [\"Slowlerukectioeesrema\\u2019eesa elenaaaereene terspeor iotrngeinnano terialcopereee restoscee aenios!eee traea near\"], [\"ee)totheDeteve big events such as the Finalhohe eskonmsndeeleeda\"], [\"eSSmee) |aie) alRee\"], [\"no text\"], [\"no text\"], [\"LOVE\\u00ae\"], [\"ote SF > =a tbeYe) \\u2018agedy in theirhy a SACO Air TeTem tev hwar ctl aed\\u2014_ ff\"], [\"no text\"], [\"oe\"], [\"A MARRIAGE HASAS da BBETWEEN A MANAND A WOMAN.\\u201d~ a  rit\"], [\"LOVEC\\u00e9ve\"], [\"no text\"], [\"no text\"], [\"no text\"], [\"no text\"], [\"UAV ATTMeLnnTOOL HIDDEN INtalityr=)\"], [\"Lil Swt adelcdCeriseesCee\"], [\"you are\\u00a5 LOVABLEFY WORTHYFY ENOUGHWw BRAVE\"], [\"Se aadateCB LSUeer ee aSenn2g) Me Hyiiieienieen an dik atin etl\"], [\"\\u2018There are people we've said that Pommeine bea Jar Merny opens sapperticef pey marriage. gry adoption. wwelh due respect umbty naent tomet Nrimy trary Foe decent homebeing. Love tea human experience,ees pil tate met\"], [\"Cle) DyAi GAYera Swan\"], [\"THERE'S NOTHINGWRONG WITH YOU.THERE'S ALO\"], [\"SOUNDS\"], [\"no text\"], [\"no text\"], [\"hLedemheniaLeslee teriebenelPe arcleneteallSe lecons bow lonaaler Litedhadebeaded\"], [\"What is straight? Adine can be straight,or a street, bert thehumor heart oh, wo.Ms curved like aroad throwgh\\u2014\\u2014\\u2014\"], [\"| learnedcompassion frombeing discriminatedagainst. Everythingbad that\\u2019s everhappened tome has taughtme compassion.ELDCENIDEGENERES\"], [\"Life's a game. Play to win.\"], [\"myth that all femalMriendships must be\"], [\"The Biblical Case inSupport of Same-SexRelationshipsGia lncre urayMATTHEW VINES\"], [\"Pe ea tsBOYS OR GIRLS?aid\"], [\"CPebhieveyou canyou're halfwaythere.T. ROOSEVELT\"], [\"PAT ENTS TeASU aL LEOT EDAY\"], [\"no text\"], [\"We are legal!!! In all fifty states!!!\"], [\"no text\"], [\"1AM GAY.1AM STRAIGHT:1AM GESBEAN:1AM BISEXCAE.1AM FRANSGENDERED:IAM HUMAN.\"], [\"@X/hen it come:to the rights ofthe UN is anythingbut neutral.  eM\"], [\"\\u201cLam not freewhile any womanis unfree, evenwhen her shacklesare very differentfrom my own.\\u201d\"], [\"MARRIAGE{S ABOsTLOVENOT GENDER!\"], [\"Gay culture issurviving andthriving. SomeElls mie ksi Ib Cac aarecent rise inhomophobic violencemight be a gauge ofthe success ofeA REC Nab bere oeSere BAC g\"], [\"aASe CUDIAS S eyUE Ue TYSESErace\"], [\"\\u201cBe lieveyou canx, & _you're halfwaythere.T. ROOSEVELT\"], [\"KEEPCAIMBECAUSE IT'S OKAY\"], [\"SOUNDS\"], [\"no text\"], [\"no text\"], [\"\\u2018or all, alStand up andstart to fight.Harvey MilkQBavirgimages.com\"], [\"pee)Ce edBer Oc\"], [\"the UN is anythingbut neutral\"], [\"Being gay is like beingleft handed. Some peopleare, most people aren'tFete eee ares] VE CeVato iiee a ce neit\\u2019s just the way things are!2 Being Gay & Proud Quoteswww. geckoandfly.com. me Ff? *) 2S DSS\"], [\"\\u201cBach time awoman stands upfor herself, withoutKnowing it possibly.without claiming it,she stands up forall women.\\u201dmara amoniow\"], [\"STUNDS\"], [\"no text\"], [\"eeeTOOeaCR Re eel\"], [\"Life's a game. Play to win.\"], [\"\\u00e9 SdBack then mydenial was both active %, Oand passive.Caught shadowboxingmy subconscious, I wasdetermined to dodge the danger ofmy natural desires.\"], [\"at aaaNaan Lacieyou Stal aewhat yousay,andWd at t youdoareinharmony teInspiring and Positive Quotes<3\"], [\"no text\"], [\"GAY CULTURE IS SURVIVINGAND THRIVING. SOMEACTIVISTS BELIEVE THERECENT RISE INHOMOPHOBIC VIOLENCEMIGHT BE A GAUGE OF THESUCCESS OF POSITIVE GAYIMAGES.\"], [\"eae ee eis)aM ak lee eeepcrma che sl predFAN BS ee wegsea e ayou're on a diet.2 Being Gay & Proud Quoteswww. geckoandfly.coma 0llLlLlLllllU el en\"], [\"\\u2019What is straight? Asg fline can be straight,< an A ora street, but thehuman heart, oh, no,   *\\\\. dt's curved likearoad throughmountains. Qsayinglmages.com\\\\ TENNESSEEWILLIAMS\"], [\"no text\"], [\"a.er)PocaPr ete)Poca)happened toDeerCeti\"], [\"ee er |wrong with you.Re)with the world you\"], [\"EMPOWER YOURSELFPata USDAeesaisSTicaypa]\"], [\"HATEIr Has causED ALOT \\u00a9OF PROBLEMS IN THISWORLD, BUT IS HASNOT SOLVED ONE \\u00a5ET.-Mava AxceLou\"], [\"Gay pride or LGBT pride is the positive stance againstdiscrimination and violence toward lesbian, gay,bisexual, and transgender (LGBT) people to promotetheir self-affirmation, dignity, equality rights, increasetheir visibility as a social group, build community, andcelebrate sexual diversity and gender variance.    Your@uote.i\"], [\"Being gay is not a crimeand it is not a sin. Stop usingGod to justify your prejudice.Religion is about loving oneFU mM CUM Cey cme isdsie) elie Cem CO Ke)ee Being Gay & Proud Quoteswww. geckoandfly.comee lll Me lee ; We i a soe\"], [\"no text\"], [\"HATEIt HAS CAUSED A LOTOF PROBLEMS IN THISWORLD, BUT IS HASNOT SOLVED ONE YET.-Maya ANGELou\"], [\"no text\"], [\"Wouleei 0) DIDOT EXIST\"], [\"\\u201cTam nol freewhile any womanis unfree, evenwhen her shacklesare very differentfrom my own.\\u201dAUDRE LORDEGH\"], [\"\\u201cThe pressures on gay teens can_be overwheiming-to keep secrets,tell es, deny who you are, and tryRe ede enedSee hued\\u2018cared about. loved, and acceptedBeetles)Ce eeed\"], [\"We are legal!!! In all fifty states!!!\"], [\"Cte cinadPeco eirasCrate wdeeeCee telLe echeclseeadeendCoe lea sander\\u2019Cee eeeCe\"], [\"\\u00a9 dreamstime.com ID 145823917 \\u00a9 Barrirret\"], [\"no text\"], [\"no text\"], [\"no text\"], [\"wedstand wp andstart te fight\"], [\"NE ea stCa ry= 4i a geDS ty\"], [\"ala\\u2018ack then my \\u201ceadenial weas both active \\u00aeand passiveCaught shadoweboaing\\u2018my subconscious, I wasdetermined to dodge the danger of\"], [\"UE are)be overwhelming-to keep secrets,4 SE ACR ECR adeePCE e EUR 4CeCe me lee)he oe ECM me ogCe eee Be eae      Pm \\u00ab ad\"], [\"no text\"], [\"Top Pro & ConQuotes\"], [\"no text\"], [\"no text\"], [\"Irased on or was the outcome of the perception and attitudes of the audience toward &. Themajority believed that portrayal of the LGBT commundy in Indian movies was montly negative,while the same in western movies was ponitive und precise. Even though the negative portrayal\\u2018of the LOBT themes in Indian cincma was pointed out, the improvements that have been madewere ached podFollowing \\u00ab\\u00a9 the evidence of quotes of the participants for each theme which is the source of thediscussion,Accurate portray al in generat\\u201cGenerally I wenadd sary... they. the portrayal ts gow ~\\u201cSee. some LGBT movies are good, amd some are ust chaammna (simply) make for time pass, forenerisinaent Bat the mes mace with efor and all w labs be gonad ~ old move and wh. it's it's grout becuase the mumber of LGBT monies which really haveLGBT theme and also have some substance in them are very less. and even though they areess... 1h they are goo ~ \\u2018The current theme refers to the accurste portrayal of the LGBT community in movies. SomeParticipants stated that efforts of movies to make the actual depiction of the LOBT life waspaying off hecause they were ampron ing in beth content and portrayalInaccurate portray al tn Indian me vies\\u201cWear re speaking ast Indian moves the are mot at all accra became they ave mieswhat LGBTQ means\\u201dtm thes Keanmends film she be tikimeg that wermuan teat sumdchemt she likes that guy Bt s (ihe hemcam she do that? When you're kevin like. dat other girl all of \\u00ab sudien she goes away andsahonly yous Tbe bike within seconds you Tlie that grey How is that even posite?\"], [\"no text\"], [\"no text\"], [\"no text\"], [\"no text\"], [\"no text\"], [\"fy.oi\"], [\"no text\"], [\"WWW.GDBLOG.NET\"], [\"LGBTQ FREEDOM= Middle Ea\"], [\"cee et eo my ie te any ee oees et neo(nt my 2 pf ng thn De ye yh ee\"], [\"no text\"], [\"no text\"], [\"no text\"], [\"no text\"], [\"no text\"], [\"no text\"], [\"=o\"], [\"no text\"], [\"Bote Verses aganstde verses agars! homosemualityDee verses agars! abortion(Dbl verses aganst gay marriage(Db verses agans! tattoos:\"], [\"no text\"], [\"no text\"], [\"no text\"], [\"learned this the hard way...\\u201cYou either say how you feel and fuckit up or say nothing and let it fuck youup instead.\\u201d\"], [\"no text\"], [\"no text\"], [\"no text\"], [\"no text\"], [\"no text\"], [\"lesbianvenom:lesbianvenom:straighteners aren\\u2019t worth ur money i\\u2019ve been using one for threeweeks and i\\u2019m still definitely a lesbianin all my 20 years of living this has been by far my best joke ever\"], [\"no text\"], [\"@eeeo Verizon LTE 10:47 AM \\u2014@%3%eD| apologize for anything negativeI've said towards gays and for thatmatter anyone. | was young,ignorant, stupid, and in a badplace. I've moved on and learnedfrom my mistakes and | am sotruly sorry to anyone | haveoffended. | have nothing againstanyone or anything that promotesequality. Sorry again|9 i)QIWIETRETLYFUTILFOIP AISIDIFIGIHIJPKEL mm Z)X)/C)V) BIN) M) ig 123 \\u00ae 0 space @ #\"], [\"no text\"], [\"So you oppose gay rightsbecause of the Bible?Unless you also try to outlaw-Shrime cocktails (Lev. 11:9)-Cursing (Lev, 24:16)-Women\\u2019s jeans (Deut. 22:5)-Arrogance (Prov. 16:5)-Lying (Prov. 12:22)-Bacon (Lev. 11:7)-Adultery (Deut. 22:23)-Workirg on Suriday (Num. 15:32)please shut the hell upl\"], [\"no text\"], [\"no text\"], [\"no text\"], [\"no text\"], [\"no text\"], [\"no text\"], [\"no text\"], [\"no text\"], [\"Anti-Bullying: States that have laws prohibiting bullying of students onthe bases of sexual orientation and gender identityMassachusetts,Minnesota f, xNevadaNew Hampshire <\\u2014\\u2014\\u00e9New JerseyNew YorkNorth Carolina\"], [\"no text\"], [\"no text\"], [\"no text\"], [\"no text\"], [\"no text\"], [\"no text\"], [\"no text\"], [\"eSP >\"], [\"no text\"], [\"no text\"], [\"BITCHGHETTOILLEGAL ALIENNO HOMORETARDED & LAMETHAT'S SO GAYWHORE/HO & SLUT\"], [\"no text\"], [\"Anti-LGBT: States that have laws restricting teachers and staff fromtalking about LGBT issues at schoolAHH\"], [\"Few Say Being LGRT Is 4 NegativeFactor in Theis titeey es aaltepet aney ben mene cepere nenia\"], [\"no text\"], [\"no text\"], [\"no text\"], [\"no text\"], [\"no text\"], [\"JasonJ &jaybs121|4| =@) Added Me Everyone add my newSnapchat or commentnames below. I'll be postingpositive quotes every day \\u00a9Igbtpride loveislove Igbt transtransmatter transgendertransgirl transmale lesbianlesbiansex gaypride gay bibisexualpride bisexual biprideasexual asexualpridepansexualpride pansexualprotecttranskids pride swag ftmmtf\"], [\"\\u201cYou either say how you feel and fuckit up or say nothing and let it fuck you\\u2018up instead.\\u201d\"], [\"no text\"], [\"no text\"], [\"no text\"], [\"no text\"], [\"ct i ss\"], [\"no text\"], [\"no text\"], [\"no text\"], [\"no text\"], [\"no text\"], [\"no text\"], [\"no text\"], [\"no text\"]], \"hoverlabel\": {\"namelength\": 0}, \"hovertemplate\": \"x=%{x}<br>y=%{y}<br>text=%{customdata[0]}<br>kmeans=%{marker.color}\", \"legendgroup\": \"\", \"marker\": {\"color\": [0, 0, 0, 0, 0, 1, 1, 1, 1, 1, 0, 0, 1, 0, 0, 1, 0, 3, 1, 3, 1, 0, 0, 0, 0, 1, 0, 0, 1, 1, 0, 0, 1, 0, 2, 0, 0, 0, 1, 2, 1, 1, 1, 1, 1, 1, 0, 1, 0, 0, 0, 1, 0, 1, 0, 0, 1, 0, 1, 0, 1, 1, 0, 3, 0, 0, 0, 1, 0, 1, 0, 0, 3, 3, 0, 1, 1, 0, 0, 1, 0, 0, 0, 1, 1, 1, 1, 0, 0, 0, 0, 0, 0, 0, 4, 1, 1, 0, 0, 0, 0, 0, 0, 0, 0, 0, 1, 2, 1, 0, 0, 0, 0, 0, 0, 0, 0, 4, 1, 1, 0, 0, 0, 3, 0, 0, 1, 0, 0, 0, 0, 1, 0, 0, 0, 1, 0, 0, 0, 0, 2, 0, 1, 0, 1, 0, 0, 0, 2, 0, 0, 1, 1, 1, 0, 0, 0, 3, 1, 0, 1, 1, 2, 1, 1, 1, 1, 1, 0, 1, 0, 0, 0, 1, 1, 1, 1, 1, 1, 0, 1, 0, 1, 1, 1, 0, 1, 1, 1, 1, 1, 0, 1, 0, 1, 0, 1, 1, 1, 1, 1, 1, 1, 1, 2, 1, 1, 1, 1, 1, 1, 1, 3, 1, 1, 0, 1, 2, 0, 1, 1, 1, 1, 1, 0, 0, 1, 1, 1, 1, 0, 1, 1, 1, 1, 1, 1, 1, 1], \"coloraxis\": \"coloraxis\", \"symbol\": \"circle\"}, \"mode\": \"markers\", \"name\": \"\", \"showlegend\": false, \"type\": \"scatter\", \"x\": [-0.46694440363381146, -0.4620957987377668, -0.46732550398398814, -0.4644112395037997, -0.46209579873771517, 0.5390438266653736, 0.5390438266653736, 0.5390438266653736, 0.5390438266653736, 0.5390438266653736, -0.46209579873775036, -0.4620957987377815, 0.5390438266653736, -0.4649343670323941, -0.4722345152925481, 0.5390438266653736, -0.46697480013473947, -0.46587045608829397, 0.5390438266653736, -0.49092541645474247, 0.5390438266653736, -0.46209579873774426, -0.475223892725733, -0.46862295926049036, -0.4663168696527626, 0.5390438266653736, -0.4630345693536918, -0.4620957987376802, 0.5390438266653736, 0.5390438266653736, -0.4716676290617461, -0.4620957987377629, 0.5390438266653736, -0.46508439369094035, -0.4792248146746869, -0.46209579873780315, -0.47306129948643943, -0.4767419322220083, 0.5390438266653736, -0.4789521934078539, 0.5390438266653736, 0.5390438266653736, 0.5390438266653736, 0.5390438266653736, 0.5390438266653736, 0.5390438266653736, -0.4672913796107993, 0.5390438266653736, -0.46209579873773665, -0.4666039211051718, -0.4650789434930699, 0.5390438266653736, -0.48375462114348444, 0.5390438266653736, -0.4638644901191833, -0.46209579873776047, 0.5390438266653736, -0.4781809922303545, 0.5390438266653736, -0.4641722777757429, 0.5390438266653736, 0.5390438266653736, -0.4652326891157059, -0.46789097200216784, -0.46752130663428015, -0.47871588165757767, -0.4722345152925481, 0.5390438266653736, -0.46209579873771245, 0.5390438266653736, -0.4658925276520596, -0.48652601961749853, -0.4647282805039732, -0.467606991416649, -0.46209579873776596, 0.5390438266653736, 0.5390438266653736, -0.4620957987377806, -0.4629682150762879, 0.5390438266653736, -0.46393152356301054, -0.4642097414605897, -0.4620957987377421, 0.5390438266653736, 0.5390438266653736, 0.5390438266653736, 0.5390438266653736, -0.4620957987377215, -0.46209579873770557, -0.4620957987377507, -0.46965842900073146, -0.46910072476442655, -0.46209579873775986, -0.4620957987377425, -0.47003186323853, 0.5390438266653736, 0.5390438266653736, -0.4620957987377294, -0.4670270578318966, -0.46209579873779133, -0.4713391536678285, -0.4620957987377768, -0.46209579873770645, -0.4662266423861773, -0.46574253755541145, -0.46245569590023283, 0.5390438266653736, -0.4720119638705174, 0.5390438266653736, -0.4668422858045853, -0.4705542384356457, -0.46757901989772743, -0.4662000811573799, -0.46953645200286326, -0.4628697809282934, -0.46574253755541123, -0.46209579873766693, -0.47003186323853, 0.5390438266653736, 0.5390438266653736, -0.4674754792473498, -0.4650048457716041, -0.4666953016937955, -0.49092541645474247, -0.46441896208637945, -0.4620957987377039, 0.5390438266653736, -0.4649251026511668, -0.4713391536678285, -0.4660052544426607, -0.4651523378629126, 0.5390438266653736, -0.4707762341111134, -0.4810588872737873, -0.4677658637196073, 0.5390438266653736, -0.4636881783483092, -0.471517884077387, -0.46209579873772627, -0.47022093280295624, -0.47507524620584113, -0.48652601961749853, 0.5390438266653736, -0.4676734448293938, 0.5390438266653736, -0.46398534848357786, -0.4684961131471601, -0.4727418883856211, -0.4720119638705174, -0.463147861607898, -0.467816773836286, 0.5390438266653736, 0.5390438266653736, 0.5390438266653736, -0.4680061377476262, -0.46577736475326126, -0.46572648043643455, -0.47412441795468774, 0.5390438266653736, -0.4620957987377207, 0.5390438266653736, 0.5390438266653736, -0.4697853591635277, 0.5390438266653736, 0.5390438266653736, 0.5390438266653736, 0.5390438266653736, 0.5390438266653736, -0.4620957987377498, 0.5390438266653736, -0.46209579873774476, -0.4657680442952119, -0.471053822347342, 0.5390438266653736, 0.5390438266653736, 0.5390438266653736, 0.5390438266653736, 0.5390438266653736, 0.5390438266653736, -0.4544232712489504, 0.5390438266653736, -0.4660292982080665, 0.5390438266653736, 0.5390438266653736, 0.5390438266653736, -0.4741077827690683, 0.5390438266653736, 0.5390438266653736, 0.5390438266653736, 0.5390438266653736, 0.5390438266653736, -0.4650184027029003, 0.5390438266653736, -0.469266787798871, 0.5390438266653736, -0.4657670361702568, 0.5390438266653736, 0.5390438266653736, 0.5390438266653736, 0.5390438266653736, 0.5390438266653736, 0.5390438266653736, 0.5390438266653736, 0.5390438266653736, -0.46614486941739314, 0.5390438266653736, 0.5390438266653736, 0.5390438266653736, 0.5390438266653736, 0.5390438266653736, 0.5390438266653736, 0.5390438266653736, -0.4620957987377043, 0.5390438266653736, 0.5390438266653736, -0.46209579873770806, 0.5390438266653736, -0.46881137727077354, -0.46522915473062126, 0.5390438266653736, 0.5390438266653736, 0.5390438266653736, 0.5390438266653736, 0.5390438266653736, -0.46751267745291597, -0.47289554921849986, 0.5390438266653736, 0.5390438266653736, 0.5390438266653736, 0.5390438266653736, -0.4620957987377506, 0.5390438266653736, 0.5390438266653736, 0.5390438266653736, 0.5390438266653736, 0.5390438266653736, 0.5390438266653736, 0.5390438266653736, 0.5390438266653736], \"xaxis\": \"x\", \"y\": [-0.03681018650884662, -0.05421095819806234, -0.028501251083103467, -0.041984719559498423, -0.053279667334234254, 0.0007941427927522107, 0.0007941427927522142, 0.0007941427927522083, 0.0007941427927522015, 0.000794142792752215, -0.054720598111347094, -0.05453801664482705, 0.0007941427927522079, -0.04873099346046439, -0.0420950173799451, 0.0007941427927522079, 0.026014260164171552, 0.007188664441297903, 0.0007941427927522079, 0.6421025466868687, 0.0007941427927522079, -0.05426872789452967, 0.21753843157291317, 0.01931471084141783, -0.013913225104025866, 0.0007941427927522079, -0.061128866155842884, -0.0545272987079195, 0.0007941427927522079, 0.0007941427927522079, 0.013011421313384435, -0.05378305256809309, 0.0007941427927522079, -0.04432194463889029, 0.055467046184564085, -0.05483109212951306, 0.21426480987872754, 0.15552225450765944, 0.0007941427927522079, 0.05716780632240579, 0.0007941427927522079, 0.0007941427927522079, 0.0007941427927522079, 0.0007941427927522079, 0.0007941427927522079, 0.0007941427927522079, -0.06285286269245446, 0.0007941427927522079, -0.05377887645764579, -0.046779925026285904, -0.04983304453219676, 0.0007941427927522079, 0.3972679300645334, 0.0007941427927522079, -0.06220963560368669, -0.054071756570624435, 0.0007941427927522079, 0.3248783366180202, 0.0007941427927522079, -0.04614150333611889, 0.0007941427927522079, 0.0007941427927522079, -0.03982338633126065, -0.005458264586320484, -0.019923827313093848, 0.2218909874051952, -0.04209501737269226, 0.0007941427927522079, -0.0541449688617789, 0.0007941427927522079, -0.051616419166514584, 0.6423688163828387, -0.015752013559181797, 0.020661874134978376, -0.05408105503024878, 0.0007941427927522079, 0.0007941427927522079, -0.05391156146005214, -0.011893007243441844, 0.0007941427927522079, -0.04985000694580615, -0.06042075095285433, -0.05397460592682245, 0.0007941427927522079, 0.0007941427927522079, 0.0007941427927522079, 0.0007941427927522079, -0.05357037632320536, -0.054671764274778975, -0.05422150137293232, 0.0023727681372356455, 0.01907447362970332, -0.053854547817083646, -0.05443052964920779, -0.13630449628583266, 0.0007941427927522079, 0.0007941427927522079, -0.05414159752406185, -0.03463061920346894, -0.05395688122610867, -0.13394743820579025, -0.05429656818692094, -0.053736072129047095, -0.059377643932619954, -0.07469148449213579, -0.05528940094403086, 0.0007941427927522079, -0.16599829600592086, 0.0007941427927522079, 0.01708147992064359, -0.03350755923181304, -0.09509211089005935, -0.05957490043738602, 0.0492614929704566, -0.052712293298675765, -0.07469109944991353, -0.05377764376905351, -0.13630449628583266, 0.0007941427927522079, 0.0007941427927522079, -0.021103212120759697, 0.01687573661622318, -0.06870711734086639, 0.6421025466868687, -0.03559734603156396, -0.05393139205588938, 0.0007941427927522079, -0.008676552707078481, -0.13394743820579025, -0.057809420797308705, -0.018935601997438822, 0.0007941427927522079, 0.0761932487919408, 0.32095196599460063, -0.03903366224052359, 0.0007941427927522079, -0.04821277473393125, 0.0320139047492578, -0.05447909274776745, -0.06501274371523955, 0.10078826606056766, 0.6423688163828387, 0.0007941427927522079, -0.07403206126665189, 0.0007941427927522079, -0.03621132056100503, -0.09826289341886417, 0.11479578147937515, -0.16599829600592086, -0.05086197654360586, 0.0008007333970546554, 0.0007941427927522079, 0.0007941427927522079, 0.0007941427927522079, -0.06362446220380785, -0.06937396680713832, -0.06534341935738336, 0.029823539342979773, 0.0007941427927522079, -0.05386356794181594, 0.0007941427927522079, 0.0007941427927522079, -0.044712572600874204, 0.0007941427927522079, 0.0007941427927522079, 0.0007941427927522079, 0.0007941427927522079, 0.0007941427927522079, -0.05431220615403047, 0.0007941427927522079, -0.054167717266109056, -0.07042360847573641, 0.025258905051006086, 0.0007941427927522079, 0.0007941427927522079, 0.0007941427927522079, 0.0007941427927522079, 0.0007941427927522079, 0.0007941427927522079, -0.033150449300548994, 0.0007941427927522079, 0.009813041163237066, 0.0007941427927522079, 0.0007941427927522079, 0.0007941427927522079, -0.012303141894457198, 0.0007941427927522079, 0.0007941427927522079, 0.0007941427927522079, 0.0007941427927522079, 0.0007941427927522079, -0.043702123715056496, 0.0007941427927522079, 0.038794486235628985, 0.0007941427927522079, 0.014670177276278963, 0.0007941427927522079, 0.0007941427927522079, 0.0007941427927522079, 0.0007941427927522079, 0.0007941427927522079, 0.0007941427927522079, 0.0007941427927522079, 0.0007941427927522079, -0.07949251782424278, 0.0007941427927522079, 0.0007941427927522079, 0.0007941427927522079, 0.0007941427927522079, 0.0007941427927522079, 0.0007941427927522079, 0.0007941427927522079, -0.05384011110207666, 0.0007941427927522079, 0.0007941427927522079, -0.05438858456508503, 0.0007941427927522079, -0.07428721607305404, -0.05104996135049973, 0.0007941427927522079, 0.0007941427927522079, 0.0007941427927522079, 0.0007941427927522079, 0.0007941427927522079, 0.03893183059533847, -0.038547291261093804, 0.0007941427927522079, 0.0007941427927522079, 0.0007941427927522079, 0.0007941427927522079, -0.0543496952283872, 0.0007941427927522079, 0.0007941427927522079, 0.0007941427927522079, 0.0007941427927522079, 0.0007941427927522079, 0.0007941427927522079, 0.0007941427927522079, 0.0007941427927522079], \"yaxis\": \"y\"}],\n",
              "                        {\"coloraxis\": {\"colorbar\": {\"title\": {\"text\": \"kmeans\"}}, \"colorscale\": [[0.0, \"#0d0887\"], [0.1111111111111111, \"#46039f\"], [0.2222222222222222, \"#7201a8\"], [0.3333333333333333, \"#9c179e\"], [0.4444444444444444, \"#bd3786\"], [0.5555555555555556, \"#d8576b\"], [0.6666666666666666, \"#ed7953\"], [0.7777777777777778, \"#fb9f3a\"], [0.8888888888888888, \"#fdca26\"], [1.0, \"#f0f921\"]]}, \"legend\": {\"tracegroupgap\": 0}, \"margin\": {\"t\": 60}, \"template\": {\"data\": {\"bar\": [{\"error_x\": {\"color\": \"#2a3f5f\"}, \"error_y\": {\"color\": \"#2a3f5f\"}, \"marker\": {\"line\": {\"color\": \"#E5ECF6\", \"width\": 0.5}}, \"type\": \"bar\"}], \"barpolar\": [{\"marker\": {\"line\": {\"color\": \"#E5ECF6\", \"width\": 0.5}}, \"type\": \"barpolar\"}], \"carpet\": [{\"aaxis\": {\"endlinecolor\": \"#2a3f5f\", \"gridcolor\": \"white\", \"linecolor\": \"white\", \"minorgridcolor\": \"white\", \"startlinecolor\": \"#2a3f5f\"}, \"baxis\": {\"endlinecolor\": \"#2a3f5f\", \"gridcolor\": \"white\", \"linecolor\": \"white\", \"minorgridcolor\": \"white\", \"startlinecolor\": \"#2a3f5f\"}, \"type\": \"carpet\"}], \"choropleth\": [{\"colorbar\": {\"outlinewidth\": 0, \"ticks\": \"\"}, \"type\": \"choropleth\"}], \"contour\": [{\"colorbar\": {\"outlinewidth\": 0, \"ticks\": \"\"}, \"colorscale\": [[0.0, \"#0d0887\"], [0.1111111111111111, \"#46039f\"], [0.2222222222222222, \"#7201a8\"], [0.3333333333333333, \"#9c179e\"], [0.4444444444444444, \"#bd3786\"], [0.5555555555555556, \"#d8576b\"], [0.6666666666666666, \"#ed7953\"], [0.7777777777777778, \"#fb9f3a\"], [0.8888888888888888, \"#fdca26\"], [1.0, \"#f0f921\"]], \"type\": \"contour\"}], \"contourcarpet\": [{\"colorbar\": {\"outlinewidth\": 0, \"ticks\": \"\"}, \"type\": \"contourcarpet\"}], \"heatmap\": [{\"colorbar\": {\"outlinewidth\": 0, \"ticks\": \"\"}, \"colorscale\": [[0.0, \"#0d0887\"], [0.1111111111111111, \"#46039f\"], [0.2222222222222222, \"#7201a8\"], [0.3333333333333333, \"#9c179e\"], [0.4444444444444444, \"#bd3786\"], [0.5555555555555556, \"#d8576b\"], [0.6666666666666666, \"#ed7953\"], [0.7777777777777778, \"#fb9f3a\"], [0.8888888888888888, \"#fdca26\"], [1.0, \"#f0f921\"]], \"type\": \"heatmap\"}], \"heatmapgl\": [{\"colorbar\": {\"outlinewidth\": 0, \"ticks\": \"\"}, \"colorscale\": [[0.0, \"#0d0887\"], [0.1111111111111111, \"#46039f\"], [0.2222222222222222, \"#7201a8\"], [0.3333333333333333, \"#9c179e\"], [0.4444444444444444, \"#bd3786\"], [0.5555555555555556, \"#d8576b\"], [0.6666666666666666, \"#ed7953\"], [0.7777777777777778, \"#fb9f3a\"], [0.8888888888888888, \"#fdca26\"], [1.0, \"#f0f921\"]], \"type\": \"heatmapgl\"}], \"histogram\": [{\"marker\": {\"colorbar\": {\"outlinewidth\": 0, \"ticks\": \"\"}}, \"type\": \"histogram\"}], \"histogram2d\": [{\"colorbar\": {\"outlinewidth\": 0, \"ticks\": \"\"}, \"colorscale\": [[0.0, \"#0d0887\"], [0.1111111111111111, \"#46039f\"], [0.2222222222222222, \"#7201a8\"], [0.3333333333333333, \"#9c179e\"], [0.4444444444444444, \"#bd3786\"], [0.5555555555555556, \"#d8576b\"], [0.6666666666666666, \"#ed7953\"], [0.7777777777777778, \"#fb9f3a\"], [0.8888888888888888, \"#fdca26\"], [1.0, \"#f0f921\"]], \"type\": \"histogram2d\"}], \"histogram2dcontour\": [{\"colorbar\": {\"outlinewidth\": 0, \"ticks\": \"\"}, \"colorscale\": [[0.0, \"#0d0887\"], [0.1111111111111111, \"#46039f\"], [0.2222222222222222, \"#7201a8\"], [0.3333333333333333, \"#9c179e\"], [0.4444444444444444, \"#bd3786\"], [0.5555555555555556, \"#d8576b\"], [0.6666666666666666, \"#ed7953\"], [0.7777777777777778, \"#fb9f3a\"], [0.8888888888888888, \"#fdca26\"], [1.0, \"#f0f921\"]], \"type\": \"histogram2dcontour\"}], \"mesh3d\": [{\"colorbar\": {\"outlinewidth\": 0, \"ticks\": \"\"}, \"type\": \"mesh3d\"}], \"parcoords\": [{\"line\": {\"colorbar\": {\"outlinewidth\": 0, \"ticks\": \"\"}}, \"type\": \"parcoords\"}], \"pie\": [{\"automargin\": true, \"type\": \"pie\"}], \"scatter\": [{\"marker\": {\"colorbar\": {\"outlinewidth\": 0, \"ticks\": \"\"}}, \"type\": \"scatter\"}], \"scatter3d\": [{\"line\": {\"colorbar\": {\"outlinewidth\": 0, \"ticks\": \"\"}}, \"marker\": {\"colorbar\": {\"outlinewidth\": 0, \"ticks\": \"\"}}, \"type\": \"scatter3d\"}], \"scattercarpet\": [{\"marker\": {\"colorbar\": {\"outlinewidth\": 0, \"ticks\": \"\"}}, \"type\": \"scattercarpet\"}], \"scattergeo\": [{\"marker\": {\"colorbar\": {\"outlinewidth\": 0, \"ticks\": \"\"}}, \"type\": \"scattergeo\"}], \"scattergl\": [{\"marker\": {\"colorbar\": {\"outlinewidth\": 0, \"ticks\": \"\"}}, \"type\": \"scattergl\"}], \"scattermapbox\": [{\"marker\": {\"colorbar\": {\"outlinewidth\": 0, \"ticks\": \"\"}}, \"type\": \"scattermapbox\"}], \"scatterpolar\": [{\"marker\": {\"colorbar\": {\"outlinewidth\": 0, \"ticks\": \"\"}}, \"type\": \"scatterpolar\"}], \"scatterpolargl\": [{\"marker\": {\"colorbar\": {\"outlinewidth\": 0, \"ticks\": \"\"}}, \"type\": \"scatterpolargl\"}], \"scatterternary\": [{\"marker\": {\"colorbar\": {\"outlinewidth\": 0, \"ticks\": \"\"}}, \"type\": \"scatterternary\"}], \"surface\": [{\"colorbar\": {\"outlinewidth\": 0, \"ticks\": \"\"}, \"colorscale\": [[0.0, \"#0d0887\"], [0.1111111111111111, \"#46039f\"], [0.2222222222222222, \"#7201a8\"], [0.3333333333333333, \"#9c179e\"], [0.4444444444444444, \"#bd3786\"], [0.5555555555555556, \"#d8576b\"], [0.6666666666666666, \"#ed7953\"], [0.7777777777777778, \"#fb9f3a\"], [0.8888888888888888, \"#fdca26\"], [1.0, \"#f0f921\"]], \"type\": \"surface\"}], \"table\": [{\"cells\": {\"fill\": {\"color\": \"#EBF0F8\"}, \"line\": {\"color\": \"white\"}}, \"header\": {\"fill\": {\"color\": \"#C8D4E3\"}, \"line\": {\"color\": \"white\"}}, \"type\": \"table\"}]}, \"layout\": {\"annotationdefaults\": {\"arrowcolor\": \"#2a3f5f\", \"arrowhead\": 0, \"arrowwidth\": 1}, \"coloraxis\": {\"colorbar\": {\"outlinewidth\": 0, \"ticks\": \"\"}}, \"colorscale\": {\"diverging\": [[0, \"#8e0152\"], [0.1, \"#c51b7d\"], [0.2, \"#de77ae\"], [0.3, \"#f1b6da\"], [0.4, \"#fde0ef\"], [0.5, \"#f7f7f7\"], [0.6, \"#e6f5d0\"], [0.7, \"#b8e186\"], [0.8, \"#7fbc41\"], [0.9, \"#4d9221\"], [1, \"#276419\"]], \"sequential\": [[0.0, \"#0d0887\"], [0.1111111111111111, \"#46039f\"], [0.2222222222222222, \"#7201a8\"], [0.3333333333333333, \"#9c179e\"], [0.4444444444444444, \"#bd3786\"], [0.5555555555555556, \"#d8576b\"], [0.6666666666666666, \"#ed7953\"], [0.7777777777777778, \"#fb9f3a\"], [0.8888888888888888, \"#fdca26\"], [1.0, \"#f0f921\"]], \"sequentialminus\": [[0.0, \"#0d0887\"], [0.1111111111111111, \"#46039f\"], [0.2222222222222222, \"#7201a8\"], [0.3333333333333333, \"#9c179e\"], [0.4444444444444444, \"#bd3786\"], [0.5555555555555556, \"#d8576b\"], [0.6666666666666666, \"#ed7953\"], [0.7777777777777778, \"#fb9f3a\"], [0.8888888888888888, \"#fdca26\"], [1.0, \"#f0f921\"]]}, \"colorway\": [\"#636efa\", \"#EF553B\", \"#00cc96\", \"#ab63fa\", \"#FFA15A\", \"#19d3f3\", \"#FF6692\", \"#B6E880\", \"#FF97FF\", \"#FECB52\"], \"font\": {\"color\": \"#2a3f5f\"}, \"geo\": {\"bgcolor\": \"white\", \"lakecolor\": \"white\", \"landcolor\": \"#E5ECF6\", \"showlakes\": true, \"showland\": true, \"subunitcolor\": \"white\"}, \"hoverlabel\": {\"align\": \"left\"}, \"hovermode\": \"closest\", \"mapbox\": {\"style\": \"light\"}, \"paper_bgcolor\": \"white\", \"plot_bgcolor\": \"#E5ECF6\", \"polar\": {\"angularaxis\": {\"gridcolor\": \"white\", \"linecolor\": \"white\", \"ticks\": \"\"}, \"bgcolor\": \"#E5ECF6\", \"radialaxis\": {\"gridcolor\": \"white\", \"linecolor\": \"white\", \"ticks\": \"\"}}, \"scene\": {\"xaxis\": {\"backgroundcolor\": \"#E5ECF6\", \"gridcolor\": \"white\", \"gridwidth\": 2, \"linecolor\": \"white\", \"showbackground\": true, \"ticks\": \"\", \"zerolinecolor\": \"white\"}, \"yaxis\": {\"backgroundcolor\": \"#E5ECF6\", \"gridcolor\": \"white\", \"gridwidth\": 2, \"linecolor\": \"white\", \"showbackground\": true, \"ticks\": \"\", \"zerolinecolor\": \"white\"}, \"zaxis\": {\"backgroundcolor\": \"#E5ECF6\", \"gridcolor\": \"white\", \"gridwidth\": 2, \"linecolor\": \"white\", \"showbackground\": true, \"ticks\": \"\", \"zerolinecolor\": \"white\"}}, \"shapedefaults\": {\"line\": {\"color\": \"#2a3f5f\"}}, \"ternary\": {\"aaxis\": {\"gridcolor\": \"white\", \"linecolor\": \"white\", \"ticks\": \"\"}, \"baxis\": {\"gridcolor\": \"white\", \"linecolor\": \"white\", \"ticks\": \"\"}, \"bgcolor\": \"#E5ECF6\", \"caxis\": {\"gridcolor\": \"white\", \"linecolor\": \"white\", \"ticks\": \"\"}}, \"title\": {\"x\": 0.05}, \"xaxis\": {\"automargin\": true, \"gridcolor\": \"white\", \"linecolor\": \"white\", \"ticks\": \"\", \"title\": {\"standoff\": 15}, \"zerolinecolor\": \"white\", \"zerolinewidth\": 2}, \"yaxis\": {\"automargin\": true, \"gridcolor\": \"white\", \"linecolor\": \"white\", \"ticks\": \"\", \"title\": {\"standoff\": 15}, \"zerolinecolor\": \"white\", \"zerolinewidth\": 2}}}, \"xaxis\": {\"anchor\": \"y\", \"domain\": [0.0, 1.0], \"title\": {\"text\": \"x\"}}, \"yaxis\": {\"anchor\": \"x\", \"domain\": [0.0, 1.0], \"title\": {\"text\": \"y\"}}},\n",
              "                        {\"responsive\": true}\n",
              "                    ).then(function(){\n",
              "                            \n",
              "var gd = document.getElementById('4ed1538b-854f-4d56-8cbf-657baa3633f6');\n",
              "var x = new MutationObserver(function (mutations, observer) {{\n",
              "        var display = window.getComputedStyle(gd).display;\n",
              "        if (!display || display === 'none') {{\n",
              "            console.log([gd, 'removed!']);\n",
              "            Plotly.purge(gd);\n",
              "            observer.disconnect();\n",
              "        }}\n",
              "}});\n",
              "\n",
              "// Listen for the removal of the full notebook cells\n",
              "var notebookContainer = gd.closest('#notebook-container');\n",
              "if (notebookContainer) {{\n",
              "    x.observe(notebookContainer, {childList: true});\n",
              "}}\n",
              "\n",
              "// Listen for the clearing of the current output cell\n",
              "var outputEl = gd.closest('.output');\n",
              "if (outputEl) {{\n",
              "    x.observe(outputEl, {childList: true});\n",
              "}}\n",
              "\n",
              "                        })\n",
              "                };\n",
              "                \n",
              "            </script>\n",
              "        </div>\n",
              "</body>\n",
              "</html>"
            ]
          },
          "metadata": {
            "tags": []
          }
        }
      ]
    },
    {
      "cell_type": "code",
      "metadata": {
        "id": "yjOwQJESgbrp",
        "colab_type": "code",
        "colab": {
          "base_uri": "https://localhost:8080/",
          "height": 296
        },
        "outputId": "05087b43-7c2b-470a-d8dd-6907391a42a2"
      },
      "source": [
        "sns.countplot(x='kmeans',data=df,hue='category')"
      ],
      "execution_count": null,
      "outputs": [
        {
          "output_type": "execute_result",
          "data": {
            "text/plain": [
              "<matplotlib.axes._subplots.AxesSubplot at 0x7f30e1c3fbe0>"
            ]
          },
          "metadata": {
            "tags": []
          },
          "execution_count": 143
        },
        {
          "output_type": "display_data",
          "data": {
            "image/png": "[encoded data removed]",
            "text/plain": [
              "<Figure size 432x288 with 1 Axes>"
            ]
          },
          "metadata": {
            "tags": [],
            "needs_background": "light"
          }
        }
      ]
    },
    {
      "cell_type": "code",
      "metadata": {
        "id": "bby9h_xEgtqr",
        "colab_type": "code",
        "colab": {
          "base_uri": "https://localhost:8080/",
          "height": 433
        },
        "outputId": "4b473fbf-43ac-4621-c439-0dec351ee9e6"
      },
      "source": [
        "df[df['kmeans']==3]"
      ],
      "execution_count": null,
      "outputs": [
        {
          "output_type": "execute_result",
          "data": {
            "text/html": [
              "<div>\n",
              "<style scoped>\n",
              "    .dataframe tbody tr th:only-of-type {\n",
              "        vertical-align: middle;\n",
              "    }\n",
              "\n",
              "    .dataframe tbody tr th {\n",
              "        vertical-align: top;\n",
              "    }\n",
              "\n",
              "    .dataframe thead th {\n",
              "        text-align: right;\n",
              "    }\n",
              "</style>\n",
              "<table border=\"1\" class=\"dataframe\">\n",
              "  <thead>\n",
              "    <tr style=\"text-align: right;\">\n",
              "      <th></th>\n",
              "      <th>text</th>\n",
              "      <th>category</th>\n",
              "      <th>clean_text</th>\n",
              "      <th>pca</th>\n",
              "      <th>kmeans</th>\n",
              "    </tr>\n",
              "  </thead>\n",
              "  <tbody>\n",
              "    <tr>\n",
              "      <th>17</th>\n",
              "      <td>rycoonPoe eee eesWe gp</td>\n",
              "      <td>Random</td>\n",
              "      <td>rycoonpo eee eesw gp</td>\n",
              "      <td>[-0.46587045608829397, 0.007188664441297903]</td>\n",
              "      <td>3</td>\n",
              "    </tr>\n",
              "    <tr>\n",
              "      <th>19</th>\n",
              "      <td>Being gay is like beingleft handed. Some peopl...</td>\n",
              "      <td>Positive</td>\n",
              "      <td>gay like beingleft hand peoplear peopl tfete e...</td>\n",
              "      <td>[-0.49092541645474247, 0.6421025466868687]</td>\n",
              "      <td>3</td>\n",
              "    </tr>\n",
              "    <tr>\n",
              "      <th>63</th>\n",
              "      <td>“Onstage, | am a devil. But I'm hardly asocial...</td>\n",
              "      <td>Positive</td>\n",
              "      <td>onstag devil hard asoci reject eee ae</td>\n",
              "      <td>[-0.46789097200216784, -0.005458264586320484]</td>\n",
              "      <td>3</td>\n",
              "    </tr>\n",
              "    <tr>\n",
              "      <th>72</th>\n",
              "      <td>Slowlerukectioeesrema’eesa elenaaaereene tersp...</td>\n",
              "      <td>Positive</td>\n",
              "      <td>slowlerukectioeesremaeesa elenaaaereen terspeo...</td>\n",
              "      <td>[-0.4647282805039732, -0.015752013559181797]</td>\n",
              "      <td>3</td>\n",
              "    </tr>\n",
              "    <tr>\n",
              "      <th>73</th>\n",
              "      <td>ee)totheDeteve big events such as the Finalhoh...</td>\n",
              "      <td>Random</td>\n",
              "      <td>ee tothedetev big event finalhoh eskonmsndeeleeda</td>\n",
              "      <td>[-0.467606991416649, 0.020661874134978376]</td>\n",
              "      <td>3</td>\n",
              "    </tr>\n",
              "    <tr>\n",
              "      <th>123</th>\n",
              "      <td>Being gay is like beingleft handed. Some peopl...</td>\n",
              "      <td>Positive</td>\n",
              "      <td>gay like beingleft hand peoplear peopl tfete e...</td>\n",
              "      <td>[-0.49092541645474247, 0.6421025466868687]</td>\n",
              "      <td>3</td>\n",
              "    </tr>\n",
              "    <tr>\n",
              "      <th>157</th>\n",
              "      <td>UE are)be overwhelming-to keep secrets,4 SE AC...</td>\n",
              "      <td>Random</td>\n",
              "      <td>ue overwhelm keep secret se acr ecr adeepc e e...</td>\n",
              "      <td>[-0.47412441795468774, 0.029823539342979773]</td>\n",
              "      <td>3</td>\n",
              "    </tr>\n",
              "    <tr>\n",
              "      <th>212</th>\n",
              "      <td>eSP &gt;</td>\n",
              "      <td>Random</td>\n",
              "      <td>esp</td>\n",
              "      <td>[-0.4620957987377043, -0.05384011110207666]</td>\n",
              "      <td>3</td>\n",
              "    </tr>\n",
              "  </tbody>\n",
              "</table>\n",
              "</div>"
            ],
            "text/plain": [
              "                                                  text  ... kmeans\n",
              "17                              rycoonPoe eee eesWe gp  ...      3\n",
              "19   Being gay is like beingleft handed. Some peopl...  ...      3\n",
              "63   “Onstage, | am a devil. But I'm hardly asocial...  ...      3\n",
              "72   Slowlerukectioeesrema’eesa elenaaaereene tersp...  ...      3\n",
              "73   ee)totheDeteve big events such as the Finalhoh...  ...      3\n",
              "123  Being gay is like beingleft handed. Some peopl...  ...      3\n",
              "157  UE are)be overwhelming-to keep secrets,4 SE AC...  ...      3\n",
              "212                                              eSP >  ...      3\n",
              "\n",
              "[8 rows x 5 columns]"
            ]
          },
          "metadata": {
            "tags": []
          },
          "execution_count": 144
        }
      ]
    },
    {
      "cell_type": "code",
      "metadata": {
        "id": "DG_KQ_izh5Ty",
        "colab_type": "code",
        "colab": {
          "base_uri": "https://localhost:8080/",
          "height": 111
        },
        "outputId": "af73fcce-b494-42cd-9428-47945259ca16"
      },
      "source": [
        "df[df['kmeans']==4]"
      ],
      "execution_count": null,
      "outputs": [
        {
          "output_type": "execute_result",
          "data": {
            "text/html": [
              "<div>\n",
              "<style scoped>\n",
              "    .dataframe tbody tr th:only-of-type {\n",
              "        vertical-align: middle;\n",
              "    }\n",
              "\n",
              "    .dataframe tbody tr th {\n",
              "        vertical-align: top;\n",
              "    }\n",
              "\n",
              "    .dataframe thead th {\n",
              "        text-align: right;\n",
              "    }\n",
              "</style>\n",
              "<table border=\"1\" class=\"dataframe\">\n",
              "  <thead>\n",
              "    <tr style=\"text-align: right;\">\n",
              "      <th></th>\n",
              "      <th>text</th>\n",
              "      <th>category</th>\n",
              "      <th>clean_text</th>\n",
              "      <th>pca</th>\n",
              "      <th>kmeans</th>\n",
              "    </tr>\n",
              "  </thead>\n",
              "  <tbody>\n",
              "    <tr>\n",
              "      <th>94</th>\n",
              "      <td>SOUNDS</td>\n",
              "      <td>Random</td>\n",
              "      <td>sound</td>\n",
              "      <td>[-0.47003186323853, -0.13630449628583266]</td>\n",
              "      <td>4</td>\n",
              "    </tr>\n",
              "    <tr>\n",
              "      <th>117</th>\n",
              "      <td>SOUNDS</td>\n",
              "      <td>Random</td>\n",
              "      <td>sound</td>\n",
              "      <td>[-0.47003186323853, -0.13630449628583266]</td>\n",
              "      <td>4</td>\n",
              "    </tr>\n",
              "  </tbody>\n",
              "</table>\n",
              "</div>"
            ],
            "text/plain": [
              "       text category  ...                                        pca kmeans\n",
              "94   SOUNDS   Random  ...  [-0.47003186323853, -0.13630449628583266]      4\n",
              "117  SOUNDS   Random  ...  [-0.47003186323853, -0.13630449628583266]      4\n",
              "\n",
              "[2 rows x 5 columns]"
            ]
          },
          "metadata": {
            "tags": []
          },
          "execution_count": 145
        }
      ]
    },
    {
      "cell_type": "code",
      "metadata": {
        "id": "ne2haU79ho5I",
        "colab_type": "code",
        "colab": {
          "base_uri": "https://localhost:8080/",
          "height": 433
        },
        "outputId": "10799e7b-4d98-4003-9230-67fff24eaeca"
      },
      "source": [
        "df[df['kmeans']==2]"
      ],
      "execution_count": null,
      "outputs": [
        {
          "output_type": "execute_result",
          "data": {
            "text/html": [
              "<div>\n",
              "<style scoped>\n",
              "    .dataframe tbody tr th:only-of-type {\n",
              "        vertical-align: middle;\n",
              "    }\n",
              "\n",
              "    .dataframe tbody tr th {\n",
              "        vertical-align: top;\n",
              "    }\n",
              "\n",
              "    .dataframe thead th {\n",
              "        text-align: right;\n",
              "    }\n",
              "</style>\n",
              "<table border=\"1\" class=\"dataframe\">\n",
              "  <thead>\n",
              "    <tr style=\"text-align: right;\">\n",
              "      <th></th>\n",
              "      <th>text</th>\n",
              "      <th>category</th>\n",
              "      <th>clean_text</th>\n",
              "      <th>pca</th>\n",
              "      <th>kmeans</th>\n",
              "    </tr>\n",
              "  </thead>\n",
              "  <tbody>\n",
              "    <tr>\n",
              "      <th>34</th>\n",
              "      <td>Zeigler, author of \"Fair Play: How LGBT Athlet...</td>\n",
              "      <td>Positive</td>\n",
              "      <td>zeigler author fair play lgbt athlet claim the...</td>\n",
              "      <td>[-0.4792248146746869, 0.055467046184564085]</td>\n",
              "      <td>2</td>\n",
              "    </tr>\n",
              "    <tr>\n",
              "      <th>39</th>\n",
              "      <td>‘Zeigler, author of \"Fair Play: How LGBT Athle...</td>\n",
              "      <td>Positive</td>\n",
              "      <td>zeigler author fair play lgbt athlet claim the...</td>\n",
              "      <td>[-0.4789521934078539, 0.05716780632240579]</td>\n",
              "      <td>2</td>\n",
              "    </tr>\n",
              "    <tr>\n",
              "      <th>107</th>\n",
              "      <td>We are legal!!! In all fifty states!!!</td>\n",
              "      <td>Positive</td>\n",
              "      <td>legal fifti state</td>\n",
              "      <td>[-0.4720119638705174, -0.16599829600592086]</td>\n",
              "      <td>2</td>\n",
              "    </tr>\n",
              "    <tr>\n",
              "      <th>140</th>\n",
              "      <td>Gay pride or LGBT pride is the positive stance...</td>\n",
              "      <td>Positive</td>\n",
              "      <td>gay pride lgbt pride posit stanc againstdiscri...</td>\n",
              "      <td>[-0.47507524620584113, 0.10078826606056766]</td>\n",
              "      <td>2</td>\n",
              "    </tr>\n",
              "    <tr>\n",
              "      <th>148</th>\n",
              "      <td>We are legal!!! In all fifty states!!!</td>\n",
              "      <td>Positive</td>\n",
              "      <td>legal fifti state</td>\n",
              "      <td>[-0.4720119638705174, -0.16599829600592086]</td>\n",
              "      <td>2</td>\n",
              "    </tr>\n",
              "    <tr>\n",
              "      <th>162</th>\n",
              "      <td>Irased on or was the outcome of the perception...</td>\n",
              "      <td>Positive</td>\n",
              "      <td>iras outcom percept attitud audienc toward the...</td>\n",
              "      <td>[-0.4697853591635277, -0.044712572600874204]</td>\n",
              "      <td>2</td>\n",
              "    </tr>\n",
              "    <tr>\n",
              "      <th>204</th>\n",
              "      <td>Anti-Bullying: States that have laws prohibiti...</td>\n",
              "      <td>Positive</td>\n",
              "      <td>anti bulli state law prohibit bulli student on...</td>\n",
              "      <td>[-0.46614486941739314, -0.07949251782424278]</td>\n",
              "      <td>2</td>\n",
              "    </tr>\n",
              "    <tr>\n",
              "      <th>217</th>\n",
              "      <td>Anti-LGBT: States that have laws restricting t...</td>\n",
              "      <td>Random</td>\n",
              "      <td>anti lgbt state law restrict teacher staff fro...</td>\n",
              "      <td>[-0.46881137727077354, -0.07428721607305404]</td>\n",
              "      <td>2</td>\n",
              "    </tr>\n",
              "  </tbody>\n",
              "</table>\n",
              "</div>"
            ],
            "text/plain": [
              "                                                  text  ... kmeans\n",
              "34   Zeigler, author of \"Fair Play: How LGBT Athlet...  ...      2\n",
              "39   ‘Zeigler, author of \"Fair Play: How LGBT Athle...  ...      2\n",
              "107             We are legal!!! In all fifty states!!!  ...      2\n",
              "140  Gay pride or LGBT pride is the positive stance...  ...      2\n",
              "148             We are legal!!! In all fifty states!!!  ...      2\n",
              "162  Irased on or was the outcome of the perception...  ...      2\n",
              "204  Anti-Bullying: States that have laws prohibiti...  ...      2\n",
              "217  Anti-LGBT: States that have laws restricting t...  ...      2\n",
              "\n",
              "[8 rows x 5 columns]"
            ]
          },
          "metadata": {
            "tags": []
          },
          "execution_count": 146
        }
      ]
    },
    {
      "cell_type": "code",
      "metadata": {
        "id": "h6W0EgSTiAV5",
        "colab_type": "code",
        "colab": {
          "base_uri": "https://localhost:8080/",
          "height": 419
        },
        "outputId": "e2a3a5a2-7a63-4aa1-8a47-47fdc9a219ff"
      },
      "source": [
        "df[df['kmeans']==1]"
      ],
      "execution_count": null,
      "outputs": [
        {
          "output_type": "execute_result",
          "data": {
            "text/html": [
              "<div>\n",
              "<style scoped>\n",
              "    .dataframe tbody tr th:only-of-type {\n",
              "        vertical-align: middle;\n",
              "    }\n",
              "\n",
              "    .dataframe tbody tr th {\n",
              "        vertical-align: top;\n",
              "    }\n",
              "\n",
              "    .dataframe thead th {\n",
              "        text-align: right;\n",
              "    }\n",
              "</style>\n",
              "<table border=\"1\" class=\"dataframe\">\n",
              "  <thead>\n",
              "    <tr style=\"text-align: right;\">\n",
              "      <th></th>\n",
              "      <th>text</th>\n",
              "      <th>category</th>\n",
              "      <th>clean_text</th>\n",
              "      <th>pca</th>\n",
              "      <th>kmeans</th>\n",
              "    </tr>\n",
              "  </thead>\n",
              "  <tbody>\n",
              "    <tr>\n",
              "      <th>5</th>\n",
              "      <td>no text</td>\n",
              "      <td>Random</td>\n",
              "      <td>text</td>\n",
              "      <td>[0.5390438266653736, 0.0007941427927522107]</td>\n",
              "      <td>1</td>\n",
              "    </tr>\n",
              "    <tr>\n",
              "      <th>6</th>\n",
              "      <td>no text</td>\n",
              "      <td>Random</td>\n",
              "      <td>text</td>\n",
              "      <td>[0.5390438266653736, 0.0007941427927522142]</td>\n",
              "      <td>1</td>\n",
              "    </tr>\n",
              "    <tr>\n",
              "      <th>7</th>\n",
              "      <td>no text</td>\n",
              "      <td>Random</td>\n",
              "      <td>text</td>\n",
              "      <td>[0.5390438266653736, 0.0007941427927522083]</td>\n",
              "      <td>1</td>\n",
              "    </tr>\n",
              "    <tr>\n",
              "      <th>8</th>\n",
              "      <td>no text</td>\n",
              "      <td>Random</td>\n",
              "      <td>text</td>\n",
              "      <td>[0.5390438266653736, 0.0007941427927522015]</td>\n",
              "      <td>1</td>\n",
              "    </tr>\n",
              "    <tr>\n",
              "      <th>9</th>\n",
              "      <td>no text</td>\n",
              "      <td>Random</td>\n",
              "      <td>text</td>\n",
              "      <td>[0.5390438266653736, 0.000794142792752215]</td>\n",
              "      <td>1</td>\n",
              "    </tr>\n",
              "    <tr>\n",
              "      <th>...</th>\n",
              "      <td>...</td>\n",
              "      <td>...</td>\n",
              "      <td>...</td>\n",
              "      <td>...</td>\n",
              "      <td>...</td>\n",
              "    </tr>\n",
              "    <tr>\n",
              "      <th>234</th>\n",
              "      <td>no text</td>\n",
              "      <td>Random</td>\n",
              "      <td>text</td>\n",
              "      <td>[0.5390438266653736, 0.0007941427927522079]</td>\n",
              "      <td>1</td>\n",
              "    </tr>\n",
              "    <tr>\n",
              "      <th>235</th>\n",
              "      <td>no text</td>\n",
              "      <td>Random</td>\n",
              "      <td>text</td>\n",
              "      <td>[0.5390438266653736, 0.0007941427927522079]</td>\n",
              "      <td>1</td>\n",
              "    </tr>\n",
              "    <tr>\n",
              "      <th>236</th>\n",
              "      <td>no text</td>\n",
              "      <td>Random</td>\n",
              "      <td>text</td>\n",
              "      <td>[0.5390438266653736, 0.0007941427927522079]</td>\n",
              "      <td>1</td>\n",
              "    </tr>\n",
              "    <tr>\n",
              "      <th>237</th>\n",
              "      <td>no text</td>\n",
              "      <td>Random</td>\n",
              "      <td>text</td>\n",
              "      <td>[0.5390438266653736, 0.0007941427927522079]</td>\n",
              "      <td>1</td>\n",
              "    </tr>\n",
              "    <tr>\n",
              "      <th>238</th>\n",
              "      <td>no text</td>\n",
              "      <td>Random</td>\n",
              "      <td>text</td>\n",
              "      <td>[0.5390438266653736, 0.0007941427927522079]</td>\n",
              "      <td>1</td>\n",
              "    </tr>\n",
              "  </tbody>\n",
              "</table>\n",
              "<p>111 rows × 5 columns</p>\n",
              "</div>"
            ],
            "text/plain": [
              "        text category  ...                                          pca kmeans\n",
              "5    no text   Random  ...  [0.5390438266653736, 0.0007941427927522107]      1\n",
              "6    no text   Random  ...  [0.5390438266653736, 0.0007941427927522142]      1\n",
              "7    no text   Random  ...  [0.5390438266653736, 0.0007941427927522083]      1\n",
              "8    no text   Random  ...  [0.5390438266653736, 0.0007941427927522015]      1\n",
              "9    no text   Random  ...   [0.5390438266653736, 0.000794142792752215]      1\n",
              "..       ...      ...  ...                                          ...    ...\n",
              "234  no text   Random  ...  [0.5390438266653736, 0.0007941427927522079]      1\n",
              "235  no text   Random  ...  [0.5390438266653736, 0.0007941427927522079]      1\n",
              "236  no text   Random  ...  [0.5390438266653736, 0.0007941427927522079]      1\n",
              "237  no text   Random  ...  [0.5390438266653736, 0.0007941427927522079]      1\n",
              "238  no text   Random  ...  [0.5390438266653736, 0.0007941427927522079]      1\n",
              "\n",
              "[111 rows x 5 columns]"
            ]
          },
          "metadata": {
            "tags": []
          },
          "execution_count": 147
        }
      ]
    },
    {
      "cell_type": "code",
      "metadata": {
        "id": "_DHOcfyalZUa",
        "colab_type": "code",
        "colab": {
          "base_uri": "https://localhost:8080/",
          "height": 589
        },
        "outputId": "ae58fc94-ad91-4b21-a85f-d1eb0bc656f7"
      },
      "source": [
        "df[df['kmeans']==0]"
      ],
      "execution_count": null,
      "outputs": [
        {
          "output_type": "execute_result",
          "data": {
            "text/html": [
              "<div>\n",
              "<style scoped>\n",
              "    .dataframe tbody tr th:only-of-type {\n",
              "        vertical-align: middle;\n",
              "    }\n",
              "\n",
              "    .dataframe tbody tr th {\n",
              "        vertical-align: top;\n",
              "    }\n",
              "\n",
              "    .dataframe thead th {\n",
              "        text-align: right;\n",
              "    }\n",
              "</style>\n",
              "<table border=\"1\" class=\"dataframe\">\n",
              "  <thead>\n",
              "    <tr style=\"text-align: right;\">\n",
              "      <th></th>\n",
              "      <th>text</th>\n",
              "      <th>category</th>\n",
              "      <th>clean_text</th>\n",
              "      <th>pca</th>\n",
              "      <th>kmeans</th>\n",
              "    </tr>\n",
              "  </thead>\n",
              "  <tbody>\n",
              "    <tr>\n",
              "      <th>0</th>\n",
              "      <td>Se aCe en asCard———]</td>\n",
              "      <td>Random</td>\n",
              "      <td>se ace en ascard</td>\n",
              "      <td>[-0.46694440363381146, -0.03681018650884662]</td>\n",
              "      <td>0</td>\n",
              "    </tr>\n",
              "    <tr>\n",
              "      <th>1</th>\n",
              "      <td>Colt) NGSTEAIGHT'Y BASTERAINBOW’a</td>\n",
              "      <td>Random</td>\n",
              "      <td>colt ngsteaight basterainbow</td>\n",
              "      <td>[-0.4620957987377668, -0.05421095819806234]</td>\n",
              "      <td>0</td>\n",
              "    </tr>\n",
              "    <tr>\n",
              "      <th>2</th>\n",
              "      <td>ONE DAYWON'T HAVE TO“COME OUT OFTHE CLOWE'LL J...</td>\n",
              "      <td>Random</td>\n",
              "      <td>one daywon come ofth clow ju vep ty l beall ma...</td>\n",
              "      <td>[-0.46732550398398814, -0.028501251083103467]</td>\n",
              "      <td>0</td>\n",
              "    </tr>\n",
              "    <tr>\n",
              "      <th>3</th>\n",
              "      <td>A KEEP CALMAND LOVEWHO YOU WANTior</td>\n",
              "      <td>Positive</td>\n",
              "      <td>keep calmand lovewho wantior</td>\n",
              "      <td>[-0.4644112395037997, -0.041984719559498423]</td>\n",
              "      <td>0</td>\n",
              "    </tr>\n",
              "    <tr>\n",
              "      <th>4</th>\n",
              "      <td>Fagms. id2ato be norm.!you will never knowea S...</td>\n",
              "      <td>Random</td>\n",
              "      <td>fagm id2ato norm never knowea seareai oesa chia</td>\n",
              "      <td>[-0.46209579873771517, -0.053279667334234254]</td>\n",
              "      <td>0</td>\n",
              "    </tr>\n",
              "    <tr>\n",
              "      <th>...</th>\n",
              "      <td>...</td>\n",
              "      <td>...</td>\n",
              "      <td>...</td>\n",
              "      <td>...</td>\n",
              "      <td>...</td>\n",
              "    </tr>\n",
              "    <tr>\n",
              "      <th>215</th>\n",
              "      <td>BITCHGHETTOILLEGAL ALIENNO HOMORETARDED &amp; LAME...</td>\n",
              "      <td>Negative</td>\n",
              "      <td>bitchghettoilleg alienno homoretard lamethat g...</td>\n",
              "      <td>[-0.46209579873770806, -0.05438858456508503]</td>\n",
              "      <td>0</td>\n",
              "    </tr>\n",
              "    <tr>\n",
              "      <th>218</th>\n",
              "      <td>Few Say Being LGRT Is 4 NegativeFactor in Thei...</td>\n",
              "      <td>Negative</td>\n",
              "      <td>say lgrt negativefactor thei titeey es aaltepe...</td>\n",
              "      <td>[-0.46522915473062126, -0.05104996135049973]</td>\n",
              "      <td>0</td>\n",
              "    </tr>\n",
              "    <tr>\n",
              "      <th>224</th>\n",
              "      <td>JasonJ &amp;jaybs121|4| =@) Added Me Everyone add ...</td>\n",
              "      <td>Positive</td>\n",
              "      <td>jasonj jaybs121 ad everyon add newsnapchat com...</td>\n",
              "      <td>[-0.46751267745291597, 0.03893183059533847]</td>\n",
              "      <td>0</td>\n",
              "    </tr>\n",
              "    <tr>\n",
              "      <th>225</th>\n",
              "      <td>“You either say how you feel and fuckit up or ...</td>\n",
              "      <td>Negative</td>\n",
              "      <td>either say feel fuckit say noth let fuck instead</td>\n",
              "      <td>[-0.47289554921849986, -0.038547291261093804]</td>\n",
              "      <td>0</td>\n",
              "    </tr>\n",
              "    <tr>\n",
              "      <th>230</th>\n",
              "      <td>ct i ss</td>\n",
              "      <td>Random</td>\n",
              "      <td>ct ss</td>\n",
              "      <td>[-0.4620957987377506, -0.0543496952283872]</td>\n",
              "      <td>0</td>\n",
              "    </tr>\n",
              "  </tbody>\n",
              "</table>\n",
              "<p>110 rows × 5 columns</p>\n",
              "</div>"
            ],
            "text/plain": [
              "                                                  text  ... kmeans\n",
              "0                                 Se aCe en asCard———]  ...      0\n",
              "1                    Colt) NGSTEAIGHT'Y BASTERAINBOW’a  ...      0\n",
              "2    ONE DAYWON'T HAVE TO“COME OUT OFTHE CLOWE'LL J...  ...      0\n",
              "3                   A KEEP CALMAND LOVEWHO YOU WANTior  ...      0\n",
              "4    Fagms. id2ato be norm.!you will never knowea S...  ...      0\n",
              "..                                                 ...  ...    ...\n",
              "215  BITCHGHETTOILLEGAL ALIENNO HOMORETARDED & LAME...  ...      0\n",
              "218  Few Say Being LGRT Is 4 NegativeFactor in Thei...  ...      0\n",
              "224  JasonJ &jaybs121|4| =@) Added Me Everyone add ...  ...      0\n",
              "225  “You either say how you feel and fuckit up or ...  ...      0\n",
              "230                                            ct i ss  ...      0\n",
              "\n",
              "[110 rows x 5 columns]"
            ]
          },
          "metadata": {
            "tags": []
          },
          "execution_count": 148
        }
      ]
    },
    {
      "cell_type": "code",
      "metadata": {
        "id": "u1TdCsbkjCTf",
        "colab_type": "code",
        "colab": {}
      },
      "source": [
        "def target(k):\n",
        "  if k == 1 or k ==4:\n",
        "    return 'Random'\n",
        "  elif k ==0 :\n",
        "    return 'Positive'\n",
        "  else:\n",
        "    return 'Negative'\n",
        "df['target'] = df['kmeans'].apply(lambda x : target(x))"
      ],
      "execution_count": null,
      "outputs": []
    },
    {
      "cell_type": "code",
      "metadata": {
        "id": "QJWwaw2KlRif",
        "colab_type": "code",
        "colab": {
          "base_uri": "https://localhost:8080/",
          "height": 289
        },
        "outputId": "79d5f3cc-21b3-4a86-d520-431e76761b68"
      },
      "source": [
        "df.head()"
      ],
      "execution_count": null,
      "outputs": [
        {
          "output_type": "execute_result",
          "data": {
            "text/html": [
              "<div>\n",
              "<style scoped>\n",
              "    .dataframe tbody tr th:only-of-type {\n",
              "        vertical-align: middle;\n",
              "    }\n",
              "\n",
              "    .dataframe tbody tr th {\n",
              "        vertical-align: top;\n",
              "    }\n",
              "\n",
              "    .dataframe thead th {\n",
              "        text-align: right;\n",
              "    }\n",
              "</style>\n",
              "<table border=\"1\" class=\"dataframe\">\n",
              "  <thead>\n",
              "    <tr style=\"text-align: right;\">\n",
              "      <th></th>\n",
              "      <th>text</th>\n",
              "      <th>category</th>\n",
              "      <th>clean_text</th>\n",
              "      <th>pca</th>\n",
              "      <th>kmeans</th>\n",
              "      <th>target</th>\n",
              "    </tr>\n",
              "  </thead>\n",
              "  <tbody>\n",
              "    <tr>\n",
              "      <th>0</th>\n",
              "      <td>Se aCe en asCard———]</td>\n",
              "      <td>Random</td>\n",
              "      <td>se ace en ascard</td>\n",
              "      <td>[-0.46694440363381146, -0.03681018650884662]</td>\n",
              "      <td>0</td>\n",
              "      <td>Positive</td>\n",
              "    </tr>\n",
              "    <tr>\n",
              "      <th>1</th>\n",
              "      <td>Colt) NGSTEAIGHT'Y BASTERAINBOW’a</td>\n",
              "      <td>Random</td>\n",
              "      <td>colt ngsteaight basterainbow</td>\n",
              "      <td>[-0.4620957987377668, -0.05421095819806234]</td>\n",
              "      <td>0</td>\n",
              "      <td>Positive</td>\n",
              "    </tr>\n",
              "    <tr>\n",
              "      <th>2</th>\n",
              "      <td>ONE DAYWON'T HAVE TO“COME OUT OFTHE CLOWE'LL J...</td>\n",
              "      <td>Random</td>\n",
              "      <td>one daywon come ofth clow ju vep ty l beall ma...</td>\n",
              "      <td>[-0.46732550398398814, -0.028501251083103467]</td>\n",
              "      <td>0</td>\n",
              "      <td>Positive</td>\n",
              "    </tr>\n",
              "    <tr>\n",
              "      <th>3</th>\n",
              "      <td>A KEEP CALMAND LOVEWHO YOU WANTior</td>\n",
              "      <td>Positive</td>\n",
              "      <td>keep calmand lovewho wantior</td>\n",
              "      <td>[-0.4644112395037997, -0.041984719559498423]</td>\n",
              "      <td>0</td>\n",
              "      <td>Positive</td>\n",
              "    </tr>\n",
              "    <tr>\n",
              "      <th>4</th>\n",
              "      <td>Fagms. id2ato be norm.!you will never knowea S...</td>\n",
              "      <td>Random</td>\n",
              "      <td>fagm id2ato norm never knowea seareai oesa chia</td>\n",
              "      <td>[-0.46209579873771517, -0.053279667334234254]</td>\n",
              "      <td>0</td>\n",
              "      <td>Positive</td>\n",
              "    </tr>\n",
              "  </tbody>\n",
              "</table>\n",
              "</div>"
            ],
            "text/plain": [
              "                                                text  ...    target\n",
              "0                               Se aCe en asCard———]  ...  Positive\n",
              "1                  Colt) NGSTEAIGHT'Y BASTERAINBOW’a  ...  Positive\n",
              "2  ONE DAYWON'T HAVE TO“COME OUT OFTHE CLOWE'LL J...  ...  Positive\n",
              "3                 A KEEP CALMAND LOVEWHO YOU WANTior  ...  Positive\n",
              "4  Fagms. id2ato be norm.!you will never knowea S...  ...  Positive\n",
              "\n",
              "[5 rows x 6 columns]"
            ]
          },
          "metadata": {
            "tags": []
          },
          "execution_count": 150
        }
      ]
    },
    {
      "cell_type": "code",
      "metadata": {
        "id": "xFI71vKdlTQ2",
        "colab_type": "code",
        "colab": {
          "base_uri": "https://localhost:8080/",
          "height": 296
        },
        "outputId": "2a3b209c-5fc5-4f08-f6ea-6aede8a91001"
      },
      "source": [
        "sns.countplot(df['target'])"
      ],
      "execution_count": null,
      "outputs": [
        {
          "output_type": "execute_result",
          "data": {
            "text/plain": [
              "<matplotlib.axes._subplots.AxesSubplot at 0x7f30dd381fd0>"
            ]
          },
          "metadata": {
            "tags": []
          },
          "execution_count": 151
        },
        {
          "output_type": "display_data",
          "data": {
            "image/png": "[encoded data removed]",
            "text/plain": [
              "<Figure size 432x288 with 1 Axes>"
            ]
          },
          "metadata": {
            "tags": [],
            "needs_background": "light"
          }
        }
      ]
    },
    {
      "cell_type": "code",
      "metadata": {
        "id": "gSAopPBZmWqf",
        "colab_type": "code",
        "colab": {}
      },
      "source": [
        "#df['clean_text'] = hero.clean(df['text'], pipeline = custom_pipeline)\n",
        "df = df[['clean_text','target']].copy()"
      ],
      "execution_count": null,
      "outputs": []
    },
    {
      "cell_type": "code",
      "metadata": {
        "id": "V-OTCr2yocpO",
        "colab_type": "code",
        "colab": {
          "base_uri": "https://localhost:8080/",
          "height": 204
        },
        "outputId": "4df82ae3-f3c4-40ab-ce8d-5a62a87b5c46"
      },
      "source": [
        "df.head()"
      ],
      "execution_count": null,
      "outputs": [
        {
          "output_type": "execute_result",
          "data": {
            "text/html": [
              "<div>\n",
              "<style scoped>\n",
              "    .dataframe tbody tr th:only-of-type {\n",
              "        vertical-align: middle;\n",
              "    }\n",
              "\n",
              "    .dataframe tbody tr th {\n",
              "        vertical-align: top;\n",
              "    }\n",
              "\n",
              "    .dataframe thead th {\n",
              "        text-align: right;\n",
              "    }\n",
              "</style>\n",
              "<table border=\"1\" class=\"dataframe\">\n",
              "  <thead>\n",
              "    <tr style=\"text-align: right;\">\n",
              "      <th></th>\n",
              "      <th>clean_text</th>\n",
              "      <th>target</th>\n",
              "    </tr>\n",
              "  </thead>\n",
              "  <tbody>\n",
              "    <tr>\n",
              "      <th>0</th>\n",
              "      <td>se ace en ascard</td>\n",
              "      <td>Positive</td>\n",
              "    </tr>\n",
              "    <tr>\n",
              "      <th>1</th>\n",
              "      <td>colt ngsteaight basterainbow</td>\n",
              "      <td>Positive</td>\n",
              "    </tr>\n",
              "    <tr>\n",
              "      <th>2</th>\n",
              "      <td>one daywon come ofth clow ju vep ty l beall ma...</td>\n",
              "      <td>Positive</td>\n",
              "    </tr>\n",
              "    <tr>\n",
              "      <th>3</th>\n",
              "      <td>keep calmand lovewho wantior</td>\n",
              "      <td>Positive</td>\n",
              "    </tr>\n",
              "    <tr>\n",
              "      <th>4</th>\n",
              "      <td>fagm id2ato norm never knowea seareai oesa chia</td>\n",
              "      <td>Positive</td>\n",
              "    </tr>\n",
              "  </tbody>\n",
              "</table>\n",
              "</div>"
            ],
            "text/plain": [
              "                                          clean_text    target\n",
              "0                                   se ace en ascard  Positive\n",
              "1                       colt ngsteaight basterainbow  Positive\n",
              "2  one daywon come ofth clow ju vep ty l beall ma...  Positive\n",
              "3                       keep calmand lovewho wantior  Positive\n",
              "4    fagm id2ato norm never knowea seareai oesa chia  Positive"
            ]
          },
          "metadata": {
            "tags": []
          },
          "execution_count": 199
        }
      ]
    },
    {
      "cell_type": "code",
      "metadata": {
        "id": "FVu3_R9ZrMb0",
        "colab_type": "code",
        "colab": {}
      },
      "source": [
        "def rettarget(text):\n",
        "  words = text.split(\" \")\n",
        "  for word in words:\n",
        "    if word in homophobic_words:\n",
        "      return 'Negative'"
      ],
      "execution_count": null,
      "outputs": []
    },
    {
      "cell_type": "code",
      "metadata": {
        "id": "puzranK1qyLR",
        "colab_type": "code",
        "colab": {}
      },
      "source": [
        "tfidf,name = hero.tfidf(df['clean_text'],max_features=100,return_feature_names=True)"
      ],
      "execution_count": null,
      "outputs": []
    },
    {
      "cell_type": "code",
      "metadata": {
        "id": "eiyXV7Mrw2O-",
        "colab_type": "code",
        "colab": {
          "base_uri": "https://localhost:8080/",
          "height": 34
        },
        "outputId": "a4cc8fc9-6ff0-48bd-e0a8-55b7b1a441c5"
      },
      "source": [
        "len(tfidf[0]),len(name)"
      ],
      "execution_count": null,
      "outputs": [
        {
          "output_type": "execute_result",
          "data": {
            "text/plain": [
              "(100, 100)"
            ]
          },
          "metadata": {
            "tags": []
          },
          "execution_count": 155
        }
      ]
    },
    {
      "cell_type": "code",
      "metadata": {
        "id": "iA_zOtIQ1z1E",
        "colab_type": "code",
        "colab": {
          "base_uri": "https://localhost:8080/",
          "height": 34
        },
        "outputId": "85a80b66-df37-4371-a390-998d3769829c"
      },
      "source": [
        "type(tfidf)"
      ],
      "execution_count": null,
      "outputs": [
        {
          "output_type": "execute_result",
          "data": {
            "text/plain": [
              "pandas.core.series.Series"
            ]
          },
          "metadata": {
            "tags": []
          },
          "execution_count": 156
        }
      ]
    },
    {
      "cell_type": "code",
      "metadata": {
        "id": "R3yx8P9H2n1P",
        "colab_type": "code",
        "colab": {}
      },
      "source": [
        "tf_list =[]\n",
        "for item in tfidf.values:\n",
        "  tf_list.append(item)"
      ],
      "execution_count": null,
      "outputs": []
    },
    {
      "cell_type": "code",
      "metadata": {
        "id": "aQ1alDXt2t4w",
        "colab_type": "code",
        "colab": {}
      },
      "source": [
        "tf_list = np.array(tf_list)"
      ],
      "execution_count": null,
      "outputs": []
    },
    {
      "cell_type": "code",
      "metadata": {
        "id": "HKVtbq845S7H",
        "colab_type": "code",
        "colab": {
          "base_uri": "https://localhost:8080/",
          "height": 34
        },
        "outputId": "30655242-ccd3-46fe-af96-25f119854762"
      },
      "source": [
        "tf_list.shape"
      ],
      "execution_count": null,
      "outputs": [
        {
          "output_type": "execute_result",
          "data": {
            "text/plain": [
              "(239, 100)"
            ]
          },
          "metadata": {
            "tags": []
          },
          "execution_count": 159
        }
      ]
    },
    {
      "cell_type": "code",
      "metadata": {
        "id": "nsRq_bfew29q",
        "colab_type": "code",
        "colab": {}
      },
      "source": [
        "import numpy as np\n",
        "tfidf_df  = pd.DataFrame(tf_list,columns=name)"
      ],
      "execution_count": null,
      "outputs": []
    },
    {
      "cell_type": "code",
      "metadata": {
        "id": "SCkTQ_r3z3tU",
        "colab_type": "code",
        "colab": {
          "base_uri": "https://localhost:8080/",
          "height": 34
        },
        "outputId": "0b362047-b52a-4e83-ba5e-6a29cbc4a491"
      },
      "source": [
        "tfidf_df.shape"
      ],
      "execution_count": null,
      "outputs": [
        {
          "output_type": "execute_result",
          "data": {
            "text/plain": [
              "(239, 100)"
            ]
          },
          "metadata": {
            "tags": []
          },
          "execution_count": 161
        }
      ]
    },
    {
      "cell_type": "code",
      "metadata": {
        "id": "vHggwREQ1UWJ",
        "colab_type": "code",
        "colab": {}
      },
      "source": [
        "df_train = pd.concat([tfidf_df,df],axis=1)"
      ],
      "execution_count": null,
      "outputs": []
    },
    {
      "cell_type": "code",
      "metadata": {
        "id": "gODf_r0n50oL",
        "colab_type": "code",
        "colab": {
          "base_uri": "https://localhost:8080/",
          "height": 491
        },
        "outputId": "2fdfbe82-4960-4422-ba2c-c4d08a426b1b"
      },
      "source": [
        "df_train.head()"
      ],
      "execution_count": null,
      "outputs": [
        {
          "output_type": "execute_result",
          "data": {
            "text/html": [
              "<div>\n",
              "<style scoped>\n",
              "    .dataframe tbody tr th:only-of-type {\n",
              "        vertical-align: middle;\n",
              "    }\n",
              "\n",
              "    .dataframe tbody tr th {\n",
              "        vertical-align: top;\n",
              "    }\n",
              "\n",
              "    .dataframe thead th {\n",
              "        text-align: right;\n",
              "    }\n",
              "</style>\n",
              "<table border=\"1\" class=\"dataframe\">\n",
              "  <thead>\n",
              "    <tr style=\"text-align: right;\">\n",
              "      <th></th>\n",
              "      <th>1am</th>\n",
              "      <th>ad</th>\n",
              "      <th>ae</th>\n",
              "      <th>afraid</th>\n",
              "      <th>al</th>\n",
              "      <th>athlet</th>\n",
              "      <th>away</th>\n",
              "      <th>c</th>\n",
              "      <th>ce</th>\n",
              "      <th>claim</th>\n",
              "      <th>closet</th>\n",
              "      <th>com</th>\n",
              "      <th>come</th>\n",
              "      <th>curv</th>\n",
              "      <th>danger</th>\n",
              "      <th>dat</th>\n",
              "      <th>day</th>\n",
              "      <th>defi</th>\n",
              "      <th>demean</th>\n",
              "      <th>deut</th>\n",
              "      <th>differentfrom</th>\n",
              "      <th>dodg</th>\n",
              "      <th>dss</th>\n",
              "      <th>e</th>\n",
              "      <th>ea</th>\n",
              "      <th>eae</th>\n",
              "      <th>ee</th>\n",
              "      <th>eee</th>\n",
              "      <th>eel</th>\n",
              "      <th>et</th>\n",
              "      <th>even</th>\n",
              "      <th>exist</th>\n",
              "      <th>ff</th>\n",
              "      <th>gay</th>\n",
              "      <th>geckoandfli</th>\n",
              "      <th>gender</th>\n",
              "      <th>human</th>\n",
              "      <th>hyper</th>\n",
              "      <th>indian</th>\n",
              "      <th>instead</th>\n",
              "      <th>...</th>\n",
              "      <th>play</th>\n",
              "      <th>portray</th>\n",
              "      <th>posit</th>\n",
              "      <th>pride</th>\n",
              "      <th>proud</th>\n",
              "      <th>quot</th>\n",
              "      <th>quoteswww</th>\n",
              "      <th>r</th>\n",
              "      <th>rise</th>\n",
              "      <th>said</th>\n",
              "      <th>say</th>\n",
              "      <th>se</th>\n",
              "      <th>see</th>\n",
              "      <th>sin</th>\n",
              "      <th>sorri</th>\n",
              "      <th>sound</th>\n",
              "      <th>space</th>\n",
              "      <th>sport</th>\n",
              "      <th>stand</th>\n",
              "      <th>state</th>\n",
              "      <th>stop</th>\n",
              "      <th>straight</th>\n",
              "      <th>street</th>\n",
              "      <th>subconsci</th>\n",
              "      <th>talk</th>\n",
              "      <th>te</th>\n",
              "      <th>tell</th>\n",
              "      <th>text</th>\n",
              "      <th>theme</th>\n",
              "      <th>thing</th>\n",
              "      <th>time</th>\n",
              "      <th>toward</th>\n",
              "      <th>truth</th>\n",
              "      <th>vers</th>\n",
              "      <th>way</th>\n",
              "      <th>women</th>\n",
              "      <th>yousay</th>\n",
              "      <th>zeigler</th>\n",
              "      <th>clean_text</th>\n",
              "      <th>target</th>\n",
              "    </tr>\n",
              "  </thead>\n",
              "  <tbody>\n",
              "    <tr>\n",
              "      <th>0</th>\n",
              "      <td>0.0</td>\n",
              "      <td>0.0</td>\n",
              "      <td>0.0</td>\n",
              "      <td>0.0</td>\n",
              "      <td>0.0</td>\n",
              "      <td>0.0</td>\n",
              "      <td>0.0</td>\n",
              "      <td>0.0</td>\n",
              "      <td>0.0</td>\n",
              "      <td>0.0</td>\n",
              "      <td>0.0</td>\n",
              "      <td>0.0</td>\n",
              "      <td>0.00000</td>\n",
              "      <td>0.0</td>\n",
              "      <td>0.0</td>\n",
              "      <td>0.0</td>\n",
              "      <td>0.0</td>\n",
              "      <td>0.0</td>\n",
              "      <td>0.0</td>\n",
              "      <td>0.0</td>\n",
              "      <td>0.0</td>\n",
              "      <td>0.0</td>\n",
              "      <td>0.0</td>\n",
              "      <td>0.0</td>\n",
              "      <td>0.0</td>\n",
              "      <td>0.0</td>\n",
              "      <td>0.0</td>\n",
              "      <td>0.0</td>\n",
              "      <td>0.0</td>\n",
              "      <td>0.0</td>\n",
              "      <td>0.0</td>\n",
              "      <td>0.0</td>\n",
              "      <td>0.0</td>\n",
              "      <td>0.0</td>\n",
              "      <td>0.0</td>\n",
              "      <td>0.0</td>\n",
              "      <td>0.0</td>\n",
              "      <td>0.0</td>\n",
              "      <td>0.0</td>\n",
              "      <td>0.0</td>\n",
              "      <td>...</td>\n",
              "      <td>0.0</td>\n",
              "      <td>0.0</td>\n",
              "      <td>0.0</td>\n",
              "      <td>0.0</td>\n",
              "      <td>0.0</td>\n",
              "      <td>0.0</td>\n",
              "      <td>0.0</td>\n",
              "      <td>0.0</td>\n",
              "      <td>0.0</td>\n",
              "      <td>0.0</td>\n",
              "      <td>0.0</td>\n",
              "      <td>1.0</td>\n",
              "      <td>0.0</td>\n",
              "      <td>0.0</td>\n",
              "      <td>0.0</td>\n",
              "      <td>0.0</td>\n",
              "      <td>0.0</td>\n",
              "      <td>0.0</td>\n",
              "      <td>0.0</td>\n",
              "      <td>0.0</td>\n",
              "      <td>0.0</td>\n",
              "      <td>0.0</td>\n",
              "      <td>0.0</td>\n",
              "      <td>0.0</td>\n",
              "      <td>0.0</td>\n",
              "      <td>0.0</td>\n",
              "      <td>0.0</td>\n",
              "      <td>0.0</td>\n",
              "      <td>0.0</td>\n",
              "      <td>0.0</td>\n",
              "      <td>0.0</td>\n",
              "      <td>0.0</td>\n",
              "      <td>0.0</td>\n",
              "      <td>0.0</td>\n",
              "      <td>0.0</td>\n",
              "      <td>0.0</td>\n",
              "      <td>0.0</td>\n",
              "      <td>0.0</td>\n",
              "      <td>se ace en ascard</td>\n",
              "      <td>Positive</td>\n",
              "    </tr>\n",
              "    <tr>\n",
              "      <th>1</th>\n",
              "      <td>0.0</td>\n",
              "      <td>0.0</td>\n",
              "      <td>0.0</td>\n",
              "      <td>0.0</td>\n",
              "      <td>0.0</td>\n",
              "      <td>0.0</td>\n",
              "      <td>0.0</td>\n",
              "      <td>0.0</td>\n",
              "      <td>0.0</td>\n",
              "      <td>0.0</td>\n",
              "      <td>0.0</td>\n",
              "      <td>0.0</td>\n",
              "      <td>0.00000</td>\n",
              "      <td>0.0</td>\n",
              "      <td>0.0</td>\n",
              "      <td>0.0</td>\n",
              "      <td>0.0</td>\n",
              "      <td>0.0</td>\n",
              "      <td>0.0</td>\n",
              "      <td>0.0</td>\n",
              "      <td>0.0</td>\n",
              "      <td>0.0</td>\n",
              "      <td>0.0</td>\n",
              "      <td>0.0</td>\n",
              "      <td>0.0</td>\n",
              "      <td>0.0</td>\n",
              "      <td>0.0</td>\n",
              "      <td>0.0</td>\n",
              "      <td>0.0</td>\n",
              "      <td>0.0</td>\n",
              "      <td>0.0</td>\n",
              "      <td>0.0</td>\n",
              "      <td>0.0</td>\n",
              "      <td>0.0</td>\n",
              "      <td>0.0</td>\n",
              "      <td>0.0</td>\n",
              "      <td>0.0</td>\n",
              "      <td>0.0</td>\n",
              "      <td>0.0</td>\n",
              "      <td>0.0</td>\n",
              "      <td>...</td>\n",
              "      <td>0.0</td>\n",
              "      <td>0.0</td>\n",
              "      <td>0.0</td>\n",
              "      <td>0.0</td>\n",
              "      <td>0.0</td>\n",
              "      <td>0.0</td>\n",
              "      <td>0.0</td>\n",
              "      <td>0.0</td>\n",
              "      <td>0.0</td>\n",
              "      <td>0.0</td>\n",
              "      <td>0.0</td>\n",
              "      <td>0.0</td>\n",
              "      <td>0.0</td>\n",
              "      <td>0.0</td>\n",
              "      <td>0.0</td>\n",
              "      <td>0.0</td>\n",
              "      <td>0.0</td>\n",
              "      <td>0.0</td>\n",
              "      <td>0.0</td>\n",
              "      <td>0.0</td>\n",
              "      <td>0.0</td>\n",
              "      <td>0.0</td>\n",
              "      <td>0.0</td>\n",
              "      <td>0.0</td>\n",
              "      <td>0.0</td>\n",
              "      <td>0.0</td>\n",
              "      <td>0.0</td>\n",
              "      <td>0.0</td>\n",
              "      <td>0.0</td>\n",
              "      <td>0.0</td>\n",
              "      <td>0.0</td>\n",
              "      <td>0.0</td>\n",
              "      <td>0.0</td>\n",
              "      <td>0.0</td>\n",
              "      <td>0.0</td>\n",
              "      <td>0.0</td>\n",
              "      <td>0.0</td>\n",
              "      <td>0.0</td>\n",
              "      <td>colt ngsteaight basterainbow</td>\n",
              "      <td>Positive</td>\n",
              "    </tr>\n",
              "    <tr>\n",
              "      <th>2</th>\n",
              "      <td>0.0</td>\n",
              "      <td>0.0</td>\n",
              "      <td>0.0</td>\n",
              "      <td>0.0</td>\n",
              "      <td>0.0</td>\n",
              "      <td>0.0</td>\n",
              "      <td>0.0</td>\n",
              "      <td>0.0</td>\n",
              "      <td>0.0</td>\n",
              "      <td>0.0</td>\n",
              "      <td>0.0</td>\n",
              "      <td>0.0</td>\n",
              "      <td>0.57735</td>\n",
              "      <td>0.0</td>\n",
              "      <td>0.0</td>\n",
              "      <td>0.0</td>\n",
              "      <td>0.0</td>\n",
              "      <td>0.0</td>\n",
              "      <td>0.0</td>\n",
              "      <td>0.0</td>\n",
              "      <td>0.0</td>\n",
              "      <td>0.0</td>\n",
              "      <td>0.0</td>\n",
              "      <td>0.0</td>\n",
              "      <td>0.0</td>\n",
              "      <td>0.0</td>\n",
              "      <td>0.0</td>\n",
              "      <td>0.0</td>\n",
              "      <td>0.0</td>\n",
              "      <td>0.0</td>\n",
              "      <td>0.0</td>\n",
              "      <td>0.0</td>\n",
              "      <td>0.0</td>\n",
              "      <td>0.0</td>\n",
              "      <td>0.0</td>\n",
              "      <td>0.0</td>\n",
              "      <td>0.0</td>\n",
              "      <td>0.0</td>\n",
              "      <td>0.0</td>\n",
              "      <td>0.0</td>\n",
              "      <td>...</td>\n",
              "      <td>0.0</td>\n",
              "      <td>0.0</td>\n",
              "      <td>0.0</td>\n",
              "      <td>0.0</td>\n",
              "      <td>0.0</td>\n",
              "      <td>0.0</td>\n",
              "      <td>0.0</td>\n",
              "      <td>0.0</td>\n",
              "      <td>0.0</td>\n",
              "      <td>0.0</td>\n",
              "      <td>0.0</td>\n",
              "      <td>0.0</td>\n",
              "      <td>0.0</td>\n",
              "      <td>0.0</td>\n",
              "      <td>0.0</td>\n",
              "      <td>0.0</td>\n",
              "      <td>0.0</td>\n",
              "      <td>0.0</td>\n",
              "      <td>0.0</td>\n",
              "      <td>0.0</td>\n",
              "      <td>0.0</td>\n",
              "      <td>0.0</td>\n",
              "      <td>0.0</td>\n",
              "      <td>0.0</td>\n",
              "      <td>0.0</td>\n",
              "      <td>0.0</td>\n",
              "      <td>0.0</td>\n",
              "      <td>0.0</td>\n",
              "      <td>0.0</td>\n",
              "      <td>0.0</td>\n",
              "      <td>0.0</td>\n",
              "      <td>0.0</td>\n",
              "      <td>0.0</td>\n",
              "      <td>0.0</td>\n",
              "      <td>0.0</td>\n",
              "      <td>0.0</td>\n",
              "      <td>0.0</td>\n",
              "      <td>0.0</td>\n",
              "      <td>one daywon come ofth clow ju vep ty l beall ma...</td>\n",
              "      <td>Positive</td>\n",
              "    </tr>\n",
              "    <tr>\n",
              "      <th>3</th>\n",
              "      <td>0.0</td>\n",
              "      <td>0.0</td>\n",
              "      <td>0.0</td>\n",
              "      <td>0.0</td>\n",
              "      <td>0.0</td>\n",
              "      <td>0.0</td>\n",
              "      <td>0.0</td>\n",
              "      <td>0.0</td>\n",
              "      <td>0.0</td>\n",
              "      <td>0.0</td>\n",
              "      <td>0.0</td>\n",
              "      <td>0.0</td>\n",
              "      <td>0.00000</td>\n",
              "      <td>0.0</td>\n",
              "      <td>0.0</td>\n",
              "      <td>0.0</td>\n",
              "      <td>0.0</td>\n",
              "      <td>0.0</td>\n",
              "      <td>0.0</td>\n",
              "      <td>0.0</td>\n",
              "      <td>0.0</td>\n",
              "      <td>0.0</td>\n",
              "      <td>0.0</td>\n",
              "      <td>0.0</td>\n",
              "      <td>0.0</td>\n",
              "      <td>0.0</td>\n",
              "      <td>0.0</td>\n",
              "      <td>0.0</td>\n",
              "      <td>0.0</td>\n",
              "      <td>0.0</td>\n",
              "      <td>0.0</td>\n",
              "      <td>0.0</td>\n",
              "      <td>0.0</td>\n",
              "      <td>0.0</td>\n",
              "      <td>0.0</td>\n",
              "      <td>0.0</td>\n",
              "      <td>0.0</td>\n",
              "      <td>0.0</td>\n",
              "      <td>0.0</td>\n",
              "      <td>0.0</td>\n",
              "      <td>...</td>\n",
              "      <td>0.0</td>\n",
              "      <td>0.0</td>\n",
              "      <td>0.0</td>\n",
              "      <td>0.0</td>\n",
              "      <td>0.0</td>\n",
              "      <td>0.0</td>\n",
              "      <td>0.0</td>\n",
              "      <td>0.0</td>\n",
              "      <td>0.0</td>\n",
              "      <td>0.0</td>\n",
              "      <td>0.0</td>\n",
              "      <td>0.0</td>\n",
              "      <td>0.0</td>\n",
              "      <td>0.0</td>\n",
              "      <td>0.0</td>\n",
              "      <td>0.0</td>\n",
              "      <td>0.0</td>\n",
              "      <td>0.0</td>\n",
              "      <td>0.0</td>\n",
              "      <td>0.0</td>\n",
              "      <td>0.0</td>\n",
              "      <td>0.0</td>\n",
              "      <td>0.0</td>\n",
              "      <td>0.0</td>\n",
              "      <td>0.0</td>\n",
              "      <td>0.0</td>\n",
              "      <td>0.0</td>\n",
              "      <td>0.0</td>\n",
              "      <td>0.0</td>\n",
              "      <td>0.0</td>\n",
              "      <td>0.0</td>\n",
              "      <td>0.0</td>\n",
              "      <td>0.0</td>\n",
              "      <td>0.0</td>\n",
              "      <td>0.0</td>\n",
              "      <td>0.0</td>\n",
              "      <td>0.0</td>\n",
              "      <td>0.0</td>\n",
              "      <td>keep calmand lovewho wantior</td>\n",
              "      <td>Positive</td>\n",
              "    </tr>\n",
              "    <tr>\n",
              "      <th>4</th>\n",
              "      <td>0.0</td>\n",
              "      <td>0.0</td>\n",
              "      <td>0.0</td>\n",
              "      <td>0.0</td>\n",
              "      <td>0.0</td>\n",
              "      <td>0.0</td>\n",
              "      <td>0.0</td>\n",
              "      <td>0.0</td>\n",
              "      <td>0.0</td>\n",
              "      <td>0.0</td>\n",
              "      <td>0.0</td>\n",
              "      <td>0.0</td>\n",
              "      <td>0.00000</td>\n",
              "      <td>0.0</td>\n",
              "      <td>0.0</td>\n",
              "      <td>0.0</td>\n",
              "      <td>0.0</td>\n",
              "      <td>0.0</td>\n",
              "      <td>0.0</td>\n",
              "      <td>0.0</td>\n",
              "      <td>0.0</td>\n",
              "      <td>0.0</td>\n",
              "      <td>0.0</td>\n",
              "      <td>0.0</td>\n",
              "      <td>0.0</td>\n",
              "      <td>0.0</td>\n",
              "      <td>0.0</td>\n",
              "      <td>0.0</td>\n",
              "      <td>0.0</td>\n",
              "      <td>0.0</td>\n",
              "      <td>0.0</td>\n",
              "      <td>0.0</td>\n",
              "      <td>0.0</td>\n",
              "      <td>0.0</td>\n",
              "      <td>0.0</td>\n",
              "      <td>0.0</td>\n",
              "      <td>0.0</td>\n",
              "      <td>0.0</td>\n",
              "      <td>0.0</td>\n",
              "      <td>0.0</td>\n",
              "      <td>...</td>\n",
              "      <td>0.0</td>\n",
              "      <td>0.0</td>\n",
              "      <td>0.0</td>\n",
              "      <td>0.0</td>\n",
              "      <td>0.0</td>\n",
              "      <td>0.0</td>\n",
              "      <td>0.0</td>\n",
              "      <td>0.0</td>\n",
              "      <td>0.0</td>\n",
              "      <td>0.0</td>\n",
              "      <td>0.0</td>\n",
              "      <td>0.0</td>\n",
              "      <td>0.0</td>\n",
              "      <td>0.0</td>\n",
              "      <td>0.0</td>\n",
              "      <td>0.0</td>\n",
              "      <td>0.0</td>\n",
              "      <td>0.0</td>\n",
              "      <td>0.0</td>\n",
              "      <td>0.0</td>\n",
              "      <td>0.0</td>\n",
              "      <td>0.0</td>\n",
              "      <td>0.0</td>\n",
              "      <td>0.0</td>\n",
              "      <td>0.0</td>\n",
              "      <td>0.0</td>\n",
              "      <td>0.0</td>\n",
              "      <td>0.0</td>\n",
              "      <td>0.0</td>\n",
              "      <td>0.0</td>\n",
              "      <td>0.0</td>\n",
              "      <td>0.0</td>\n",
              "      <td>0.0</td>\n",
              "      <td>0.0</td>\n",
              "      <td>0.0</td>\n",
              "      <td>0.0</td>\n",
              "      <td>0.0</td>\n",
              "      <td>0.0</td>\n",
              "      <td>fagm id2ato norm never knowea seareai oesa chia</td>\n",
              "      <td>Positive</td>\n",
              "    </tr>\n",
              "  </tbody>\n",
              "</table>\n",
              "<p>5 rows × 102 columns</p>\n",
              "</div>"
            ],
            "text/plain": [
              "   1am   ad  ...                                         clean_text    target\n",
              "0  0.0  0.0  ...                                   se ace en ascard  Positive\n",
              "1  0.0  0.0  ...                       colt ngsteaight basterainbow  Positive\n",
              "2  0.0  0.0  ...  one daywon come ofth clow ju vep ty l beall ma...  Positive\n",
              "3  0.0  0.0  ...                       keep calmand lovewho wantior  Positive\n",
              "4  0.0  0.0  ...    fagm id2ato norm never knowea seareai oesa chia  Positive\n",
              "\n",
              "[5 rows x 102 columns]"
            ]
          },
          "metadata": {
            "tags": []
          },
          "execution_count": 163
        }
      ]
    },
    {
      "cell_type": "code",
      "metadata": {
        "id": "8gr7yuaQ7PLq",
        "colab_type": "code",
        "colab": {
          "base_uri": "https://localhost:8080/",
          "height": 491
        },
        "outputId": "945f439c-8e99-49e5-f4ce-ed252648fd95"
      },
      "source": [
        "from sklearn.linear_model import LogisticRegression\n",
        "from sklearn.model_selection import train_test_split\n",
        "from sklearn.preprocessing import LabelEncoder\n",
        "\n",
        "lb = LabelEncoder()\n",
        "lb_enc = lb.fit_transform(df_train['target'])\n",
        "\n",
        "df_train.head()\n"
      ],
      "execution_count": null,
      "outputs": [
        {
          "output_type": "execute_result",
          "data": {
            "text/html": [
              "<div>\n",
              "<style scoped>\n",
              "    .dataframe tbody tr th:only-of-type {\n",
              "        vertical-align: middle;\n",
              "    }\n",
              "\n",
              "    .dataframe tbody tr th {\n",
              "        vertical-align: top;\n",
              "    }\n",
              "\n",
              "    .dataframe thead th {\n",
              "        text-align: right;\n",
              "    }\n",
              "</style>\n",
              "<table border=\"1\" class=\"dataframe\">\n",
              "  <thead>\n",
              "    <tr style=\"text-align: right;\">\n",
              "      <th></th>\n",
              "      <th>1am</th>\n",
              "      <th>ad</th>\n",
              "      <th>ae</th>\n",
              "      <th>afraid</th>\n",
              "      <th>al</th>\n",
              "      <th>athlet</th>\n",
              "      <th>away</th>\n",
              "      <th>c</th>\n",
              "      <th>ce</th>\n",
              "      <th>claim</th>\n",
              "      <th>closet</th>\n",
              "      <th>com</th>\n",
              "      <th>come</th>\n",
              "      <th>curv</th>\n",
              "      <th>danger</th>\n",
              "      <th>dat</th>\n",
              "      <th>day</th>\n",
              "      <th>defi</th>\n",
              "      <th>demean</th>\n",
              "      <th>deut</th>\n",
              "      <th>differentfrom</th>\n",
              "      <th>dodg</th>\n",
              "      <th>dss</th>\n",
              "      <th>e</th>\n",
              "      <th>ea</th>\n",
              "      <th>eae</th>\n",
              "      <th>ee</th>\n",
              "      <th>eee</th>\n",
              "      <th>eel</th>\n",
              "      <th>et</th>\n",
              "      <th>even</th>\n",
              "      <th>exist</th>\n",
              "      <th>ff</th>\n",
              "      <th>gay</th>\n",
              "      <th>geckoandfli</th>\n",
              "      <th>gender</th>\n",
              "      <th>human</th>\n",
              "      <th>hyper</th>\n",
              "      <th>indian</th>\n",
              "      <th>instead</th>\n",
              "      <th>...</th>\n",
              "      <th>play</th>\n",
              "      <th>portray</th>\n",
              "      <th>posit</th>\n",
              "      <th>pride</th>\n",
              "      <th>proud</th>\n",
              "      <th>quot</th>\n",
              "      <th>quoteswww</th>\n",
              "      <th>r</th>\n",
              "      <th>rise</th>\n",
              "      <th>said</th>\n",
              "      <th>say</th>\n",
              "      <th>se</th>\n",
              "      <th>see</th>\n",
              "      <th>sin</th>\n",
              "      <th>sorri</th>\n",
              "      <th>sound</th>\n",
              "      <th>space</th>\n",
              "      <th>sport</th>\n",
              "      <th>stand</th>\n",
              "      <th>state</th>\n",
              "      <th>stop</th>\n",
              "      <th>straight</th>\n",
              "      <th>street</th>\n",
              "      <th>subconsci</th>\n",
              "      <th>talk</th>\n",
              "      <th>te</th>\n",
              "      <th>tell</th>\n",
              "      <th>text</th>\n",
              "      <th>theme</th>\n",
              "      <th>thing</th>\n",
              "      <th>time</th>\n",
              "      <th>toward</th>\n",
              "      <th>truth</th>\n",
              "      <th>vers</th>\n",
              "      <th>way</th>\n",
              "      <th>women</th>\n",
              "      <th>yousay</th>\n",
              "      <th>zeigler</th>\n",
              "      <th>clean_text</th>\n",
              "      <th>target</th>\n",
              "    </tr>\n",
              "  </thead>\n",
              "  <tbody>\n",
              "    <tr>\n",
              "      <th>0</th>\n",
              "      <td>0.0</td>\n",
              "      <td>0.0</td>\n",
              "      <td>0.0</td>\n",
              "      <td>0.0</td>\n",
              "      <td>0.0</td>\n",
              "      <td>0.0</td>\n",
              "      <td>0.0</td>\n",
              "      <td>0.0</td>\n",
              "      <td>0.0</td>\n",
              "      <td>0.0</td>\n",
              "      <td>0.0</td>\n",
              "      <td>0.0</td>\n",
              "      <td>0.00000</td>\n",
              "      <td>0.0</td>\n",
              "      <td>0.0</td>\n",
              "      <td>0.0</td>\n",
              "      <td>0.0</td>\n",
              "      <td>0.0</td>\n",
              "      <td>0.0</td>\n",
              "      <td>0.0</td>\n",
              "      <td>0.0</td>\n",
              "      <td>0.0</td>\n",
              "      <td>0.0</td>\n",
              "      <td>0.0</td>\n",
              "      <td>0.0</td>\n",
              "      <td>0.0</td>\n",
              "      <td>0.0</td>\n",
              "      <td>0.0</td>\n",
              "      <td>0.0</td>\n",
              "      <td>0.0</td>\n",
              "      <td>0.0</td>\n",
              "      <td>0.0</td>\n",
              "      <td>0.0</td>\n",
              "      <td>0.0</td>\n",
              "      <td>0.0</td>\n",
              "      <td>0.0</td>\n",
              "      <td>0.0</td>\n",
              "      <td>0.0</td>\n",
              "      <td>0.0</td>\n",
              "      <td>0.0</td>\n",
              "      <td>...</td>\n",
              "      <td>0.0</td>\n",
              "      <td>0.0</td>\n",
              "      <td>0.0</td>\n",
              "      <td>0.0</td>\n",
              "      <td>0.0</td>\n",
              "      <td>0.0</td>\n",
              "      <td>0.0</td>\n",
              "      <td>0.0</td>\n",
              "      <td>0.0</td>\n",
              "      <td>0.0</td>\n",
              "      <td>0.0</td>\n",
              "      <td>1.0</td>\n",
              "      <td>0.0</td>\n",
              "      <td>0.0</td>\n",
              "      <td>0.0</td>\n",
              "      <td>0.0</td>\n",
              "      <td>0.0</td>\n",
              "      <td>0.0</td>\n",
              "      <td>0.0</td>\n",
              "      <td>0.0</td>\n",
              "      <td>0.0</td>\n",
              "      <td>0.0</td>\n",
              "      <td>0.0</td>\n",
              "      <td>0.0</td>\n",
              "      <td>0.0</td>\n",
              "      <td>0.0</td>\n",
              "      <td>0.0</td>\n",
              "      <td>0.0</td>\n",
              "      <td>0.0</td>\n",
              "      <td>0.0</td>\n",
              "      <td>0.0</td>\n",
              "      <td>0.0</td>\n",
              "      <td>0.0</td>\n",
              "      <td>0.0</td>\n",
              "      <td>0.0</td>\n",
              "      <td>0.0</td>\n",
              "      <td>0.0</td>\n",
              "      <td>0.0</td>\n",
              "      <td>se ace en ascard</td>\n",
              "      <td>Positive</td>\n",
              "    </tr>\n",
              "    <tr>\n",
              "      <th>1</th>\n",
              "      <td>0.0</td>\n",
              "      <td>0.0</td>\n",
              "      <td>0.0</td>\n",
              "      <td>0.0</td>\n",
              "      <td>0.0</td>\n",
              "      <td>0.0</td>\n",
              "      <td>0.0</td>\n",
              "      <td>0.0</td>\n",
              "      <td>0.0</td>\n",
              "      <td>0.0</td>\n",
              "      <td>0.0</td>\n",
              "      <td>0.0</td>\n",
              "      <td>0.00000</td>\n",
              "      <td>0.0</td>\n",
              "      <td>0.0</td>\n",
              "      <td>0.0</td>\n",
              "      <td>0.0</td>\n",
              "      <td>0.0</td>\n",
              "      <td>0.0</td>\n",
              "      <td>0.0</td>\n",
              "      <td>0.0</td>\n",
              "      <td>0.0</td>\n",
              "      <td>0.0</td>\n",
              "      <td>0.0</td>\n",
              "      <td>0.0</td>\n",
              "      <td>0.0</td>\n",
              "      <td>0.0</td>\n",
              "      <td>0.0</td>\n",
              "      <td>0.0</td>\n",
              "      <td>0.0</td>\n",
              "      <td>0.0</td>\n",
              "      <td>0.0</td>\n",
              "      <td>0.0</td>\n",
              "      <td>0.0</td>\n",
              "      <td>0.0</td>\n",
              "      <td>0.0</td>\n",
              "      <td>0.0</td>\n",
              "      <td>0.0</td>\n",
              "      <td>0.0</td>\n",
              "      <td>0.0</td>\n",
              "      <td>...</td>\n",
              "      <td>0.0</td>\n",
              "      <td>0.0</td>\n",
              "      <td>0.0</td>\n",
              "      <td>0.0</td>\n",
              "      <td>0.0</td>\n",
              "      <td>0.0</td>\n",
              "      <td>0.0</td>\n",
              "      <td>0.0</td>\n",
              "      <td>0.0</td>\n",
              "      <td>0.0</td>\n",
              "      <td>0.0</td>\n",
              "      <td>0.0</td>\n",
              "      <td>0.0</td>\n",
              "      <td>0.0</td>\n",
              "      <td>0.0</td>\n",
              "      <td>0.0</td>\n",
              "      <td>0.0</td>\n",
              "      <td>0.0</td>\n",
              "      <td>0.0</td>\n",
              "      <td>0.0</td>\n",
              "      <td>0.0</td>\n",
              "      <td>0.0</td>\n",
              "      <td>0.0</td>\n",
              "      <td>0.0</td>\n",
              "      <td>0.0</td>\n",
              "      <td>0.0</td>\n",
              "      <td>0.0</td>\n",
              "      <td>0.0</td>\n",
              "      <td>0.0</td>\n",
              "      <td>0.0</td>\n",
              "      <td>0.0</td>\n",
              "      <td>0.0</td>\n",
              "      <td>0.0</td>\n",
              "      <td>0.0</td>\n",
              "      <td>0.0</td>\n",
              "      <td>0.0</td>\n",
              "      <td>0.0</td>\n",
              "      <td>0.0</td>\n",
              "      <td>colt ngsteaight basterainbow</td>\n",
              "      <td>Positive</td>\n",
              "    </tr>\n",
              "    <tr>\n",
              "      <th>2</th>\n",
              "      <td>0.0</td>\n",
              "      <td>0.0</td>\n",
              "      <td>0.0</td>\n",
              "      <td>0.0</td>\n",
              "      <td>0.0</td>\n",
              "      <td>0.0</td>\n",
              "      <td>0.0</td>\n",
              "      <td>0.0</td>\n",
              "      <td>0.0</td>\n",
              "      <td>0.0</td>\n",
              "      <td>0.0</td>\n",
              "      <td>0.0</td>\n",
              "      <td>0.57735</td>\n",
              "      <td>0.0</td>\n",
              "      <td>0.0</td>\n",
              "      <td>0.0</td>\n",
              "      <td>0.0</td>\n",
              "      <td>0.0</td>\n",
              "      <td>0.0</td>\n",
              "      <td>0.0</td>\n",
              "      <td>0.0</td>\n",
              "      <td>0.0</td>\n",
              "      <td>0.0</td>\n",
              "      <td>0.0</td>\n",
              "      <td>0.0</td>\n",
              "      <td>0.0</td>\n",
              "      <td>0.0</td>\n",
              "      <td>0.0</td>\n",
              "      <td>0.0</td>\n",
              "      <td>0.0</td>\n",
              "      <td>0.0</td>\n",
              "      <td>0.0</td>\n",
              "      <td>0.0</td>\n",
              "      <td>0.0</td>\n",
              "      <td>0.0</td>\n",
              "      <td>0.0</td>\n",
              "      <td>0.0</td>\n",
              "      <td>0.0</td>\n",
              "      <td>0.0</td>\n",
              "      <td>0.0</td>\n",
              "      <td>...</td>\n",
              "      <td>0.0</td>\n",
              "      <td>0.0</td>\n",
              "      <td>0.0</td>\n",
              "      <td>0.0</td>\n",
              "      <td>0.0</td>\n",
              "      <td>0.0</td>\n",
              "      <td>0.0</td>\n",
              "      <td>0.0</td>\n",
              "      <td>0.0</td>\n",
              "      <td>0.0</td>\n",
              "      <td>0.0</td>\n",
              "      <td>0.0</td>\n",
              "      <td>0.0</td>\n",
              "      <td>0.0</td>\n",
              "      <td>0.0</td>\n",
              "      <td>0.0</td>\n",
              "      <td>0.0</td>\n",
              "      <td>0.0</td>\n",
              "      <td>0.0</td>\n",
              "      <td>0.0</td>\n",
              "      <td>0.0</td>\n",
              "      <td>0.0</td>\n",
              "      <td>0.0</td>\n",
              "      <td>0.0</td>\n",
              "      <td>0.0</td>\n",
              "      <td>0.0</td>\n",
              "      <td>0.0</td>\n",
              "      <td>0.0</td>\n",
              "      <td>0.0</td>\n",
              "      <td>0.0</td>\n",
              "      <td>0.0</td>\n",
              "      <td>0.0</td>\n",
              "      <td>0.0</td>\n",
              "      <td>0.0</td>\n",
              "      <td>0.0</td>\n",
              "      <td>0.0</td>\n",
              "      <td>0.0</td>\n",
              "      <td>0.0</td>\n",
              "      <td>one daywon come ofth clow ju vep ty l beall ma...</td>\n",
              "      <td>Positive</td>\n",
              "    </tr>\n",
              "    <tr>\n",
              "      <th>3</th>\n",
              "      <td>0.0</td>\n",
              "      <td>0.0</td>\n",
              "      <td>0.0</td>\n",
              "      <td>0.0</td>\n",
              "      <td>0.0</td>\n",
              "      <td>0.0</td>\n",
              "      <td>0.0</td>\n",
              "      <td>0.0</td>\n",
              "      <td>0.0</td>\n",
              "      <td>0.0</td>\n",
              "      <td>0.0</td>\n",
              "      <td>0.0</td>\n",
              "      <td>0.00000</td>\n",
              "      <td>0.0</td>\n",
              "      <td>0.0</td>\n",
              "      <td>0.0</td>\n",
              "      <td>0.0</td>\n",
              "      <td>0.0</td>\n",
              "      <td>0.0</td>\n",
              "      <td>0.0</td>\n",
              "      <td>0.0</td>\n",
              "      <td>0.0</td>\n",
              "      <td>0.0</td>\n",
              "      <td>0.0</td>\n",
              "      <td>0.0</td>\n",
              "      <td>0.0</td>\n",
              "      <td>0.0</td>\n",
              "      <td>0.0</td>\n",
              "      <td>0.0</td>\n",
              "      <td>0.0</td>\n",
              "      <td>0.0</td>\n",
              "      <td>0.0</td>\n",
              "      <td>0.0</td>\n",
              "      <td>0.0</td>\n",
              "      <td>0.0</td>\n",
              "      <td>0.0</td>\n",
              "      <td>0.0</td>\n",
              "      <td>0.0</td>\n",
              "      <td>0.0</td>\n",
              "      <td>0.0</td>\n",
              "      <td>...</td>\n",
              "      <td>0.0</td>\n",
              "      <td>0.0</td>\n",
              "      <td>0.0</td>\n",
              "      <td>0.0</td>\n",
              "      <td>0.0</td>\n",
              "      <td>0.0</td>\n",
              "      <td>0.0</td>\n",
              "      <td>0.0</td>\n",
              "      <td>0.0</td>\n",
              "      <td>0.0</td>\n",
              "      <td>0.0</td>\n",
              "      <td>0.0</td>\n",
              "      <td>0.0</td>\n",
              "      <td>0.0</td>\n",
              "      <td>0.0</td>\n",
              "      <td>0.0</td>\n",
              "      <td>0.0</td>\n",
              "      <td>0.0</td>\n",
              "      <td>0.0</td>\n",
              "      <td>0.0</td>\n",
              "      <td>0.0</td>\n",
              "      <td>0.0</td>\n",
              "      <td>0.0</td>\n",
              "      <td>0.0</td>\n",
              "      <td>0.0</td>\n",
              "      <td>0.0</td>\n",
              "      <td>0.0</td>\n",
              "      <td>0.0</td>\n",
              "      <td>0.0</td>\n",
              "      <td>0.0</td>\n",
              "      <td>0.0</td>\n",
              "      <td>0.0</td>\n",
              "      <td>0.0</td>\n",
              "      <td>0.0</td>\n",
              "      <td>0.0</td>\n",
              "      <td>0.0</td>\n",
              "      <td>0.0</td>\n",
              "      <td>0.0</td>\n",
              "      <td>keep calmand lovewho wantior</td>\n",
              "      <td>Positive</td>\n",
              "    </tr>\n",
              "    <tr>\n",
              "      <th>4</th>\n",
              "      <td>0.0</td>\n",
              "      <td>0.0</td>\n",
              "      <td>0.0</td>\n",
              "      <td>0.0</td>\n",
              "      <td>0.0</td>\n",
              "      <td>0.0</td>\n",
              "      <td>0.0</td>\n",
              "      <td>0.0</td>\n",
              "      <td>0.0</td>\n",
              "      <td>0.0</td>\n",
              "      <td>0.0</td>\n",
              "      <td>0.0</td>\n",
              "      <td>0.00000</td>\n",
              "      <td>0.0</td>\n",
              "      <td>0.0</td>\n",
              "      <td>0.0</td>\n",
              "      <td>0.0</td>\n",
              "      <td>0.0</td>\n",
              "      <td>0.0</td>\n",
              "      <td>0.0</td>\n",
              "      <td>0.0</td>\n",
              "      <td>0.0</td>\n",
              "      <td>0.0</td>\n",
              "      <td>0.0</td>\n",
              "      <td>0.0</td>\n",
              "      <td>0.0</td>\n",
              "      <td>0.0</td>\n",
              "      <td>0.0</td>\n",
              "      <td>0.0</td>\n",
              "      <td>0.0</td>\n",
              "      <td>0.0</td>\n",
              "      <td>0.0</td>\n",
              "      <td>0.0</td>\n",
              "      <td>0.0</td>\n",
              "      <td>0.0</td>\n",
              "      <td>0.0</td>\n",
              "      <td>0.0</td>\n",
              "      <td>0.0</td>\n",
              "      <td>0.0</td>\n",
              "      <td>0.0</td>\n",
              "      <td>...</td>\n",
              "      <td>0.0</td>\n",
              "      <td>0.0</td>\n",
              "      <td>0.0</td>\n",
              "      <td>0.0</td>\n",
              "      <td>0.0</td>\n",
              "      <td>0.0</td>\n",
              "      <td>0.0</td>\n",
              "      <td>0.0</td>\n",
              "      <td>0.0</td>\n",
              "      <td>0.0</td>\n",
              "      <td>0.0</td>\n",
              "      <td>0.0</td>\n",
              "      <td>0.0</td>\n",
              "      <td>0.0</td>\n",
              "      <td>0.0</td>\n",
              "      <td>0.0</td>\n",
              "      <td>0.0</td>\n",
              "      <td>0.0</td>\n",
              "      <td>0.0</td>\n",
              "      <td>0.0</td>\n",
              "      <td>0.0</td>\n",
              "      <td>0.0</td>\n",
              "      <td>0.0</td>\n",
              "      <td>0.0</td>\n",
              "      <td>0.0</td>\n",
              "      <td>0.0</td>\n",
              "      <td>0.0</td>\n",
              "      <td>0.0</td>\n",
              "      <td>0.0</td>\n",
              "      <td>0.0</td>\n",
              "      <td>0.0</td>\n",
              "      <td>0.0</td>\n",
              "      <td>0.0</td>\n",
              "      <td>0.0</td>\n",
              "      <td>0.0</td>\n",
              "      <td>0.0</td>\n",
              "      <td>0.0</td>\n",
              "      <td>0.0</td>\n",
              "      <td>fagm id2ato norm never knowea seareai oesa chia</td>\n",
              "      <td>Positive</td>\n",
              "    </tr>\n",
              "  </tbody>\n",
              "</table>\n",
              "<p>5 rows × 102 columns</p>\n",
              "</div>"
            ],
            "text/plain": [
              "   1am   ad  ...                                         clean_text    target\n",
              "0  0.0  0.0  ...                                   se ace en ascard  Positive\n",
              "1  0.0  0.0  ...                       colt ngsteaight basterainbow  Positive\n",
              "2  0.0  0.0  ...  one daywon come ofth clow ju vep ty l beall ma...  Positive\n",
              "3  0.0  0.0  ...                       keep calmand lovewho wantior  Positive\n",
              "4  0.0  0.0  ...    fagm id2ato norm never knowea seareai oesa chia  Positive\n",
              "\n",
              "[5 rows x 102 columns]"
            ]
          },
          "metadata": {
            "tags": []
          },
          "execution_count": 164
        }
      ]
    },
    {
      "cell_type": "code",
      "metadata": {
        "id": "F7_4yvs0OIEK",
        "colab_type": "code",
        "colab": {}
      },
      "source": [
        "df_train['target'] = lb_enc"
      ],
      "execution_count": null,
      "outputs": []
    },
    {
      "cell_type": "code",
      "metadata": {
        "id": "gr04H4qgOO7P",
        "colab_type": "code",
        "colab": {
          "base_uri": "https://localhost:8080/",
          "height": 253
        },
        "outputId": "1937f219-db72-439d-a016-7fa5c1df0ca7"
      },
      "source": [
        "df_train = df_train.drop('clean_text',axis=1)\n",
        "df_train.head()"
      ],
      "execution_count": null,
      "outputs": [
        {
          "output_type": "execute_result",
          "data": {
            "text/html": [
              "<div>\n",
              "<style scoped>\n",
              "    .dataframe tbody tr th:only-of-type {\n",
              "        vertical-align: middle;\n",
              "    }\n",
              "\n",
              "    .dataframe tbody tr th {\n",
              "        vertical-align: top;\n",
              "    }\n",
              "\n",
              "    .dataframe thead th {\n",
              "        text-align: right;\n",
              "    }\n",
              "</style>\n",
              "<table border=\"1\" class=\"dataframe\">\n",
              "  <thead>\n",
              "    <tr style=\"text-align: right;\">\n",
              "      <th></th>\n",
              "      <th>1am</th>\n",
              "      <th>ad</th>\n",
              "      <th>ae</th>\n",
              "      <th>afraid</th>\n",
              "      <th>al</th>\n",
              "      <th>athlet</th>\n",
              "      <th>away</th>\n",
              "      <th>c</th>\n",
              "      <th>ce</th>\n",
              "      <th>claim</th>\n",
              "      <th>closet</th>\n",
              "      <th>com</th>\n",
              "      <th>come</th>\n",
              "      <th>curv</th>\n",
              "      <th>danger</th>\n",
              "      <th>dat</th>\n",
              "      <th>day</th>\n",
              "      <th>defi</th>\n",
              "      <th>demean</th>\n",
              "      <th>deut</th>\n",
              "      <th>differentfrom</th>\n",
              "      <th>dodg</th>\n",
              "      <th>dss</th>\n",
              "      <th>e</th>\n",
              "      <th>ea</th>\n",
              "      <th>eae</th>\n",
              "      <th>ee</th>\n",
              "      <th>eee</th>\n",
              "      <th>eel</th>\n",
              "      <th>et</th>\n",
              "      <th>even</th>\n",
              "      <th>exist</th>\n",
              "      <th>ff</th>\n",
              "      <th>gay</th>\n",
              "      <th>geckoandfli</th>\n",
              "      <th>gender</th>\n",
              "      <th>human</th>\n",
              "      <th>hyper</th>\n",
              "      <th>indian</th>\n",
              "      <th>instead</th>\n",
              "      <th>...</th>\n",
              "      <th>peopl</th>\n",
              "      <th>play</th>\n",
              "      <th>portray</th>\n",
              "      <th>posit</th>\n",
              "      <th>pride</th>\n",
              "      <th>proud</th>\n",
              "      <th>quot</th>\n",
              "      <th>quoteswww</th>\n",
              "      <th>r</th>\n",
              "      <th>rise</th>\n",
              "      <th>said</th>\n",
              "      <th>say</th>\n",
              "      <th>se</th>\n",
              "      <th>see</th>\n",
              "      <th>sin</th>\n",
              "      <th>sorri</th>\n",
              "      <th>sound</th>\n",
              "      <th>space</th>\n",
              "      <th>sport</th>\n",
              "      <th>stand</th>\n",
              "      <th>state</th>\n",
              "      <th>stop</th>\n",
              "      <th>straight</th>\n",
              "      <th>street</th>\n",
              "      <th>subconsci</th>\n",
              "      <th>talk</th>\n",
              "      <th>te</th>\n",
              "      <th>tell</th>\n",
              "      <th>text</th>\n",
              "      <th>theme</th>\n",
              "      <th>thing</th>\n",
              "      <th>time</th>\n",
              "      <th>toward</th>\n",
              "      <th>truth</th>\n",
              "      <th>vers</th>\n",
              "      <th>way</th>\n",
              "      <th>women</th>\n",
              "      <th>yousay</th>\n",
              "      <th>zeigler</th>\n",
              "      <th>target</th>\n",
              "    </tr>\n",
              "  </thead>\n",
              "  <tbody>\n",
              "    <tr>\n",
              "      <th>0</th>\n",
              "      <td>0.0</td>\n",
              "      <td>0.0</td>\n",
              "      <td>0.0</td>\n",
              "      <td>0.0</td>\n",
              "      <td>0.0</td>\n",
              "      <td>0.0</td>\n",
              "      <td>0.0</td>\n",
              "      <td>0.0</td>\n",
              "      <td>0.0</td>\n",
              "      <td>0.0</td>\n",
              "      <td>0.0</td>\n",
              "      <td>0.0</td>\n",
              "      <td>0.00000</td>\n",
              "      <td>0.0</td>\n",
              "      <td>0.0</td>\n",
              "      <td>0.0</td>\n",
              "      <td>0.0</td>\n",
              "      <td>0.0</td>\n",
              "      <td>0.0</td>\n",
              "      <td>0.0</td>\n",
              "      <td>0.0</td>\n",
              "      <td>0.0</td>\n",
              "      <td>0.0</td>\n",
              "      <td>0.0</td>\n",
              "      <td>0.0</td>\n",
              "      <td>0.0</td>\n",
              "      <td>0.0</td>\n",
              "      <td>0.0</td>\n",
              "      <td>0.0</td>\n",
              "      <td>0.0</td>\n",
              "      <td>0.0</td>\n",
              "      <td>0.0</td>\n",
              "      <td>0.0</td>\n",
              "      <td>0.0</td>\n",
              "      <td>0.0</td>\n",
              "      <td>0.0</td>\n",
              "      <td>0.0</td>\n",
              "      <td>0.0</td>\n",
              "      <td>0.0</td>\n",
              "      <td>0.0</td>\n",
              "      <td>...</td>\n",
              "      <td>0.0</td>\n",
              "      <td>0.0</td>\n",
              "      <td>0.0</td>\n",
              "      <td>0.0</td>\n",
              "      <td>0.0</td>\n",
              "      <td>0.0</td>\n",
              "      <td>0.0</td>\n",
              "      <td>0.0</td>\n",
              "      <td>0.0</td>\n",
              "      <td>0.0</td>\n",
              "      <td>0.0</td>\n",
              "      <td>0.0</td>\n",
              "      <td>1.0</td>\n",
              "      <td>0.0</td>\n",
              "      <td>0.0</td>\n",
              "      <td>0.0</td>\n",
              "      <td>0.0</td>\n",
              "      <td>0.0</td>\n",
              "      <td>0.0</td>\n",
              "      <td>0.0</td>\n",
              "      <td>0.0</td>\n",
              "      <td>0.0</td>\n",
              "      <td>0.0</td>\n",
              "      <td>0.0</td>\n",
              "      <td>0.0</td>\n",
              "      <td>0.0</td>\n",
              "      <td>0.0</td>\n",
              "      <td>0.0</td>\n",
              "      <td>0.0</td>\n",
              "      <td>0.0</td>\n",
              "      <td>0.0</td>\n",
              "      <td>0.0</td>\n",
              "      <td>0.0</td>\n",
              "      <td>0.0</td>\n",
              "      <td>0.0</td>\n",
              "      <td>0.0</td>\n",
              "      <td>0.0</td>\n",
              "      <td>0.0</td>\n",
              "      <td>0.0</td>\n",
              "      <td>1</td>\n",
              "    </tr>\n",
              "    <tr>\n",
              "      <th>1</th>\n",
              "      <td>0.0</td>\n",
              "      <td>0.0</td>\n",
              "      <td>0.0</td>\n",
              "      <td>0.0</td>\n",
              "      <td>0.0</td>\n",
              "      <td>0.0</td>\n",
              "      <td>0.0</td>\n",
              "      <td>0.0</td>\n",
              "      <td>0.0</td>\n",
              "      <td>0.0</td>\n",
              "      <td>0.0</td>\n",
              "      <td>0.0</td>\n",
              "      <td>0.00000</td>\n",
              "      <td>0.0</td>\n",
              "      <td>0.0</td>\n",
              "      <td>0.0</td>\n",
              "      <td>0.0</td>\n",
              "      <td>0.0</td>\n",
              "      <td>0.0</td>\n",
              "      <td>0.0</td>\n",
              "      <td>0.0</td>\n",
              "      <td>0.0</td>\n",
              "      <td>0.0</td>\n",
              "      <td>0.0</td>\n",
              "      <td>0.0</td>\n",
              "      <td>0.0</td>\n",
              "      <td>0.0</td>\n",
              "      <td>0.0</td>\n",
              "      <td>0.0</td>\n",
              "      <td>0.0</td>\n",
              "      <td>0.0</td>\n",
              "      <td>0.0</td>\n",
              "      <td>0.0</td>\n",
              "      <td>0.0</td>\n",
              "      <td>0.0</td>\n",
              "      <td>0.0</td>\n",
              "      <td>0.0</td>\n",
              "      <td>0.0</td>\n",
              "      <td>0.0</td>\n",
              "      <td>0.0</td>\n",
              "      <td>...</td>\n",
              "      <td>0.0</td>\n",
              "      <td>0.0</td>\n",
              "      <td>0.0</td>\n",
              "      <td>0.0</td>\n",
              "      <td>0.0</td>\n",
              "      <td>0.0</td>\n",
              "      <td>0.0</td>\n",
              "      <td>0.0</td>\n",
              "      <td>0.0</td>\n",
              "      <td>0.0</td>\n",
              "      <td>0.0</td>\n",
              "      <td>0.0</td>\n",
              "      <td>0.0</td>\n",
              "      <td>0.0</td>\n",
              "      <td>0.0</td>\n",
              "      <td>0.0</td>\n",
              "      <td>0.0</td>\n",
              "      <td>0.0</td>\n",
              "      <td>0.0</td>\n",
              "      <td>0.0</td>\n",
              "      <td>0.0</td>\n",
              "      <td>0.0</td>\n",
              "      <td>0.0</td>\n",
              "      <td>0.0</td>\n",
              "      <td>0.0</td>\n",
              "      <td>0.0</td>\n",
              "      <td>0.0</td>\n",
              "      <td>0.0</td>\n",
              "      <td>0.0</td>\n",
              "      <td>0.0</td>\n",
              "      <td>0.0</td>\n",
              "      <td>0.0</td>\n",
              "      <td>0.0</td>\n",
              "      <td>0.0</td>\n",
              "      <td>0.0</td>\n",
              "      <td>0.0</td>\n",
              "      <td>0.0</td>\n",
              "      <td>0.0</td>\n",
              "      <td>0.0</td>\n",
              "      <td>1</td>\n",
              "    </tr>\n",
              "    <tr>\n",
              "      <th>2</th>\n",
              "      <td>0.0</td>\n",
              "      <td>0.0</td>\n",
              "      <td>0.0</td>\n",
              "      <td>0.0</td>\n",
              "      <td>0.0</td>\n",
              "      <td>0.0</td>\n",
              "      <td>0.0</td>\n",
              "      <td>0.0</td>\n",
              "      <td>0.0</td>\n",
              "      <td>0.0</td>\n",
              "      <td>0.0</td>\n",
              "      <td>0.0</td>\n",
              "      <td>0.57735</td>\n",
              "      <td>0.0</td>\n",
              "      <td>0.0</td>\n",
              "      <td>0.0</td>\n",
              "      <td>0.0</td>\n",
              "      <td>0.0</td>\n",
              "      <td>0.0</td>\n",
              "      <td>0.0</td>\n",
              "      <td>0.0</td>\n",
              "      <td>0.0</td>\n",
              "      <td>0.0</td>\n",
              "      <td>0.0</td>\n",
              "      <td>0.0</td>\n",
              "      <td>0.0</td>\n",
              "      <td>0.0</td>\n",
              "      <td>0.0</td>\n",
              "      <td>0.0</td>\n",
              "      <td>0.0</td>\n",
              "      <td>0.0</td>\n",
              "      <td>0.0</td>\n",
              "      <td>0.0</td>\n",
              "      <td>0.0</td>\n",
              "      <td>0.0</td>\n",
              "      <td>0.0</td>\n",
              "      <td>0.0</td>\n",
              "      <td>0.0</td>\n",
              "      <td>0.0</td>\n",
              "      <td>0.0</td>\n",
              "      <td>...</td>\n",
              "      <td>0.0</td>\n",
              "      <td>0.0</td>\n",
              "      <td>0.0</td>\n",
              "      <td>0.0</td>\n",
              "      <td>0.0</td>\n",
              "      <td>0.0</td>\n",
              "      <td>0.0</td>\n",
              "      <td>0.0</td>\n",
              "      <td>0.0</td>\n",
              "      <td>0.0</td>\n",
              "      <td>0.0</td>\n",
              "      <td>0.0</td>\n",
              "      <td>0.0</td>\n",
              "      <td>0.0</td>\n",
              "      <td>0.0</td>\n",
              "      <td>0.0</td>\n",
              "      <td>0.0</td>\n",
              "      <td>0.0</td>\n",
              "      <td>0.0</td>\n",
              "      <td>0.0</td>\n",
              "      <td>0.0</td>\n",
              "      <td>0.0</td>\n",
              "      <td>0.0</td>\n",
              "      <td>0.0</td>\n",
              "      <td>0.0</td>\n",
              "      <td>0.0</td>\n",
              "      <td>0.0</td>\n",
              "      <td>0.0</td>\n",
              "      <td>0.0</td>\n",
              "      <td>0.0</td>\n",
              "      <td>0.0</td>\n",
              "      <td>0.0</td>\n",
              "      <td>0.0</td>\n",
              "      <td>0.0</td>\n",
              "      <td>0.0</td>\n",
              "      <td>0.0</td>\n",
              "      <td>0.0</td>\n",
              "      <td>0.0</td>\n",
              "      <td>0.0</td>\n",
              "      <td>1</td>\n",
              "    </tr>\n",
              "    <tr>\n",
              "      <th>3</th>\n",
              "      <td>0.0</td>\n",
              "      <td>0.0</td>\n",
              "      <td>0.0</td>\n",
              "      <td>0.0</td>\n",
              "      <td>0.0</td>\n",
              "      <td>0.0</td>\n",
              "      <td>0.0</td>\n",
              "      <td>0.0</td>\n",
              "      <td>0.0</td>\n",
              "      <td>0.0</td>\n",
              "      <td>0.0</td>\n",
              "      <td>0.0</td>\n",
              "      <td>0.00000</td>\n",
              "      <td>0.0</td>\n",
              "      <td>0.0</td>\n",
              "      <td>0.0</td>\n",
              "      <td>0.0</td>\n",
              "      <td>0.0</td>\n",
              "      <td>0.0</td>\n",
              "      <td>0.0</td>\n",
              "      <td>0.0</td>\n",
              "      <td>0.0</td>\n",
              "      <td>0.0</td>\n",
              "      <td>0.0</td>\n",
              "      <td>0.0</td>\n",
              "      <td>0.0</td>\n",
              "      <td>0.0</td>\n",
              "      <td>0.0</td>\n",
              "      <td>0.0</td>\n",
              "      <td>0.0</td>\n",
              "      <td>0.0</td>\n",
              "      <td>0.0</td>\n",
              "      <td>0.0</td>\n",
              "      <td>0.0</td>\n",
              "      <td>0.0</td>\n",
              "      <td>0.0</td>\n",
              "      <td>0.0</td>\n",
              "      <td>0.0</td>\n",
              "      <td>0.0</td>\n",
              "      <td>0.0</td>\n",
              "      <td>...</td>\n",
              "      <td>0.0</td>\n",
              "      <td>0.0</td>\n",
              "      <td>0.0</td>\n",
              "      <td>0.0</td>\n",
              "      <td>0.0</td>\n",
              "      <td>0.0</td>\n",
              "      <td>0.0</td>\n",
              "      <td>0.0</td>\n",
              "      <td>0.0</td>\n",
              "      <td>0.0</td>\n",
              "      <td>0.0</td>\n",
              "      <td>0.0</td>\n",
              "      <td>0.0</td>\n",
              "      <td>0.0</td>\n",
              "      <td>0.0</td>\n",
              "      <td>0.0</td>\n",
              "      <td>0.0</td>\n",
              "      <td>0.0</td>\n",
              "      <td>0.0</td>\n",
              "      <td>0.0</td>\n",
              "      <td>0.0</td>\n",
              "      <td>0.0</td>\n",
              "      <td>0.0</td>\n",
              "      <td>0.0</td>\n",
              "      <td>0.0</td>\n",
              "      <td>0.0</td>\n",
              "      <td>0.0</td>\n",
              "      <td>0.0</td>\n",
              "      <td>0.0</td>\n",
              "      <td>0.0</td>\n",
              "      <td>0.0</td>\n",
              "      <td>0.0</td>\n",
              "      <td>0.0</td>\n",
              "      <td>0.0</td>\n",
              "      <td>0.0</td>\n",
              "      <td>0.0</td>\n",
              "      <td>0.0</td>\n",
              "      <td>0.0</td>\n",
              "      <td>0.0</td>\n",
              "      <td>1</td>\n",
              "    </tr>\n",
              "    <tr>\n",
              "      <th>4</th>\n",
              "      <td>0.0</td>\n",
              "      <td>0.0</td>\n",
              "      <td>0.0</td>\n",
              "      <td>0.0</td>\n",
              "      <td>0.0</td>\n",
              "      <td>0.0</td>\n",
              "      <td>0.0</td>\n",
              "      <td>0.0</td>\n",
              "      <td>0.0</td>\n",
              "      <td>0.0</td>\n",
              "      <td>0.0</td>\n",
              "      <td>0.0</td>\n",
              "      <td>0.00000</td>\n",
              "      <td>0.0</td>\n",
              "      <td>0.0</td>\n",
              "      <td>0.0</td>\n",
              "      <td>0.0</td>\n",
              "      <td>0.0</td>\n",
              "      <td>0.0</td>\n",
              "      <td>0.0</td>\n",
              "      <td>0.0</td>\n",
              "      <td>0.0</td>\n",
              "      <td>0.0</td>\n",
              "      <td>0.0</td>\n",
              "      <td>0.0</td>\n",
              "      <td>0.0</td>\n",
              "      <td>0.0</td>\n",
              "      <td>0.0</td>\n",
              "      <td>0.0</td>\n",
              "      <td>0.0</td>\n",
              "      <td>0.0</td>\n",
              "      <td>0.0</td>\n",
              "      <td>0.0</td>\n",
              "      <td>0.0</td>\n",
              "      <td>0.0</td>\n",
              "      <td>0.0</td>\n",
              "      <td>0.0</td>\n",
              "      <td>0.0</td>\n",
              "      <td>0.0</td>\n",
              "      <td>0.0</td>\n",
              "      <td>...</td>\n",
              "      <td>0.0</td>\n",
              "      <td>0.0</td>\n",
              "      <td>0.0</td>\n",
              "      <td>0.0</td>\n",
              "      <td>0.0</td>\n",
              "      <td>0.0</td>\n",
              "      <td>0.0</td>\n",
              "      <td>0.0</td>\n",
              "      <td>0.0</td>\n",
              "      <td>0.0</td>\n",
              "      <td>0.0</td>\n",
              "      <td>0.0</td>\n",
              "      <td>0.0</td>\n",
              "      <td>0.0</td>\n",
              "      <td>0.0</td>\n",
              "      <td>0.0</td>\n",
              "      <td>0.0</td>\n",
              "      <td>0.0</td>\n",
              "      <td>0.0</td>\n",
              "      <td>0.0</td>\n",
              "      <td>0.0</td>\n",
              "      <td>0.0</td>\n",
              "      <td>0.0</td>\n",
              "      <td>0.0</td>\n",
              "      <td>0.0</td>\n",
              "      <td>0.0</td>\n",
              "      <td>0.0</td>\n",
              "      <td>0.0</td>\n",
              "      <td>0.0</td>\n",
              "      <td>0.0</td>\n",
              "      <td>0.0</td>\n",
              "      <td>0.0</td>\n",
              "      <td>0.0</td>\n",
              "      <td>0.0</td>\n",
              "      <td>0.0</td>\n",
              "      <td>0.0</td>\n",
              "      <td>0.0</td>\n",
              "      <td>0.0</td>\n",
              "      <td>0.0</td>\n",
              "      <td>1</td>\n",
              "    </tr>\n",
              "  </tbody>\n",
              "</table>\n",
              "<p>5 rows × 101 columns</p>\n",
              "</div>"
            ],
            "text/plain": [
              "   1am   ad   ae  afraid   al  ...  way  women  yousay  zeigler  target\n",
              "0  0.0  0.0  0.0     0.0  0.0  ...  0.0    0.0     0.0      0.0       1\n",
              "1  0.0  0.0  0.0     0.0  0.0  ...  0.0    0.0     0.0      0.0       1\n",
              "2  0.0  0.0  0.0     0.0  0.0  ...  0.0    0.0     0.0      0.0       1\n",
              "3  0.0  0.0  0.0     0.0  0.0  ...  0.0    0.0     0.0      0.0       1\n",
              "4  0.0  0.0  0.0     0.0  0.0  ...  0.0    0.0     0.0      0.0       1\n",
              "\n",
              "[5 rows x 101 columns]"
            ]
          },
          "metadata": {
            "tags": []
          },
          "execution_count": 167
        }
      ]
    },
    {
      "cell_type": "code",
      "metadata": {
        "id": "6Uzlr_qpG4Jo",
        "colab_type": "code",
        "colab": {
          "base_uri": "https://localhost:8080/",
          "height": 102
        },
        "outputId": "788b4355-2fd8-491c-a690-16933c66487b"
      },
      "source": [
        "X_train,X_test,y_train,y_test = train_test_split(df_train.drop('target',axis=1),df_train['target'],test_size=0.2,stratify=df_train['target'],random_state=42)\n",
        "lr = LogisticRegression(multi_class='ovr')\n",
        "lr.fit(X_train,y_train)"
      ],
      "execution_count": null,
      "outputs": [
        {
          "output_type": "execute_result",
          "data": {
            "text/plain": [
              "LogisticRegression(C=1.0, class_weight=None, dual=False, fit_intercept=True,\n",
              "                   intercept_scaling=1, l1_ratio=None, max_iter=100,\n",
              "                   multi_class='ovr', n_jobs=None, penalty='l2',\n",
              "                   random_state=None, solver='lbfgs', tol=0.0001, verbose=0,\n",
              "                   warm_start=False)"
            ]
          },
          "metadata": {
            "tags": []
          },
          "execution_count": 201
        }
      ]
    },
    {
      "cell_type": "code",
      "metadata": {
        "id": "4WrYQQpnKYrU",
        "colab_type": "code",
        "colab": {}
      },
      "source": [
        "from sklearn.metrics import recall_score,f1_score,accuracy_score,confusion_matrix\n",
        "\n",
        "y_pred = lr.predict(X_test)"
      ],
      "execution_count": null,
      "outputs": []
    },
    {
      "cell_type": "code",
      "metadata": {
        "id": "FyvJkYuxKlwR",
        "colab_type": "code",
        "colab": {
          "base_uri": "https://localhost:8080/",
          "height": 34
        },
        "outputId": "ce3b5bca-b8b8-4859-d8ef-0f17c433c981"
      },
      "source": [
        "accuracy_score(y_pred,y_test)"
      ],
      "execution_count": null,
      "outputs": [
        {
          "output_type": "execute_result",
          "data": {
            "text/plain": [
              "0.9166666666666666"
            ]
          },
          "metadata": {
            "tags": []
          },
          "execution_count": 203
        }
      ]
    },
    {
      "cell_type": "code",
      "metadata": {
        "id": "KqbtmVsDLgxX",
        "colab_type": "code",
        "colab": {
          "base_uri": "https://localhost:8080/",
          "height": 34
        },
        "outputId": "7d194228-2d75-4b12-d3dd-b3e4a6442b6a"
      },
      "source": [
        "lb.classes_"
      ],
      "execution_count": null,
      "outputs": [
        {
          "output_type": "execute_result",
          "data": {
            "text/plain": [
              "array(['Negative', 'Positive', 'Random'], dtype=object)"
            ]
          },
          "metadata": {
            "tags": []
          },
          "execution_count": 204
        }
      ]
    },
    {
      "cell_type": "code",
      "metadata": {
        "id": "HhySM0chKstY",
        "colab_type": "code",
        "colab": {
          "base_uri": "https://localhost:8080/",
          "height": 282
        },
        "outputId": "a94aa73f-4a75-4da3-80e7-8047284906ca"
      },
      "source": [
        "import seaborn as sns\n",
        "sns.heatmap(confusion_matrix(y_pred,y_test),xticklabels=lb.classes_,yticklabels=lb.classes_,annot=True)"
      ],
      "execution_count": null,
      "outputs": [
        {
          "output_type": "execute_result",
          "data": {
            "text/plain": [
              "<matplotlib.axes._subplots.AxesSubplot at 0x7f30df248ba8>"
            ]
          },
          "metadata": {
            "tags": []
          },
          "execution_count": 205
        },
        {
          "output_type": "display_data",
          "data": {
            "image/png": "[encoded data removed]",
            "text/plain": [
              "<Figure size 432x288 with 2 Axes>"
            ]
          },
          "metadata": {
            "tags": [],
            "needs_background": "light"
          }
        }
      ]
    },
    {
      "cell_type": "code",
      "metadata": {
        "id": "C9ykDG70Ld1l",
        "colab_type": "code",
        "colab": {
          "base_uri": "https://localhost:8080/",
          "height": 34
        },
        "outputId": "880c464c-3acc-4151-f990-5475a6a25814"
      },
      "source": [
        "print(recall_score(y_test,y_pred,average='weighted'))"
      ],
      "execution_count": null,
      "outputs": [
        {
          "output_type": "stream",
          "text": [
            "0.9166666666666666\n"
          ],
          "name": "stdout"
        }
      ]
    },
    {
      "cell_type": "markdown",
      "metadata": {
        "id": "3GX2adioQOIC",
        "colab_type": "text"
      },
      "source": [
        "## Make predictions on test data"
      ]
    },
    {
      "cell_type": "code",
      "metadata": {
        "id": "CimTmvo4QHKj",
        "colab_type": "code",
        "colab": {
          "base_uri": "https://localhost:8080/",
          "height": 204
        },
        "outputId": "9cd3c8ef-c24b-4d45-a531-368da7a92c71"
      },
      "source": [
        "test = pd.read_csv('/content/drive/My Drive/Detect_Sentiments/Data Files/Test.csv')\n",
        "test.head()"
      ],
      "execution_count": null,
      "outputs": [
        {
          "output_type": "execute_result",
          "data": {
            "text/html": [
              "<div>\n",
              "<style scoped>\n",
              "    .dataframe tbody tr th:only-of-type {\n",
              "        vertical-align: middle;\n",
              "    }\n",
              "\n",
              "    .dataframe tbody tr th {\n",
              "        vertical-align: top;\n",
              "    }\n",
              "\n",
              "    .dataframe thead th {\n",
              "        text-align: right;\n",
              "    }\n",
              "</style>\n",
              "<table border=\"1\" class=\"dataframe\">\n",
              "  <thead>\n",
              "    <tr style=\"text-align: right;\">\n",
              "      <th></th>\n",
              "      <th>Filename</th>\n",
              "      <th>Category</th>\n",
              "    </tr>\n",
              "  </thead>\n",
              "  <tbody>\n",
              "    <tr>\n",
              "      <th>0</th>\n",
              "      <td>Test1001.jpg</td>\n",
              "      <td>NaN</td>\n",
              "    </tr>\n",
              "    <tr>\n",
              "      <th>1</th>\n",
              "      <td>Test1012.jpg</td>\n",
              "      <td>NaN</td>\n",
              "    </tr>\n",
              "    <tr>\n",
              "      <th>2</th>\n",
              "      <td>Test1022.jpg</td>\n",
              "      <td>NaN</td>\n",
              "    </tr>\n",
              "    <tr>\n",
              "      <th>3</th>\n",
              "      <td>Test1071.jpg</td>\n",
              "      <td>NaN</td>\n",
              "    </tr>\n",
              "    <tr>\n",
              "      <th>4</th>\n",
              "      <td>Test1122.jpg</td>\n",
              "      <td>NaN</td>\n",
              "    </tr>\n",
              "  </tbody>\n",
              "</table>\n",
              "</div>"
            ],
            "text/plain": [
              "       Filename  Category\n",
              "0  Test1001.jpg       NaN\n",
              "1  Test1012.jpg       NaN\n",
              "2  Test1022.jpg       NaN\n",
              "3  Test1071.jpg       NaN\n",
              "4  Test1122.jpg       NaN"
            ]
          },
          "metadata": {
            "tags": []
          },
          "execution_count": 207
        }
      ]
    },
    {
      "cell_type": "code",
      "metadata": {
        "id": "A_fLamL8Qcv6",
        "colab_type": "code",
        "colab": {}
      },
      "source": [
        "tstimg = test.Filename.values.tolist()"
      ],
      "execution_count": null,
      "outputs": []
    },
    {
      "cell_type": "code",
      "metadata": {
        "id": "z5gAPwlcQvnH",
        "colab_type": "code",
        "colab": {
          "base_uri": "https://localhost:8080/",
          "height": 35
        },
        "outputId": "71162604-d9b4-4511-cb96-82524af8985c"
      },
      "source": [
        "path_train"
      ],
      "execution_count": null,
      "outputs": [
        {
          "output_type": "execute_result",
          "data": {
            "application/vnd.google.colaboratory.intrinsic": {
              "type": "string"
            },
            "text/plain": [
              "'/content/drive/My Drive/Detect_Sentiments/Data Files/Dataset'"
            ]
          },
          "metadata": {
            "tags": []
          },
          "execution_count": 209
        }
      ]
    },
    {
      "cell_type": "code",
      "metadata": {
        "id": "5bM91Ee8QUlX",
        "colab_type": "code",
        "colab": {}
      },
      "source": [
        "import os\n",
        "img_txt =[]\n",
        "image_name = []\n",
        "polarity =  []\n",
        "for images in tstimg:\n",
        "  extractedInformation = pytesseract.image_to_string(Image.open(path_train+'/'+ images))\n",
        "  text = extractedInformation.encode('utf-8')\n",
        "  converted_list = []\n",
        "  for element in extractedInformation.split(\" \"):\n",
        "    converted_list.append(element.replace(\"\\n\",\"\"))\n",
        "  img_txt.append(\" \".join(converted_list))\n",
        "  polarity.append(detect_polarity(extractedInformation))\n",
        "  image_name.append(images)"
      ],
      "execution_count": null,
      "outputs": []
    },
    {
      "cell_type": "code",
      "metadata": {
        "id": "cLi0H_WJSnzc",
        "colab_type": "code",
        "colab": {}
      },
      "source": [
        "test = pd.DataFrame({'Image':image_name,'text':img_txt,'polarity':polarity})"
      ],
      "execution_count": null,
      "outputs": []
    },
    {
      "cell_type": "code",
      "metadata": {
        "id": "LjOJlJKWSmPv",
        "colab_type": "code",
        "colab": {}
      },
      "source": [
        "test['category'] = test['polarity'].apply(detect_category)"
      ],
      "execution_count": null,
      "outputs": []
    },
    {
      "cell_type": "code",
      "metadata": {
        "id": "Rdb96g56S5TM",
        "colab_type": "code",
        "colab": {
          "base_uri": "https://localhost:8080/",
          "height": 204
        },
        "outputId": "2ff1cc93-0064-486c-f0ce-f46728ed774a"
      },
      "source": [
        "test.head()"
      ],
      "execution_count": null,
      "outputs": [
        {
          "output_type": "execute_result",
          "data": {
            "text/html": [
              "<div>\n",
              "<style scoped>\n",
              "    .dataframe tbody tr th:only-of-type {\n",
              "        vertical-align: middle;\n",
              "    }\n",
              "\n",
              "    .dataframe tbody tr th {\n",
              "        vertical-align: top;\n",
              "    }\n",
              "\n",
              "    .dataframe thead th {\n",
              "        text-align: right;\n",
              "    }\n",
              "</style>\n",
              "<table border=\"1\" class=\"dataframe\">\n",
              "  <thead>\n",
              "    <tr style=\"text-align: right;\">\n",
              "      <th></th>\n",
              "      <th>Image</th>\n",
              "      <th>text</th>\n",
              "      <th>polarity</th>\n",
              "      <th>category</th>\n",
              "    </tr>\n",
              "  </thead>\n",
              "  <tbody>\n",
              "    <tr>\n",
              "      <th>0</th>\n",
              "      <td>Test1001.jpg</td>\n",
              "      <td>When people askwhat I see in you,I just smile ...</td>\n",
              "      <td>0.066667</td>\n",
              "      <td>Positive</td>\n",
              "    </tr>\n",
              "    <tr>\n",
              "      <th>1</th>\n",
              "      <td>Test1012.jpg</td>\n",
              "      <td>eSSmee) |aie) alRee</td>\n",
              "      <td>0.000000</td>\n",
              "      <td>Random</td>\n",
              "    </tr>\n",
              "    <tr>\n",
              "      <th>2</th>\n",
              "      <td>Test1022.jpg</td>\n",
              "      <td>LOVE®</td>\n",
              "      <td>0.500000</td>\n",
              "      <td>Positive</td>\n",
              "    </tr>\n",
              "    <tr>\n",
              "      <th>3</th>\n",
              "      <td>Test1071.jpg</td>\n",
              "      <td>ees MU WALLA OLem eae ienot living by society'...</td>\n",
              "      <td>0.212222</td>\n",
              "      <td>Positive</td>\n",
              "    </tr>\n",
              "    <tr>\n",
              "      <th>4</th>\n",
              "      <td>Test1122.jpg</td>\n",
              "      <td>‘Zeigler, author of \"Fair Play: How LGBT Athle...</td>\n",
              "      <td>0.272222</td>\n",
              "      <td>Positive</td>\n",
              "    </tr>\n",
              "  </tbody>\n",
              "</table>\n",
              "</div>"
            ],
            "text/plain": [
              "          Image  ...  category\n",
              "0  Test1001.jpg  ...  Positive\n",
              "1  Test1012.jpg  ...    Random\n",
              "2  Test1022.jpg  ...  Positive\n",
              "3  Test1071.jpg  ...  Positive\n",
              "4  Test1122.jpg  ...  Positive\n",
              "\n",
              "[5 rows x 4 columns]"
            ]
          },
          "metadata": {
            "tags": []
          },
          "execution_count": 182
        }
      ]
    },
    {
      "cell_type": "code",
      "metadata": {
        "id": "9QJWAG8qS6mu",
        "colab_type": "code",
        "colab": {
          "base_uri": "https://localhost:8080/",
          "height": 204
        },
        "outputId": "73d2f33b-a27e-4be9-e5b2-7887bf053160"
      },
      "source": [
        "test['clean_text'] = hero.clean(test['text'], pipeline = custom_pipeline)\n",
        "test.head()"
      ],
      "execution_count": null,
      "outputs": [
        {
          "output_type": "execute_result",
          "data": {
            "text/html": [
              "<div>\n",
              "<style scoped>\n",
              "    .dataframe tbody tr th:only-of-type {\n",
              "        vertical-align: middle;\n",
              "    }\n",
              "\n",
              "    .dataframe tbody tr th {\n",
              "        vertical-align: top;\n",
              "    }\n",
              "\n",
              "    .dataframe thead th {\n",
              "        text-align: right;\n",
              "    }\n",
              "</style>\n",
              "<table border=\"1\" class=\"dataframe\">\n",
              "  <thead>\n",
              "    <tr style=\"text-align: right;\">\n",
              "      <th></th>\n",
              "      <th>Image</th>\n",
              "      <th>text</th>\n",
              "      <th>polarity</th>\n",
              "      <th>category</th>\n",
              "      <th>clean_text</th>\n",
              "    </tr>\n",
              "  </thead>\n",
              "  <tbody>\n",
              "    <tr>\n",
              "      <th>0</th>\n",
              "      <td>Test1001.jpg</td>\n",
              "      <td>When people askwhat I see in you,I just smile ...</td>\n",
              "      <td>0.066667</td>\n",
              "      <td>Positive</td>\n",
              "      <td>peopl askwhat see smile andlook away becausei ...</td>\n",
              "    </tr>\n",
              "    <tr>\n",
              "      <th>1</th>\n",
              "      <td>Test1012.jpg</td>\n",
              "      <td>eSSmee) |aie) alRee</td>\n",
              "      <td>0.000000</td>\n",
              "      <td>Random</td>\n",
              "      <td>essme aie alre</td>\n",
              "    </tr>\n",
              "    <tr>\n",
              "      <th>2</th>\n",
              "      <td>Test1022.jpg</td>\n",
              "      <td>LOVE®</td>\n",
              "      <td>0.500000</td>\n",
              "      <td>Positive</td>\n",
              "      <td>lover</td>\n",
              "    </tr>\n",
              "    <tr>\n",
              "      <th>3</th>\n",
              "      <td>Test1071.jpg</td>\n",
              "      <td>ees MU WALLA OLem eae ienot living by society'...</td>\n",
              "      <td>0.212222</td>\n",
              "      <td>Positive</td>\n",
              "      <td>ee mu walla olem eae ienot live societi sstand...</td>\n",
              "    </tr>\n",
              "    <tr>\n",
              "      <th>4</th>\n",
              "      <td>Test1122.jpg</td>\n",
              "      <td>‘Zeigler, author of \"Fair Play: How LGBT Athle...</td>\n",
              "      <td>0.272222</td>\n",
              "      <td>Positive</td>\n",
              "      <td>zeigler author fair play lgbt athlet claim the...</td>\n",
              "    </tr>\n",
              "  </tbody>\n",
              "</table>\n",
              "</div>"
            ],
            "text/plain": [
              "          Image  ...                                         clean_text\n",
              "0  Test1001.jpg  ...  peopl askwhat see smile andlook away becausei ...\n",
              "1  Test1012.jpg  ...                                     essme aie alre\n",
              "2  Test1022.jpg  ...                                              lover\n",
              "3  Test1071.jpg  ...  ee mu walla olem eae ienot live societi sstand...\n",
              "4  Test1122.jpg  ...  zeigler author fair play lgbt athlet claim the...\n",
              "\n",
              "[5 rows x 5 columns]"
            ]
          },
          "metadata": {
            "tags": []
          },
          "execution_count": 213
        }
      ]
    },
    {
      "cell_type": "code",
      "metadata": {
        "id": "WiWy1kUeTP_p",
        "colab_type": "code",
        "colab": {}
      },
      "source": [
        "tfidf_test,name_test = hero.tfidf(df['clean_text'],max_features=100,return_feature_names=True)"
      ],
      "execution_count": null,
      "outputs": []
    },
    {
      "cell_type": "code",
      "metadata": {
        "id": "kXD1KU0yU_EZ",
        "colab_type": "code",
        "colab": {}
      },
      "source": [
        "tf_list_test =[]\n",
        "for item in tfidf_test.values:\n",
        "  tf_list_test.append(item)"
      ],
      "execution_count": null,
      "outputs": []
    },
    {
      "cell_type": "code",
      "metadata": {
        "id": "xLv5G5avVGo9",
        "colab_type": "code",
        "colab": {}
      },
      "source": [
        "tfidf_test  = pd.DataFrame(tf_list_test,columns=name_test)"
      ],
      "execution_count": null,
      "outputs": []
    },
    {
      "cell_type": "code",
      "metadata": {
        "id": "5Q3EG9POVW_l",
        "colab_type": "code",
        "colab": {
          "base_uri": "https://localhost:8080/",
          "height": 253
        },
        "outputId": "9ccc93f0-a9b4-4717-8705-cf3e1efe5866"
      },
      "source": [
        "tfidf_test .head()"
      ],
      "execution_count": null,
      "outputs": [
        {
          "output_type": "execute_result",
          "data": {
            "text/html": [
              "<div>\n",
              "<style scoped>\n",
              "    .dataframe tbody tr th:only-of-type {\n",
              "        vertical-align: middle;\n",
              "    }\n",
              "\n",
              "    .dataframe tbody tr th {\n",
              "        vertical-align: top;\n",
              "    }\n",
              "\n",
              "    .dataframe thead th {\n",
              "        text-align: right;\n",
              "    }\n",
              "</style>\n",
              "<table border=\"1\" class=\"dataframe\">\n",
              "  <thead>\n",
              "    <tr style=\"text-align: right;\">\n",
              "      <th></th>\n",
              "      <th>1am</th>\n",
              "      <th>ad</th>\n",
              "      <th>ae</th>\n",
              "      <th>afraid</th>\n",
              "      <th>al</th>\n",
              "      <th>athlet</th>\n",
              "      <th>away</th>\n",
              "      <th>c</th>\n",
              "      <th>ce</th>\n",
              "      <th>claim</th>\n",
              "      <th>closet</th>\n",
              "      <th>com</th>\n",
              "      <th>come</th>\n",
              "      <th>curv</th>\n",
              "      <th>danger</th>\n",
              "      <th>dat</th>\n",
              "      <th>day</th>\n",
              "      <th>defi</th>\n",
              "      <th>demean</th>\n",
              "      <th>deut</th>\n",
              "      <th>differentfrom</th>\n",
              "      <th>dodg</th>\n",
              "      <th>dss</th>\n",
              "      <th>e</th>\n",
              "      <th>ea</th>\n",
              "      <th>eae</th>\n",
              "      <th>ee</th>\n",
              "      <th>eee</th>\n",
              "      <th>eel</th>\n",
              "      <th>et</th>\n",
              "      <th>even</th>\n",
              "      <th>exist</th>\n",
              "      <th>ff</th>\n",
              "      <th>gay</th>\n",
              "      <th>geckoandfli</th>\n",
              "      <th>gender</th>\n",
              "      <th>human</th>\n",
              "      <th>hyper</th>\n",
              "      <th>indian</th>\n",
              "      <th>instead</th>\n",
              "      <th>...</th>\n",
              "      <th>part</th>\n",
              "      <th>peopl</th>\n",
              "      <th>play</th>\n",
              "      <th>portray</th>\n",
              "      <th>posit</th>\n",
              "      <th>pride</th>\n",
              "      <th>proud</th>\n",
              "      <th>quot</th>\n",
              "      <th>quoteswww</th>\n",
              "      <th>r</th>\n",
              "      <th>rise</th>\n",
              "      <th>said</th>\n",
              "      <th>say</th>\n",
              "      <th>se</th>\n",
              "      <th>see</th>\n",
              "      <th>sin</th>\n",
              "      <th>sorri</th>\n",
              "      <th>sound</th>\n",
              "      <th>space</th>\n",
              "      <th>sport</th>\n",
              "      <th>stand</th>\n",
              "      <th>state</th>\n",
              "      <th>stop</th>\n",
              "      <th>straight</th>\n",
              "      <th>street</th>\n",
              "      <th>subconsci</th>\n",
              "      <th>talk</th>\n",
              "      <th>te</th>\n",
              "      <th>tell</th>\n",
              "      <th>text</th>\n",
              "      <th>theme</th>\n",
              "      <th>thing</th>\n",
              "      <th>time</th>\n",
              "      <th>toward</th>\n",
              "      <th>truth</th>\n",
              "      <th>vers</th>\n",
              "      <th>way</th>\n",
              "      <th>women</th>\n",
              "      <th>yousay</th>\n",
              "      <th>zeigler</th>\n",
              "    </tr>\n",
              "  </thead>\n",
              "  <tbody>\n",
              "    <tr>\n",
              "      <th>0</th>\n",
              "      <td>0.0</td>\n",
              "      <td>0.0</td>\n",
              "      <td>0.0</td>\n",
              "      <td>0.0</td>\n",
              "      <td>0.0</td>\n",
              "      <td>0.0</td>\n",
              "      <td>0.0</td>\n",
              "      <td>0.0</td>\n",
              "      <td>0.0</td>\n",
              "      <td>0.0</td>\n",
              "      <td>0.0</td>\n",
              "      <td>0.0</td>\n",
              "      <td>0.00000</td>\n",
              "      <td>0.0</td>\n",
              "      <td>0.0</td>\n",
              "      <td>0.0</td>\n",
              "      <td>0.0</td>\n",
              "      <td>0.0</td>\n",
              "      <td>0.0</td>\n",
              "      <td>0.0</td>\n",
              "      <td>0.0</td>\n",
              "      <td>0.0</td>\n",
              "      <td>0.0</td>\n",
              "      <td>0.0</td>\n",
              "      <td>0.0</td>\n",
              "      <td>0.0</td>\n",
              "      <td>0.0</td>\n",
              "      <td>0.0</td>\n",
              "      <td>0.0</td>\n",
              "      <td>0.0</td>\n",
              "      <td>0.0</td>\n",
              "      <td>0.0</td>\n",
              "      <td>0.0</td>\n",
              "      <td>0.0</td>\n",
              "      <td>0.0</td>\n",
              "      <td>0.0</td>\n",
              "      <td>0.0</td>\n",
              "      <td>0.0</td>\n",
              "      <td>0.0</td>\n",
              "      <td>0.0</td>\n",
              "      <td>...</td>\n",
              "      <td>0.0</td>\n",
              "      <td>0.0</td>\n",
              "      <td>0.0</td>\n",
              "      <td>0.0</td>\n",
              "      <td>0.0</td>\n",
              "      <td>0.0</td>\n",
              "      <td>0.0</td>\n",
              "      <td>0.0</td>\n",
              "      <td>0.0</td>\n",
              "      <td>0.0</td>\n",
              "      <td>0.0</td>\n",
              "      <td>0.0</td>\n",
              "      <td>0.0</td>\n",
              "      <td>1.0</td>\n",
              "      <td>0.0</td>\n",
              "      <td>0.0</td>\n",
              "      <td>0.0</td>\n",
              "      <td>0.0</td>\n",
              "      <td>0.0</td>\n",
              "      <td>0.0</td>\n",
              "      <td>0.0</td>\n",
              "      <td>0.0</td>\n",
              "      <td>0.0</td>\n",
              "      <td>0.0</td>\n",
              "      <td>0.0</td>\n",
              "      <td>0.0</td>\n",
              "      <td>0.0</td>\n",
              "      <td>0.0</td>\n",
              "      <td>0.0</td>\n",
              "      <td>0.0</td>\n",
              "      <td>0.0</td>\n",
              "      <td>0.0</td>\n",
              "      <td>0.0</td>\n",
              "      <td>0.0</td>\n",
              "      <td>0.0</td>\n",
              "      <td>0.0</td>\n",
              "      <td>0.0</td>\n",
              "      <td>0.0</td>\n",
              "      <td>0.0</td>\n",
              "      <td>0.0</td>\n",
              "    </tr>\n",
              "    <tr>\n",
              "      <th>1</th>\n",
              "      <td>0.0</td>\n",
              "      <td>0.0</td>\n",
              "      <td>0.0</td>\n",
              "      <td>0.0</td>\n",
              "      <td>0.0</td>\n",
              "      <td>0.0</td>\n",
              "      <td>0.0</td>\n",
              "      <td>0.0</td>\n",
              "      <td>0.0</td>\n",
              "      <td>0.0</td>\n",
              "      <td>0.0</td>\n",
              "      <td>0.0</td>\n",
              "      <td>0.00000</td>\n",
              "      <td>0.0</td>\n",
              "      <td>0.0</td>\n",
              "      <td>0.0</td>\n",
              "      <td>0.0</td>\n",
              "      <td>0.0</td>\n",
              "      <td>0.0</td>\n",
              "      <td>0.0</td>\n",
              "      <td>0.0</td>\n",
              "      <td>0.0</td>\n",
              "      <td>0.0</td>\n",
              "      <td>0.0</td>\n",
              "      <td>0.0</td>\n",
              "      <td>0.0</td>\n",
              "      <td>0.0</td>\n",
              "      <td>0.0</td>\n",
              "      <td>0.0</td>\n",
              "      <td>0.0</td>\n",
              "      <td>0.0</td>\n",
              "      <td>0.0</td>\n",
              "      <td>0.0</td>\n",
              "      <td>0.0</td>\n",
              "      <td>0.0</td>\n",
              "      <td>0.0</td>\n",
              "      <td>0.0</td>\n",
              "      <td>0.0</td>\n",
              "      <td>0.0</td>\n",
              "      <td>0.0</td>\n",
              "      <td>...</td>\n",
              "      <td>0.0</td>\n",
              "      <td>0.0</td>\n",
              "      <td>0.0</td>\n",
              "      <td>0.0</td>\n",
              "      <td>0.0</td>\n",
              "      <td>0.0</td>\n",
              "      <td>0.0</td>\n",
              "      <td>0.0</td>\n",
              "      <td>0.0</td>\n",
              "      <td>0.0</td>\n",
              "      <td>0.0</td>\n",
              "      <td>0.0</td>\n",
              "      <td>0.0</td>\n",
              "      <td>0.0</td>\n",
              "      <td>0.0</td>\n",
              "      <td>0.0</td>\n",
              "      <td>0.0</td>\n",
              "      <td>0.0</td>\n",
              "      <td>0.0</td>\n",
              "      <td>0.0</td>\n",
              "      <td>0.0</td>\n",
              "      <td>0.0</td>\n",
              "      <td>0.0</td>\n",
              "      <td>0.0</td>\n",
              "      <td>0.0</td>\n",
              "      <td>0.0</td>\n",
              "      <td>0.0</td>\n",
              "      <td>0.0</td>\n",
              "      <td>0.0</td>\n",
              "      <td>0.0</td>\n",
              "      <td>0.0</td>\n",
              "      <td>0.0</td>\n",
              "      <td>0.0</td>\n",
              "      <td>0.0</td>\n",
              "      <td>0.0</td>\n",
              "      <td>0.0</td>\n",
              "      <td>0.0</td>\n",
              "      <td>0.0</td>\n",
              "      <td>0.0</td>\n",
              "      <td>0.0</td>\n",
              "    </tr>\n",
              "    <tr>\n",
              "      <th>2</th>\n",
              "      <td>0.0</td>\n",
              "      <td>0.0</td>\n",
              "      <td>0.0</td>\n",
              "      <td>0.0</td>\n",
              "      <td>0.0</td>\n",
              "      <td>0.0</td>\n",
              "      <td>0.0</td>\n",
              "      <td>0.0</td>\n",
              "      <td>0.0</td>\n",
              "      <td>0.0</td>\n",
              "      <td>0.0</td>\n",
              "      <td>0.0</td>\n",
              "      <td>0.57735</td>\n",
              "      <td>0.0</td>\n",
              "      <td>0.0</td>\n",
              "      <td>0.0</td>\n",
              "      <td>0.0</td>\n",
              "      <td>0.0</td>\n",
              "      <td>0.0</td>\n",
              "      <td>0.0</td>\n",
              "      <td>0.0</td>\n",
              "      <td>0.0</td>\n",
              "      <td>0.0</td>\n",
              "      <td>0.0</td>\n",
              "      <td>0.0</td>\n",
              "      <td>0.0</td>\n",
              "      <td>0.0</td>\n",
              "      <td>0.0</td>\n",
              "      <td>0.0</td>\n",
              "      <td>0.0</td>\n",
              "      <td>0.0</td>\n",
              "      <td>0.0</td>\n",
              "      <td>0.0</td>\n",
              "      <td>0.0</td>\n",
              "      <td>0.0</td>\n",
              "      <td>0.0</td>\n",
              "      <td>0.0</td>\n",
              "      <td>0.0</td>\n",
              "      <td>0.0</td>\n",
              "      <td>0.0</td>\n",
              "      <td>...</td>\n",
              "      <td>0.0</td>\n",
              "      <td>0.0</td>\n",
              "      <td>0.0</td>\n",
              "      <td>0.0</td>\n",
              "      <td>0.0</td>\n",
              "      <td>0.0</td>\n",
              "      <td>0.0</td>\n",
              "      <td>0.0</td>\n",
              "      <td>0.0</td>\n",
              "      <td>0.0</td>\n",
              "      <td>0.0</td>\n",
              "      <td>0.0</td>\n",
              "      <td>0.0</td>\n",
              "      <td>0.0</td>\n",
              "      <td>0.0</td>\n",
              "      <td>0.0</td>\n",
              "      <td>0.0</td>\n",
              "      <td>0.0</td>\n",
              "      <td>0.0</td>\n",
              "      <td>0.0</td>\n",
              "      <td>0.0</td>\n",
              "      <td>0.0</td>\n",
              "      <td>0.0</td>\n",
              "      <td>0.0</td>\n",
              "      <td>0.0</td>\n",
              "      <td>0.0</td>\n",
              "      <td>0.0</td>\n",
              "      <td>0.0</td>\n",
              "      <td>0.0</td>\n",
              "      <td>0.0</td>\n",
              "      <td>0.0</td>\n",
              "      <td>0.0</td>\n",
              "      <td>0.0</td>\n",
              "      <td>0.0</td>\n",
              "      <td>0.0</td>\n",
              "      <td>0.0</td>\n",
              "      <td>0.0</td>\n",
              "      <td>0.0</td>\n",
              "      <td>0.0</td>\n",
              "      <td>0.0</td>\n",
              "    </tr>\n",
              "    <tr>\n",
              "      <th>3</th>\n",
              "      <td>0.0</td>\n",
              "      <td>0.0</td>\n",
              "      <td>0.0</td>\n",
              "      <td>0.0</td>\n",
              "      <td>0.0</td>\n",
              "      <td>0.0</td>\n",
              "      <td>0.0</td>\n",
              "      <td>0.0</td>\n",
              "      <td>0.0</td>\n",
              "      <td>0.0</td>\n",
              "      <td>0.0</td>\n",
              "      <td>0.0</td>\n",
              "      <td>0.00000</td>\n",
              "      <td>0.0</td>\n",
              "      <td>0.0</td>\n",
              "      <td>0.0</td>\n",
              "      <td>0.0</td>\n",
              "      <td>0.0</td>\n",
              "      <td>0.0</td>\n",
              "      <td>0.0</td>\n",
              "      <td>0.0</td>\n",
              "      <td>0.0</td>\n",
              "      <td>0.0</td>\n",
              "      <td>0.0</td>\n",
              "      <td>0.0</td>\n",
              "      <td>0.0</td>\n",
              "      <td>0.0</td>\n",
              "      <td>0.0</td>\n",
              "      <td>0.0</td>\n",
              "      <td>0.0</td>\n",
              "      <td>0.0</td>\n",
              "      <td>0.0</td>\n",
              "      <td>0.0</td>\n",
              "      <td>0.0</td>\n",
              "      <td>0.0</td>\n",
              "      <td>0.0</td>\n",
              "      <td>0.0</td>\n",
              "      <td>0.0</td>\n",
              "      <td>0.0</td>\n",
              "      <td>0.0</td>\n",
              "      <td>...</td>\n",
              "      <td>0.0</td>\n",
              "      <td>0.0</td>\n",
              "      <td>0.0</td>\n",
              "      <td>0.0</td>\n",
              "      <td>0.0</td>\n",
              "      <td>0.0</td>\n",
              "      <td>0.0</td>\n",
              "      <td>0.0</td>\n",
              "      <td>0.0</td>\n",
              "      <td>0.0</td>\n",
              "      <td>0.0</td>\n",
              "      <td>0.0</td>\n",
              "      <td>0.0</td>\n",
              "      <td>0.0</td>\n",
              "      <td>0.0</td>\n",
              "      <td>0.0</td>\n",
              "      <td>0.0</td>\n",
              "      <td>0.0</td>\n",
              "      <td>0.0</td>\n",
              "      <td>0.0</td>\n",
              "      <td>0.0</td>\n",
              "      <td>0.0</td>\n",
              "      <td>0.0</td>\n",
              "      <td>0.0</td>\n",
              "      <td>0.0</td>\n",
              "      <td>0.0</td>\n",
              "      <td>0.0</td>\n",
              "      <td>0.0</td>\n",
              "      <td>0.0</td>\n",
              "      <td>0.0</td>\n",
              "      <td>0.0</td>\n",
              "      <td>0.0</td>\n",
              "      <td>0.0</td>\n",
              "      <td>0.0</td>\n",
              "      <td>0.0</td>\n",
              "      <td>0.0</td>\n",
              "      <td>0.0</td>\n",
              "      <td>0.0</td>\n",
              "      <td>0.0</td>\n",
              "      <td>0.0</td>\n",
              "    </tr>\n",
              "    <tr>\n",
              "      <th>4</th>\n",
              "      <td>0.0</td>\n",
              "      <td>0.0</td>\n",
              "      <td>0.0</td>\n",
              "      <td>0.0</td>\n",
              "      <td>0.0</td>\n",
              "      <td>0.0</td>\n",
              "      <td>0.0</td>\n",
              "      <td>0.0</td>\n",
              "      <td>0.0</td>\n",
              "      <td>0.0</td>\n",
              "      <td>0.0</td>\n",
              "      <td>0.0</td>\n",
              "      <td>0.00000</td>\n",
              "      <td>0.0</td>\n",
              "      <td>0.0</td>\n",
              "      <td>0.0</td>\n",
              "      <td>0.0</td>\n",
              "      <td>0.0</td>\n",
              "      <td>0.0</td>\n",
              "      <td>0.0</td>\n",
              "      <td>0.0</td>\n",
              "      <td>0.0</td>\n",
              "      <td>0.0</td>\n",
              "      <td>0.0</td>\n",
              "      <td>0.0</td>\n",
              "      <td>0.0</td>\n",
              "      <td>0.0</td>\n",
              "      <td>0.0</td>\n",
              "      <td>0.0</td>\n",
              "      <td>0.0</td>\n",
              "      <td>0.0</td>\n",
              "      <td>0.0</td>\n",
              "      <td>0.0</td>\n",
              "      <td>0.0</td>\n",
              "      <td>0.0</td>\n",
              "      <td>0.0</td>\n",
              "      <td>0.0</td>\n",
              "      <td>0.0</td>\n",
              "      <td>0.0</td>\n",
              "      <td>0.0</td>\n",
              "      <td>...</td>\n",
              "      <td>0.0</td>\n",
              "      <td>0.0</td>\n",
              "      <td>0.0</td>\n",
              "      <td>0.0</td>\n",
              "      <td>0.0</td>\n",
              "      <td>0.0</td>\n",
              "      <td>0.0</td>\n",
              "      <td>0.0</td>\n",
              "      <td>0.0</td>\n",
              "      <td>0.0</td>\n",
              "      <td>0.0</td>\n",
              "      <td>0.0</td>\n",
              "      <td>0.0</td>\n",
              "      <td>0.0</td>\n",
              "      <td>0.0</td>\n",
              "      <td>0.0</td>\n",
              "      <td>0.0</td>\n",
              "      <td>0.0</td>\n",
              "      <td>0.0</td>\n",
              "      <td>0.0</td>\n",
              "      <td>0.0</td>\n",
              "      <td>0.0</td>\n",
              "      <td>0.0</td>\n",
              "      <td>0.0</td>\n",
              "      <td>0.0</td>\n",
              "      <td>0.0</td>\n",
              "      <td>0.0</td>\n",
              "      <td>0.0</td>\n",
              "      <td>0.0</td>\n",
              "      <td>0.0</td>\n",
              "      <td>0.0</td>\n",
              "      <td>0.0</td>\n",
              "      <td>0.0</td>\n",
              "      <td>0.0</td>\n",
              "      <td>0.0</td>\n",
              "      <td>0.0</td>\n",
              "      <td>0.0</td>\n",
              "      <td>0.0</td>\n",
              "      <td>0.0</td>\n",
              "      <td>0.0</td>\n",
              "    </tr>\n",
              "  </tbody>\n",
              "</table>\n",
              "<p>5 rows × 100 columns</p>\n",
              "</div>"
            ],
            "text/plain": [
              "   1am   ad   ae  afraid   al  athlet  ...  truth  vers  way  women  yousay  zeigler\n",
              "0  0.0  0.0  0.0     0.0  0.0     0.0  ...    0.0   0.0  0.0    0.0     0.0      0.0\n",
              "1  0.0  0.0  0.0     0.0  0.0     0.0  ...    0.0   0.0  0.0    0.0     0.0      0.0\n",
              "2  0.0  0.0  0.0     0.0  0.0     0.0  ...    0.0   0.0  0.0    0.0     0.0      0.0\n",
              "3  0.0  0.0  0.0     0.0  0.0     0.0  ...    0.0   0.0  0.0    0.0     0.0      0.0\n",
              "4  0.0  0.0  0.0     0.0  0.0     0.0  ...    0.0   0.0  0.0    0.0     0.0      0.0\n",
              "\n",
              "[5 rows x 100 columns]"
            ]
          },
          "metadata": {
            "tags": []
          },
          "execution_count": 221
        }
      ]
    },
    {
      "cell_type": "code",
      "metadata": {
        "id": "izdM23YcVZm3",
        "colab_type": "code",
        "colab": {}
      },
      "source": [
        "pred = lr.predict(tfidf_test)"
      ],
      "execution_count": null,
      "outputs": []
    },
    {
      "cell_type": "code",
      "metadata": {
        "id": "tbC9VbrwVnnc",
        "colab_type": "code",
        "colab": {
          "base_uri": "https://localhost:8080/",
          "height": 204
        },
        "outputId": "a0de37ba-d4e3-4ac8-954e-d315c98718ae"
      },
      "source": [
        "pred"
      ],
      "execution_count": null,
      "outputs": [
        {
          "output_type": "execute_result",
          "data": {
            "text/plain": [
              "array([1, 1, 1, 1, 1, 2, 2, 2, 2, 2, 1, 1, 2, 1, 1, 2, 1, 1, 2, 1, 2, 1,\n",
              "       1, 1, 1, 2, 1, 1, 2, 2, 1, 1, 2, 1, 1, 1, 1, 1, 2, 1, 2, 2, 2, 2,\n",
              "       2, 2, 1, 2, 1, 1, 1, 2, 1, 2, 1, 1, 2, 1, 2, 1, 2, 2, 1, 1, 1, 1,\n",
              "       1, 2, 1, 2, 1, 1, 1, 1, 1, 2, 2, 1, 1, 2, 1, 1, 1, 2, 2, 2, 2, 1,\n",
              "       1, 1, 1, 1, 1, 1, 1, 2, 2, 1, 1, 1, 1, 1, 1, 1, 1, 1, 2, 1, 2, 1,\n",
              "       1, 1, 1, 1, 1, 1, 1, 1, 2, 2, 1, 1, 1, 1, 1, 1, 2, 1, 1, 1, 1, 2,\n",
              "       1, 1, 1, 2, 1, 1, 1, 1, 1, 1, 2, 1, 2, 1, 1, 1, 1, 1, 1, 2, 2, 2,\n",
              "       1, 1, 1, 1, 2, 1, 2, 2, 1, 2, 2, 2, 2, 2, 1, 2, 1, 1, 1, 2, 2, 2,\n",
              "       2, 2, 2, 1, 2, 1, 2, 2, 2, 1, 2, 2, 2, 2, 2, 1, 2, 1, 2, 1, 2, 2,\n",
              "       2, 2, 2, 2, 2, 2, 1, 2, 2, 2, 2, 2, 2, 2, 1, 2, 2, 1, 2, 1, 1, 2,\n",
              "       2, 2, 2, 2, 1, 1, 2, 2, 2, 2, 1, 2, 2, 2, 2, 2, 2, 2, 2])"
            ]
          },
          "metadata": {
            "tags": []
          },
          "execution_count": 223
        }
      ]
    },
    {
      "cell_type": "code",
      "metadata": {
        "id": "R6Z_oV2jVpu9",
        "colab_type": "code",
        "colab": {}
      },
      "source": [
        "label_pred = lb.inverse_transform(pred)"
      ],
      "execution_count": null,
      "outputs": []
    },
    {
      "cell_type": "code",
      "metadata": {
        "id": "T_C8XJR7Vzwc",
        "colab_type": "code",
        "colab": {
          "base_uri": "https://localhost:8080/",
          "height": 204
        },
        "outputId": "fa7d95ba-6070-40eb-8594-d805af589698"
      },
      "source": [
        "sub = pd.read_csv('/content/drive/My Drive/Detect_Sentiments/Data Files/Sample_Submission.csv')\n",
        "sub.head()"
      ],
      "execution_count": null,
      "outputs": [
        {
          "output_type": "execute_result",
          "data": {
            "text/html": [
              "<div>\n",
              "<style scoped>\n",
              "    .dataframe tbody tr th:only-of-type {\n",
              "        vertical-align: middle;\n",
              "    }\n",
              "\n",
              "    .dataframe tbody tr th {\n",
              "        vertical-align: top;\n",
              "    }\n",
              "\n",
              "    .dataframe thead th {\n",
              "        text-align: right;\n",
              "    }\n",
              "</style>\n",
              "<table border=\"1\" class=\"dataframe\">\n",
              "  <thead>\n",
              "    <tr style=\"text-align: right;\">\n",
              "      <th></th>\n",
              "      <th>Filename</th>\n",
              "      <th>Category</th>\n",
              "    </tr>\n",
              "  </thead>\n",
              "  <tbody>\n",
              "    <tr>\n",
              "      <th>0</th>\n",
              "      <td>Test1001.jpg</td>\n",
              "      <td>Random</td>\n",
              "    </tr>\n",
              "    <tr>\n",
              "      <th>1</th>\n",
              "      <td>Test1012.jpg</td>\n",
              "      <td>Positive</td>\n",
              "    </tr>\n",
              "    <tr>\n",
              "      <th>2</th>\n",
              "      <td>Test1022.jpg</td>\n",
              "      <td>Negative</td>\n",
              "    </tr>\n",
              "    <tr>\n",
              "      <th>3</th>\n",
              "      <td>Test1071.jpg</td>\n",
              "      <td>Random</td>\n",
              "    </tr>\n",
              "    <tr>\n",
              "      <th>4</th>\n",
              "      <td>Test1122.jpg</td>\n",
              "      <td>Positive</td>\n",
              "    </tr>\n",
              "  </tbody>\n",
              "</table>\n",
              "</div>"
            ],
            "text/plain": [
              "       Filename  Category\n",
              "0  Test1001.jpg    Random\n",
              "1  Test1012.jpg  Positive\n",
              "2  Test1022.jpg  Negative\n",
              "3  Test1071.jpg    Random\n",
              "4  Test1122.jpg  Positive"
            ]
          },
          "metadata": {
            "tags": []
          },
          "execution_count": 225
        }
      ]
    },
    {
      "cell_type": "code",
      "metadata": {
        "id": "al5ku8HfWFWF",
        "colab_type": "code",
        "colab": {}
      },
      "source": [
        "test['Category'] = label_pred"
      ],
      "execution_count": null,
      "outputs": []
    },
    {
      "cell_type": "code",
      "metadata": {
        "id": "EOiyhhVvWRv8",
        "colab_type": "code",
        "colab": {
          "base_uri": "https://localhost:8080/",
          "height": 255
        },
        "outputId": "a8eee916-e38c-49c8-bac2-dd411f700a84"
      },
      "source": [
        "test.head()"
      ],
      "execution_count": null,
      "outputs": [
        {
          "output_type": "execute_result",
          "data": {
            "text/html": [
              "<div>\n",
              "<style scoped>\n",
              "    .dataframe tbody tr th:only-of-type {\n",
              "        vertical-align: middle;\n",
              "    }\n",
              "\n",
              "    .dataframe tbody tr th {\n",
              "        vertical-align: top;\n",
              "    }\n",
              "\n",
              "    .dataframe thead th {\n",
              "        text-align: right;\n",
              "    }\n",
              "</style>\n",
              "<table border=\"1\" class=\"dataframe\">\n",
              "  <thead>\n",
              "    <tr style=\"text-align: right;\">\n",
              "      <th></th>\n",
              "      <th>Image</th>\n",
              "      <th>text</th>\n",
              "      <th>polarity</th>\n",
              "      <th>category</th>\n",
              "      <th>clean_text</th>\n",
              "      <th>Category</th>\n",
              "    </tr>\n",
              "  </thead>\n",
              "  <tbody>\n",
              "    <tr>\n",
              "      <th>0</th>\n",
              "      <td>Test1001.jpg</td>\n",
              "      <td>When people askwhat I see in you,I just smile ...</td>\n",
              "      <td>0.066667</td>\n",
              "      <td>Positive</td>\n",
              "      <td>peopl askwhat see smile andlook away becausei ...</td>\n",
              "      <td>Positive</td>\n",
              "    </tr>\n",
              "    <tr>\n",
              "      <th>1</th>\n",
              "      <td>Test1012.jpg</td>\n",
              "      <td>eSSmee) |aie) alRee</td>\n",
              "      <td>0.000000</td>\n",
              "      <td>Random</td>\n",
              "      <td>essme aie alre</td>\n",
              "      <td>Positive</td>\n",
              "    </tr>\n",
              "    <tr>\n",
              "      <th>2</th>\n",
              "      <td>Test1022.jpg</td>\n",
              "      <td>LOVE®</td>\n",
              "      <td>0.500000</td>\n",
              "      <td>Positive</td>\n",
              "      <td>lover</td>\n",
              "      <td>Positive</td>\n",
              "    </tr>\n",
              "    <tr>\n",
              "      <th>3</th>\n",
              "      <td>Test1071.jpg</td>\n",
              "      <td>ees MU WALLA OLem eae ienot living by society'...</td>\n",
              "      <td>0.212222</td>\n",
              "      <td>Positive</td>\n",
              "      <td>ee mu walla olem eae ienot live societi sstand...</td>\n",
              "      <td>Positive</td>\n",
              "    </tr>\n",
              "    <tr>\n",
              "      <th>4</th>\n",
              "      <td>Test1122.jpg</td>\n",
              "      <td>‘Zeigler, author of \"Fair Play: How LGBT Athle...</td>\n",
              "      <td>0.272222</td>\n",
              "      <td>Positive</td>\n",
              "      <td>zeigler author fair play lgbt athlet claim the...</td>\n",
              "      <td>Positive</td>\n",
              "    </tr>\n",
              "  </tbody>\n",
              "</table>\n",
              "</div>"
            ],
            "text/plain": [
              "          Image  ...  Category\n",
              "0  Test1001.jpg  ...  Positive\n",
              "1  Test1012.jpg  ...  Positive\n",
              "2  Test1022.jpg  ...  Positive\n",
              "3  Test1071.jpg  ...  Positive\n",
              "4  Test1122.jpg  ...  Positive\n",
              "\n",
              "[5 rows x 6 columns]"
            ]
          },
          "metadata": {
            "tags": []
          },
          "execution_count": 227
        }
      ]
    },
    {
      "cell_type": "code",
      "metadata": {
        "id": "3bBddEgAWTYF",
        "colab_type": "code",
        "colab": {
          "base_uri": "https://localhost:8080/",
          "height": 296
        },
        "outputId": "631251dd-00c9-4933-a1e7-694a3f635df8"
      },
      "source": [
        "sns.countplot(test['Category'])"
      ],
      "execution_count": null,
      "outputs": [
        {
          "output_type": "execute_result",
          "data": {
            "text/plain": [
              "<matplotlib.axes._subplots.AxesSubplot at 0x7f30df27f080>"
            ]
          },
          "metadata": {
            "tags": []
          },
          "execution_count": 228
        },
        {
          "output_type": "display_data",
          "data": {
            "image/png": "[encoded data removed]",
            "text/plain": [
              "<Figure size 432x288 with 1 Axes>"
            ]
          },
          "metadata": {
            "tags": [],
            "needs_background": "light"
          }
        }
      ]
    },
    {
      "cell_type": "code",
      "metadata": {
        "id": "r4MNhXjjWYpV",
        "colab_type": "code",
        "colab": {}
      },
      "source": [
        "sub = test[['Image','Category']].copy()"
      ],
      "execution_count": null,
      "outputs": []
    },
    {
      "cell_type": "code",
      "metadata": {
        "id": "N7QKzRTXWrE9",
        "colab_type": "code",
        "colab": {
          "base_uri": "https://localhost:8080/",
          "height": 204
        },
        "outputId": "85636cce-ff65-4da9-dbd4-07eb3364a249"
      },
      "source": [
        "sub = sub.rename(columns={'Image':'Filename'})\n",
        "sub.head()"
      ],
      "execution_count": null,
      "outputs": [
        {
          "output_type": "execute_result",
          "data": {
            "text/html": [
              "<div>\n",
              "<style scoped>\n",
              "    .dataframe tbody tr th:only-of-type {\n",
              "        vertical-align: middle;\n",
              "    }\n",
              "\n",
              "    .dataframe tbody tr th {\n",
              "        vertical-align: top;\n",
              "    }\n",
              "\n",
              "    .dataframe thead th {\n",
              "        text-align: right;\n",
              "    }\n",
              "</style>\n",
              "<table border=\"1\" class=\"dataframe\">\n",
              "  <thead>\n",
              "    <tr style=\"text-align: right;\">\n",
              "      <th></th>\n",
              "      <th>Filename</th>\n",
              "      <th>Category</th>\n",
              "    </tr>\n",
              "  </thead>\n",
              "  <tbody>\n",
              "    <tr>\n",
              "      <th>0</th>\n",
              "      <td>Test1001.jpg</td>\n",
              "      <td>Positive</td>\n",
              "    </tr>\n",
              "    <tr>\n",
              "      <th>1</th>\n",
              "      <td>Test1012.jpg</td>\n",
              "      <td>Positive</td>\n",
              "    </tr>\n",
              "    <tr>\n",
              "      <th>2</th>\n",
              "      <td>Test1022.jpg</td>\n",
              "      <td>Positive</td>\n",
              "    </tr>\n",
              "    <tr>\n",
              "      <th>3</th>\n",
              "      <td>Test1071.jpg</td>\n",
              "      <td>Positive</td>\n",
              "    </tr>\n",
              "    <tr>\n",
              "      <th>4</th>\n",
              "      <td>Test1122.jpg</td>\n",
              "      <td>Positive</td>\n",
              "    </tr>\n",
              "  </tbody>\n",
              "</table>\n",
              "</div>"
            ],
            "text/plain": [
              "       Filename  Category\n",
              "0  Test1001.jpg  Positive\n",
              "1  Test1012.jpg  Positive\n",
              "2  Test1022.jpg  Positive\n",
              "3  Test1071.jpg  Positive\n",
              "4  Test1122.jpg  Positive"
            ]
          },
          "metadata": {
            "tags": []
          },
          "execution_count": 197
        }
      ]
    },
    {
      "cell_type": "code",
      "metadata": {
        "id": "azIehhcrW5H9",
        "colab_type": "code",
        "colab": {}
      },
      "source": [
        "sub.to_csv('sub1.csv',index=False)"
      ],
      "execution_count": null,
      "outputs": []
    },
    {
      "cell_type": "code",
      "metadata": {
        "id": "jviLjE-0XKJ2",
        "colab_type": "code",
        "colab": {}
      },
      "source": [
        ""
      ],
      "execution_count": null,
      "outputs": []
    }
  ]
}