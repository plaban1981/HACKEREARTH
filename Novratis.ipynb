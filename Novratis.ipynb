{
  "nbformat": 4,
  "nbformat_minor": 0,
  "metadata": {
    "colab": {
      "name": "Novratis.ipynb",
      "provenance": [],
      "authorship_tag": "ABX9TyM0u4Y2aa3clPzOn67b6ESp",
      "include_colab_link": true
    },
    "kernelspec": {
      "name": "python3",
      "display_name": "Python 3"
    }
  },
  "cells": [
    {
      "cell_type": "markdown",
      "metadata": {
        "id": "view-in-github",
        "colab_type": "text"
      },
      "source": [
        "<a href=\"https://colab.research.google.com/github/plaban1981/HACKEREARTH/blob/master/Novratis.ipynb\" target=\"_parent\"><img src=\"https://colab.research.google.com/assets/colab-badge.svg\" alt=\"Open In Colab\"/></a>"
      ]
    },
    {
      "cell_type": "markdown",
      "metadata": {
        "id": "mjskIiosYG1E",
        "colab_type": "text"
      },
      "source": [
        "# Download data from google drive"
      ]
    },
    {
      "cell_type": "code",
      "metadata": {
        "id": "PFfeBTC38Rdq",
        "colab_type": "code",
        "colab": {
          "base_uri": "https://localhost:8080/",
          "height": 34
        },
        "outputId": "b622cac1-0490-44b9-8d1a-e50f69d365a6"
      },
      "source": [
        "\"\"\"from google.colab import drive\n",
        "drive.mount('/content/drive')\"\"\""
      ],
      "execution_count": 86,
      "outputs": [
        {
          "output_type": "execute_result",
          "data": {
            "text/plain": [
              "\"from google.colab import drive\\ndrive.mount('/content/drive')\""
            ]
          },
          "metadata": {
            "tags": []
          },
          "execution_count": 86
        }
      ]
    },
    {
      "cell_type": "markdown",
      "metadata": {
        "id": "26kooVlN9_L3",
        "colab_type": "text"
      },
      "source": [
        "## Problem Statement \n",
        "\n",
        "Predict if a server will be hacked \n",
        "\n",
        "#### DATA\n",
        "\n",
        "**Features :**\n",
        "\n",
        "* INCIDENT_ID - Unique Identifier of an INCIDENT LOG\n",
        "* DATE        - DATE of incident occurrence\n",
        "* X1~X15      - Anonymous logging parameters\n",
        "\n",
        "**Label:**\n",
        "\n",
        "MULTIPLE_OFFENSE  {0: NO, 1: YES}"
      ]
    },
    {
      "cell_type": "code",
      "metadata": {
        "id": "SHySAIur9PKJ",
        "colab_type": "code",
        "colab": {}
      },
      "source": [
        "import pandas as pd\n",
        "import numpy as np\n",
        "import seaborn as sns\n",
        "import matplotlib.pyplot as plt\n",
        "#\n",
        "from sklearn.model_selection import KFold, StratifiedKFold\n",
        "from sklearn.metrics import f1_score,recall_score\n",
        "from lightgbm import LGBMClassifier, plot_importance\n",
        "from xgboost import XGBClassifier, XGBRFClassifier\n",
        "from sklearn.ensemble import RandomForestClassifier\n",
        "from imblearn.under_sampling import RandomUnderSampler\n",
        "import lightgbm as lgb\n",
        "import warnings\n",
        "warnings.filterwarnings('ignore')\n",
        "#\n",
        "%matplotlib inline\n"
      ],
      "execution_count": 0,
      "outputs": []
    },
    {
      "cell_type": "code",
      "metadata": {
        "id": "XhDY_vjV9gM8",
        "colab_type": "code",
        "colab": {}
      },
      "source": [
        "train = pd.read_csv('/content/drive/My Drive/Dataset/Train.csv')\n",
        "test = pd.read_csv('/content/drive/My Drive/Dataset/Test.csv')"
      ],
      "execution_count": 0,
      "outputs": []
    },
    {
      "cell_type": "code",
      "metadata": {
        "id": "xdIucrTIWkfx",
        "colab_type": "code",
        "colab": {}
      },
      "source": [
        "sub = pd.read_csv('/content/drive/My Drive/Dataset/Test.csv')"
      ],
      "execution_count": 0,
      "outputs": []
    },
    {
      "cell_type": "code",
      "metadata": {
        "id": "4evAOQsU9i28",
        "colab_type": "code",
        "colab": {
          "base_uri": "https://localhost:8080/",
          "height": 289
        },
        "outputId": "2bebd5e4-348f-423f-d930-ad723935013e"
      },
      "source": [
        "train.head()"
      ],
      "execution_count": 38,
      "outputs": [
        {
          "output_type": "execute_result",
          "data": {
            "text/html": [
              "<div>\n",
              "<style scoped>\n",
              "    .dataframe tbody tr th:only-of-type {\n",
              "        vertical-align: middle;\n",
              "    }\n",
              "\n",
              "    .dataframe tbody tr th {\n",
              "        vertical-align: top;\n",
              "    }\n",
              "\n",
              "    .dataframe thead th {\n",
              "        text-align: right;\n",
              "    }\n",
              "</style>\n",
              "<table border=\"1\" class=\"dataframe\">\n",
              "  <thead>\n",
              "    <tr style=\"text-align: right;\">\n",
              "      <th></th>\n",
              "      <th>INCIDENT_ID</th>\n",
              "      <th>DATE</th>\n",
              "      <th>X_1</th>\n",
              "      <th>X_2</th>\n",
              "      <th>X_3</th>\n",
              "      <th>X_4</th>\n",
              "      <th>X_5</th>\n",
              "      <th>X_6</th>\n",
              "      <th>X_7</th>\n",
              "      <th>X_8</th>\n",
              "      <th>X_9</th>\n",
              "      <th>X_10</th>\n",
              "      <th>X_11</th>\n",
              "      <th>X_12</th>\n",
              "      <th>X_13</th>\n",
              "      <th>X_14</th>\n",
              "      <th>X_15</th>\n",
              "      <th>MULTIPLE_OFFENSE</th>\n",
              "    </tr>\n",
              "  </thead>\n",
              "  <tbody>\n",
              "    <tr>\n",
              "      <th>0</th>\n",
              "      <td>CR_102659</td>\n",
              "      <td>04-JUL-04</td>\n",
              "      <td>0</td>\n",
              "      <td>36</td>\n",
              "      <td>34</td>\n",
              "      <td>2</td>\n",
              "      <td>1</td>\n",
              "      <td>5</td>\n",
              "      <td>6</td>\n",
              "      <td>1</td>\n",
              "      <td>6</td>\n",
              "      <td>1</td>\n",
              "      <td>174</td>\n",
              "      <td>1.0</td>\n",
              "      <td>92</td>\n",
              "      <td>29</td>\n",
              "      <td>36</td>\n",
              "      <td>0</td>\n",
              "    </tr>\n",
              "    <tr>\n",
              "      <th>1</th>\n",
              "      <td>CR_189752</td>\n",
              "      <td>18-JUL-17</td>\n",
              "      <td>1</td>\n",
              "      <td>37</td>\n",
              "      <td>37</td>\n",
              "      <td>0</td>\n",
              "      <td>0</td>\n",
              "      <td>11</td>\n",
              "      <td>17</td>\n",
              "      <td>1</td>\n",
              "      <td>6</td>\n",
              "      <td>1</td>\n",
              "      <td>236</td>\n",
              "      <td>1.0</td>\n",
              "      <td>103</td>\n",
              "      <td>142</td>\n",
              "      <td>34</td>\n",
              "      <td>1</td>\n",
              "    </tr>\n",
              "    <tr>\n",
              "      <th>2</th>\n",
              "      <td>CR_184637</td>\n",
              "      <td>15-MAR-17</td>\n",
              "      <td>0</td>\n",
              "      <td>3</td>\n",
              "      <td>2</td>\n",
              "      <td>3</td>\n",
              "      <td>5</td>\n",
              "      <td>1</td>\n",
              "      <td>0</td>\n",
              "      <td>2</td>\n",
              "      <td>3</td>\n",
              "      <td>1</td>\n",
              "      <td>174</td>\n",
              "      <td>1.0</td>\n",
              "      <td>110</td>\n",
              "      <td>93</td>\n",
              "      <td>34</td>\n",
              "      <td>1</td>\n",
              "    </tr>\n",
              "    <tr>\n",
              "      <th>3</th>\n",
              "      <td>CR_139071</td>\n",
              "      <td>13-FEB-09</td>\n",
              "      <td>0</td>\n",
              "      <td>33</td>\n",
              "      <td>32</td>\n",
              "      <td>2</td>\n",
              "      <td>1</td>\n",
              "      <td>7</td>\n",
              "      <td>1</td>\n",
              "      <td>1</td>\n",
              "      <td>6</td>\n",
              "      <td>1</td>\n",
              "      <td>249</td>\n",
              "      <td>1.0</td>\n",
              "      <td>72</td>\n",
              "      <td>29</td>\n",
              "      <td>34</td>\n",
              "      <td>1</td>\n",
              "    </tr>\n",
              "    <tr>\n",
              "      <th>4</th>\n",
              "      <td>CR_109335</td>\n",
              "      <td>13-APR-05</td>\n",
              "      <td>0</td>\n",
              "      <td>33</td>\n",
              "      <td>32</td>\n",
              "      <td>2</td>\n",
              "      <td>1</td>\n",
              "      <td>8</td>\n",
              "      <td>3</td>\n",
              "      <td>0</td>\n",
              "      <td>5</td>\n",
              "      <td>1</td>\n",
              "      <td>174</td>\n",
              "      <td>0.0</td>\n",
              "      <td>112</td>\n",
              "      <td>29</td>\n",
              "      <td>43</td>\n",
              "      <td>1</td>\n",
              "    </tr>\n",
              "  </tbody>\n",
              "</table>\n",
              "</div>"
            ],
            "text/plain": [
              "  INCIDENT_ID       DATE  X_1  X_2  ...  X_13  X_14  X_15  MULTIPLE_OFFENSE\n",
              "0   CR_102659  04-JUL-04    0   36  ...    92    29    36                 0\n",
              "1   CR_189752  18-JUL-17    1   37  ...   103   142    34                 1\n",
              "2   CR_184637  15-MAR-17    0    3  ...   110    93    34                 1\n",
              "3   CR_139071  13-FEB-09    0   33  ...    72    29    34                 1\n",
              "4   CR_109335  13-APR-05    0   33  ...   112    29    43                 1\n",
              "\n",
              "[5 rows x 18 columns]"
            ]
          },
          "metadata": {
            "tags": []
          },
          "execution_count": 38
        }
      ]
    },
    {
      "cell_type": "markdown",
      "metadata": {
        "id": "aopjX6ZhERzE",
        "colab_type": "text"
      },
      "source": [
        "## Data Statistics"
      ]
    },
    {
      "cell_type": "code",
      "metadata": {
        "id": "iBe5NQQAEVUi",
        "colab_type": "code",
        "colab": {
          "base_uri": "https://localhost:8080/",
          "height": 317
        },
        "outputId": "4a4018f6-b5a9-4737-8f23-25b90fca8148"
      },
      "source": [
        "train.describe()"
      ],
      "execution_count": 12,
      "outputs": [
        {
          "output_type": "execute_result",
          "data": {
            "text/html": [
              "<div>\n",
              "<style scoped>\n",
              "    .dataframe tbody tr th:only-of-type {\n",
              "        vertical-align: middle;\n",
              "    }\n",
              "\n",
              "    .dataframe tbody tr th {\n",
              "        vertical-align: top;\n",
              "    }\n",
              "\n",
              "    .dataframe thead th {\n",
              "        text-align: right;\n",
              "    }\n",
              "</style>\n",
              "<table border=\"1\" class=\"dataframe\">\n",
              "  <thead>\n",
              "    <tr style=\"text-align: right;\">\n",
              "      <th></th>\n",
              "      <th>X_1</th>\n",
              "      <th>X_2</th>\n",
              "      <th>X_3</th>\n",
              "      <th>X_4</th>\n",
              "      <th>X_5</th>\n",
              "      <th>X_6</th>\n",
              "      <th>X_7</th>\n",
              "      <th>X_8</th>\n",
              "      <th>X_9</th>\n",
              "      <th>X_10</th>\n",
              "      <th>X_11</th>\n",
              "      <th>X_12</th>\n",
              "      <th>X_13</th>\n",
              "      <th>X_14</th>\n",
              "      <th>X_15</th>\n",
              "      <th>MULTIPLE_OFFENSE</th>\n",
              "    </tr>\n",
              "  </thead>\n",
              "  <tbody>\n",
              "    <tr>\n",
              "      <th>count</th>\n",
              "      <td>23856.000000</td>\n",
              "      <td>23856.000000</td>\n",
              "      <td>23856.000000</td>\n",
              "      <td>23856.000000</td>\n",
              "      <td>23856.000000</td>\n",
              "      <td>23856.000000</td>\n",
              "      <td>23856.000000</td>\n",
              "      <td>23856.000000</td>\n",
              "      <td>23856.000000</td>\n",
              "      <td>23856.000000</td>\n",
              "      <td>23856.000000</td>\n",
              "      <td>23674.000000</td>\n",
              "      <td>23856.000000</td>\n",
              "      <td>23856.000000</td>\n",
              "      <td>23856.000000</td>\n",
              "      <td>23856.000000</td>\n",
              "    </tr>\n",
              "    <tr>\n",
              "      <th>mean</th>\n",
              "      <td>0.483778</td>\n",
              "      <td>24.791206</td>\n",
              "      <td>24.637450</td>\n",
              "      <td>4.276744</td>\n",
              "      <td>2.455609</td>\n",
              "      <td>6.154175</td>\n",
              "      <td>4.876509</td>\n",
              "      <td>0.972460</td>\n",
              "      <td>4.924128</td>\n",
              "      <td>1.244802</td>\n",
              "      <td>206.954519</td>\n",
              "      <td>0.974064</td>\n",
              "      <td>85.237383</td>\n",
              "      <td>72.674296</td>\n",
              "      <td>33.464747</td>\n",
              "      <td>0.955231</td>\n",
              "    </tr>\n",
              "    <tr>\n",
              "      <th>std</th>\n",
              "      <td>1.439738</td>\n",
              "      <td>15.240231</td>\n",
              "      <td>15.135093</td>\n",
              "      <td>2.944672</td>\n",
              "      <td>1.963095</td>\n",
              "      <td>4.471756</td>\n",
              "      <td>3.881931</td>\n",
              "      <td>1.453144</td>\n",
              "      <td>1.362625</td>\n",
              "      <td>1.119301</td>\n",
              "      <td>93.033348</td>\n",
              "      <td>1.167725</td>\n",
              "      <td>27.597226</td>\n",
              "      <td>43.297320</td>\n",
              "      <td>8.386834</td>\n",
              "      <td>0.206800</td>\n",
              "    </tr>\n",
              "    <tr>\n",
              "      <th>min</th>\n",
              "      <td>0.000000</td>\n",
              "      <td>0.000000</td>\n",
              "      <td>0.000000</td>\n",
              "      <td>0.000000</td>\n",
              "      <td>0.000000</td>\n",
              "      <td>1.000000</td>\n",
              "      <td>0.000000</td>\n",
              "      <td>0.000000</td>\n",
              "      <td>0.000000</td>\n",
              "      <td>1.000000</td>\n",
              "      <td>0.000000</td>\n",
              "      <td>0.000000</td>\n",
              "      <td>0.000000</td>\n",
              "      <td>0.000000</td>\n",
              "      <td>0.000000</td>\n",
              "      <td>0.000000</td>\n",
              "    </tr>\n",
              "    <tr>\n",
              "      <th>25%</th>\n",
              "      <td>0.000000</td>\n",
              "      <td>7.000000</td>\n",
              "      <td>8.000000</td>\n",
              "      <td>2.000000</td>\n",
              "      <td>1.000000</td>\n",
              "      <td>3.000000</td>\n",
              "      <td>2.000000</td>\n",
              "      <td>0.000000</td>\n",
              "      <td>5.000000</td>\n",
              "      <td>1.000000</td>\n",
              "      <td>174.000000</td>\n",
              "      <td>1.000000</td>\n",
              "      <td>72.000000</td>\n",
              "      <td>29.000000</td>\n",
              "      <td>34.000000</td>\n",
              "      <td>1.000000</td>\n",
              "    </tr>\n",
              "    <tr>\n",
              "      <th>50%</th>\n",
              "      <td>0.000000</td>\n",
              "      <td>24.000000</td>\n",
              "      <td>24.000000</td>\n",
              "      <td>4.000000</td>\n",
              "      <td>3.000000</td>\n",
              "      <td>5.000000</td>\n",
              "      <td>4.000000</td>\n",
              "      <td>1.000000</td>\n",
              "      <td>5.000000</td>\n",
              "      <td>1.000000</td>\n",
              "      <td>249.000000</td>\n",
              "      <td>1.000000</td>\n",
              "      <td>98.000000</td>\n",
              "      <td>62.000000</td>\n",
              "      <td>34.000000</td>\n",
              "      <td>1.000000</td>\n",
              "    </tr>\n",
              "    <tr>\n",
              "      <th>75%</th>\n",
              "      <td>0.000000</td>\n",
              "      <td>36.000000</td>\n",
              "      <td>35.000000</td>\n",
              "      <td>6.000000</td>\n",
              "      <td>5.000000</td>\n",
              "      <td>8.000000</td>\n",
              "      <td>7.000000</td>\n",
              "      <td>1.000000</td>\n",
              "      <td>6.000000</td>\n",
              "      <td>1.000000</td>\n",
              "      <td>249.000000</td>\n",
              "      <td>1.000000</td>\n",
              "      <td>103.000000</td>\n",
              "      <td>107.000000</td>\n",
              "      <td>34.000000</td>\n",
              "      <td>1.000000</td>\n",
              "    </tr>\n",
              "    <tr>\n",
              "      <th>max</th>\n",
              "      <td>7.000000</td>\n",
              "      <td>52.000000</td>\n",
              "      <td>52.000000</td>\n",
              "      <td>10.000000</td>\n",
              "      <td>5.000000</td>\n",
              "      <td>19.000000</td>\n",
              "      <td>18.000000</td>\n",
              "      <td>99.000000</td>\n",
              "      <td>6.000000</td>\n",
              "      <td>90.000000</td>\n",
              "      <td>332.000000</td>\n",
              "      <td>90.000000</td>\n",
              "      <td>116.000000</td>\n",
              "      <td>142.000000</td>\n",
              "      <td>50.000000</td>\n",
              "      <td>1.000000</td>\n",
              "    </tr>\n",
              "  </tbody>\n",
              "</table>\n",
              "</div>"
            ],
            "text/plain": [
              "                X_1           X_2  ...          X_15  MULTIPLE_OFFENSE\n",
              "count  23856.000000  23856.000000  ...  23856.000000      23856.000000\n",
              "mean       0.483778     24.791206  ...     33.464747          0.955231\n",
              "std        1.439738     15.240231  ...      8.386834          0.206800\n",
              "min        0.000000      0.000000  ...      0.000000          0.000000\n",
              "25%        0.000000      7.000000  ...     34.000000          1.000000\n",
              "50%        0.000000     24.000000  ...     34.000000          1.000000\n",
              "75%        0.000000     36.000000  ...     34.000000          1.000000\n",
              "max        7.000000     52.000000  ...     50.000000          1.000000\n",
              "\n",
              "[8 rows x 16 columns]"
            ]
          },
          "metadata": {
            "tags": []
          },
          "execution_count": 12
        }
      ]
    },
    {
      "cell_type": "markdown",
      "metadata": {
        "id": "K5Hw9IXz-i7l",
        "colab_type": "text"
      },
      "source": [
        "# Check for Null Values"
      ]
    },
    {
      "cell_type": "code",
      "metadata": {
        "id": "axYB_vOW99aj",
        "colab_type": "code",
        "colab": {
          "base_uri": "https://localhost:8080/",
          "height": 51
        },
        "outputId": "f2c1330c-6dc2-4dbc-a312-8010fc14f76f"
      },
      "source": [
        "train.isnull().sum()[train.isnull().sum() > 0]"
      ],
      "execution_count": 5,
      "outputs": [
        {
          "output_type": "execute_result",
          "data": {
            "text/plain": [
              "X_12    182\n",
              "dtype: int64"
            ]
          },
          "metadata": {
            "tags": []
          },
          "execution_count": 5
        }
      ]
    },
    {
      "cell_type": "code",
      "metadata": {
        "id": "t7KCNiPP-ZoE",
        "colab_type": "code",
        "colab": {
          "base_uri": "https://localhost:8080/",
          "height": 51
        },
        "outputId": "81c8769e-23c4-44ec-9f8d-a7e2117f50f4"
      },
      "source": [
        "test.isnull().sum()[test.isnull().sum() > 0]"
      ],
      "execution_count": 6,
      "outputs": [
        {
          "output_type": "execute_result",
          "data": {
            "text/plain": [
              "X_12    127\n",
              "dtype: int64"
            ]
          },
          "metadata": {
            "tags": []
          },
          "execution_count": 6
        }
      ]
    },
    {
      "cell_type": "markdown",
      "metadata": {
        "id": "A02nIJe_EzQq",
        "colab_type": "text"
      },
      "source": [
        "## Impute missing values"
      ]
    },
    {
      "cell_type": "code",
      "metadata": {
        "id": "CmSwJwCzEpZ0",
        "colab_type": "code",
        "colab": {}
      },
      "source": [
        "train['X_12'] = train['X_12'].fillna(train['X_12'].median())\n",
        "test['X_12'] = test['X_12'].fillna(test['X_12'].median())"
      ],
      "execution_count": 0,
      "outputs": []
    },
    {
      "cell_type": "markdown",
      "metadata": {
        "id": "aIl-29XjFTKc",
        "colab_type": "text"
      },
      "source": [
        "## Convvert into Date format"
      ]
    },
    {
      "cell_type": "code",
      "metadata": {
        "id": "NmllIwNM-eHT",
        "colab_type": "code",
        "colab": {}
      },
      "source": [
        "train['DATE'] =pd.to_datetime(train['DATE'])\n",
        "test['DATE'] =pd.to_datetime(test['DATE'])"
      ],
      "execution_count": 0,
      "outputs": []
    },
    {
      "cell_type": "markdown",
      "metadata": {
        "id": "ylzAAN6-FX4T",
        "colab_type": "text"
      },
      "source": [
        "## create new date based features"
      ]
    },
    {
      "cell_type": "code",
      "metadata": {
        "id": "2ylRlyKPAhgu",
        "colab_type": "code",
        "colab": {}
      },
      "source": [
        "train['DAY'] = train['DATE'].dt.day\n",
        "train['MONTH'] = train['DATE'].dt.month\n",
        "train['WEEK_DAY'] = train['DATE'].dt.weekday\n",
        "train['YEAR'] = train['DATE'].dt.year"
      ],
      "execution_count": 0,
      "outputs": []
    },
    {
      "cell_type": "code",
      "metadata": {
        "id": "eLWt5aBDFu0t",
        "colab_type": "code",
        "colab": {}
      },
      "source": [
        "test['DAY'] = test['DATE'].dt.day\n",
        "test['MONTH'] = test['DATE'].dt.month\n",
        "test['WEEK_DAY'] = test['DATE'].dt.weekday\n",
        "test['YEAR'] = test['DATE'].dt.year"
      ],
      "execution_count": 0,
      "outputs": []
    },
    {
      "cell_type": "code",
      "metadata": {
        "id": "askXBf4INsDG",
        "colab_type": "code",
        "colab": {
          "base_uri": "https://localhost:8080/",
          "height": 85
        },
        "outputId": "b681a030-4653-4241-f40d-399688818bbf"
      },
      "source": [
        "train.columns"
      ],
      "execution_count": 46,
      "outputs": [
        {
          "output_type": "execute_result",
          "data": {
            "text/plain": [
              "Index(['INCIDENT_ID', 'DATE', 'X_1', 'X_2', 'X_3', 'X_4', 'X_5', 'X_6', 'X_7',\n",
              "       'X_8', 'X_9', 'X_10', 'X_11', 'X_12', 'X_13', 'X_14', 'X_15',\n",
              "       'MULTIPLE_OFFENSE', 'DAY', 'MONTH', 'WEEK_DAY', 'YEAR'],\n",
              "      dtype='object')"
            ]
          },
          "metadata": {
            "tags": []
          },
          "execution_count": 46
        }
      ]
    },
    {
      "cell_type": "code",
      "metadata": {
        "id": "sufV6o9iNvfw",
        "colab_type": "code",
        "colab": {}
      },
      "source": [
        "train.drop(['INCIDENT_ID', 'DATE'],axis=1,inplace=True)\n",
        "test.drop(['INCIDENT_ID', 'DATE'],axis=1,inplace=True)"
      ],
      "execution_count": 0,
      "outputs": []
    },
    {
      "cell_type": "markdown",
      "metadata": {
        "id": "R5jPAMIIF8Jm",
        "colab_type": "text"
      },
      "source": [
        "# Visualize Label"
      ]
    },
    {
      "cell_type": "code",
      "metadata": {
        "id": "Rj_3M68TF6hw",
        "colab_type": "code",
        "colab": {
          "base_uri": "https://localhost:8080/",
          "height": 297
        },
        "outputId": "631fe56e-b1dd-4a03-9401-f78d3fceef3d"
      },
      "source": [
        "sns.countplot(train['MULTIPLE_OFFENSE'])"
      ],
      "execution_count": 20,
      "outputs": [
        {
          "output_type": "execute_result",
          "data": {
            "text/plain": [
              "<matplotlib.axes._subplots.AxesSubplot at 0x7f5ca9121b70>"
            ]
          },
          "metadata": {
            "tags": []
          },
          "execution_count": 20
        },
        {
          "output_type": "display_data",
          "data": {
            "image/png": "[encoded data removed]",
            "text/plain": [
              "<Figure size 432x288 with 1 Axes>"
            ]
          },
          "metadata": {
            "tags": [],
            "needs_background": "light"
          }
        }
      ]
    },
    {
      "cell_type": "markdown",
      "metadata": {
        "id": "TKQa63SFGrdw",
        "colab_type": "text"
      },
      "source": [
        "#### Note Data is highly imbalanced"
      ]
    },
    {
      "cell_type": "code",
      "metadata": {
        "id": "BPw1mH7sRfzL",
        "colab_type": "code",
        "colab": {
          "base_uri": "https://localhost:8080/",
          "height": 1000
        },
        "outputId": "6ff4196d-21c1-4443-fe90-5e09da339be9"
      },
      "source": [
        "train.hist(bins='auto',figsize=(18, 22), layout=(10, 2))"
      ],
      "execution_count": 57,
      "outputs": [
        {
          "output_type": "execute_result",
          "data": {
            "text/plain": [
              "array([[<matplotlib.axes._subplots.AxesSubplot object at 0x7f5c839b8da0>,\n",
              "        <matplotlib.axes._subplots.AxesSubplot object at 0x7f5c8399fa90>],\n",
              "       [<matplotlib.axes._subplots.AxesSubplot object at 0x7f5c83763d30>,\n",
              "        <matplotlib.axes._subplots.AxesSubplot object at 0x7f5c8378d0f0>],\n",
              "       [<matplotlib.axes._subplots.AxesSubplot object at 0x7f5c83729470>,\n",
              "        <matplotlib.axes._subplots.AxesSubplot object at 0x7f5c836d17f0>],\n",
              "       [<matplotlib.axes._subplots.AxesSubplot object at 0x7f5c836ffb70>,\n",
              "        <matplotlib.axes._subplots.AxesSubplot object at 0x7f5c836b2eb8>],\n",
              "       [<matplotlib.axes._subplots.AxesSubplot object at 0x7f5c836b2f28>,\n",
              "        <matplotlib.axes._subplots.AxesSubplot object at 0x7f5c83623630>],\n",
              "       [<matplotlib.axes._subplots.AxesSubplot object at 0x7f5c835d59b0>,\n",
              "        <matplotlib.axes._subplots.AxesSubplot object at 0x7f5c83606d30>],\n",
              "       [<matplotlib.axes._subplots.AxesSubplot object at 0x7f5c835c60f0>,\n",
              "        <matplotlib.axes._subplots.AxesSubplot object at 0x7f5c83577470>],\n",
              "       [<matplotlib.axes._subplots.AxesSubplot object at 0x7f5c8352a7f0>,\n",
              "        <matplotlib.axes._subplots.AxesSubplot object at 0x7f5c834dbb70>],\n",
              "       [<matplotlib.axes._subplots.AxesSubplot object at 0x7f5c8350def0>,\n",
              "        <matplotlib.axes._subplots.AxesSubplot object at 0x7f5c834cc2b0>],\n",
              "       [<matplotlib.axes._subplots.AxesSubplot object at 0x7f5c8347d630>,\n",
              "        <matplotlib.axes._subplots.AxesSubplot object at 0x7f5c8342f9b0>]],\n",
              "      dtype=object)"
            ]
          },
          "metadata": {
            "tags": []
          },
          "execution_count": 57
        },
        {
          "output_type": "display_data",
          "data": {
            "image/png": "[encoded data removed]",
            "text/plain": [
              "<Figure size 1296x1584 with 20 Axes>"
            ]
          },
          "metadata": {
            "tags": [],
            "needs_background": "light"
          }
        }
      ]
    },
    {
      "cell_type": "code",
      "metadata": {
        "id": "_0QdtN1mGxFY",
        "colab_type": "code",
        "colab": {
          "base_uri": "https://localhost:8080/",
          "height": 296
        },
        "outputId": "817e3100-38ad-43fe-b238-8ebb9e1cb9e4"
      },
      "source": [
        "sns.countplot(x='MONTH',data=train,hue='MULTIPLE_OFFENSE')"
      ],
      "execution_count": 21,
      "outputs": [
        {
          "output_type": "execute_result",
          "data": {
            "text/plain": [
              "<matplotlib.axes._subplots.AxesSubplot at 0x7f5ca8fb46a0>"
            ]
          },
          "metadata": {
            "tags": []
          },
          "execution_count": 21
        },
        {
          "output_type": "display_data",
          "data": {
            "image/png": "[encoded data removed]",
            "text/plain": [
              "<Figure size 432x288 with 1 Axes>"
            ]
          },
          "metadata": {
            "tags": [],
            "needs_background": "light"
          }
        }
      ]
    },
    {
      "cell_type": "markdown",
      "metadata": {
        "id": "9T-nblotI1AJ",
        "colab_type": "text"
      },
      "source": [
        "*Now Using A baseline model and Feature Importances we will see which features gets us the a good cross validation score, the features are mentioned as above which need to be dropped*"
      ]
    },
    {
      "cell_type": "markdown",
      "metadata": {
        "id": "pk4Gv1OUO5pd",
        "colab_type": "text"
      },
      "source": [
        "# Cross Validation with LightGBM classifiers "
      ]
    },
    {
      "cell_type": "code",
      "metadata": {
        "id": "3mx6044ZIARY",
        "colab_type": "code",
        "colab": {
          "base_uri": "https://localhost:8080/",
          "height": 221
        },
        "outputId": "4b45b7e1-45db-4cd6-9f0e-09d42cc91008"
      },
      "source": [
        "cv = StratifiedKFold(n_splits=10,random_state=22,shuffle=True)\n",
        "results = pd.DataFrame(columns=['training_score', 'test_score'])\n",
        "score_avg = []\n",
        "X = train.drop('MULTIPLE_OFFENSE',axis=1)\n",
        "y = train['MULTIPLE_OFFENSE']\n",
        "for (train_ind, test_ind), i in zip(cv.split(X,y), range(10)):\n",
        "    m = lgb.LGBMClassifier(n_jobs=-1,random_state=22,scale_pos_weight=3,learning_rate=0.1,n_estimators=100,\n",
        "                       colsample_bytree=0.5,num_leaves=70,min_child_samples=20,lambda_l1=1.6,lambda_l2=4) \n",
        "    m.fit(X.iloc[train_ind], y.iloc[train_ind])\n",
        "    score_avg.append(recall_score(y_pred=m.predict(X.iloc[test_ind]),y_true=y.iloc[test_ind]))\n",
        "print(pd.DataFrame(data=score_avg))\n",
        "print(sum(score_avg)/len(score_avg))"
      ],
      "execution_count": 52,
      "outputs": [
        {
          "output_type": "stream",
          "text": [
            "          0\n",
            "0  1.000000\n",
            "1  1.000000\n",
            "2  1.000000\n",
            "3  1.000000\n",
            "4  1.000000\n",
            "5  1.000000\n",
            "6  1.000000\n",
            "7  1.000000\n",
            "8  1.000000\n",
            "9  0.999561\n",
            "0.999956121105748\n"
          ],
          "name": "stdout"
        }
      ]
    },
    {
      "cell_type": "markdown",
      "metadata": {
        "id": "A9hr3K9nPDXp",
        "colab_type": "text"
      },
      "source": [
        "# Cross Validation with RandomForestClassifier"
      ]
    },
    {
      "cell_type": "code",
      "metadata": {
        "id": "FYfgoM2wMZjz",
        "colab_type": "code",
        "colab": {
          "base_uri": "https://localhost:8080/",
          "height": 221
        },
        "outputId": "8525dbd3-41a9-4c66-d7bd-4536d24ad7a3"
      },
      "source": [
        "rf = RandomForestClassifier(random_state=0, max_depth=13, n_estimators=100, max_features=None, n_jobs=4, class_weight={0:0.6, 1:0.4})\n",
        "results_rf = pd.DataFrame(columns=['training_score', 'test_score'])\n",
        "score_avg = []\n",
        "X = train.drop('MULTIPLE_OFFENSE',axis=1)\n",
        "y = train['MULTIPLE_OFFENSE']\n",
        "for (train_ind, test_ind), i in zip(cv.split(X,y), range(10)):\n",
        "    rf = RandomForestClassifier(random_state=0, max_depth=13, n_estimators=100, max_features=None, n_jobs=4, class_weight={0:0.6, 1:0.4})\n",
        "    rf.fit(X.iloc[train_ind], y.iloc[train_ind])\n",
        "    score_avg.append(recall_score(y_pred=m.predict(X.iloc[test_ind]),y_true=y.iloc[test_ind]))\n",
        "print(pd.DataFrame(data=score_avg))\n",
        "print(sum(score_avg)/len(score_avg))"
      ],
      "execution_count": 65,
      "outputs": [
        {
          "output_type": "stream",
          "text": [
            "          0\n",
            "0  1.000000\n",
            "1  1.000000\n",
            "2  1.000000\n",
            "3  1.000000\n",
            "4  1.000000\n",
            "5  1.000000\n",
            "6  1.000000\n",
            "7  1.000000\n",
            "8  1.000000\n",
            "9  0.999561\n",
            "0.999956121105748\n"
          ],
          "name": "stdout"
        }
      ]
    },
    {
      "cell_type": "markdown",
      "metadata": {
        "id": "DxirYbpgRYtb",
        "colab_type": "text"
      },
      "source": [
        "# Make Predictions on test _data"
      ]
    },
    {
      "cell_type": "code",
      "metadata": {
        "id": "F8U68pMnQ_PL",
        "colab_type": "code",
        "colab": {}
      },
      "source": [
        "test_data = test[X.columns]"
      ],
      "execution_count": 0,
      "outputs": []
    },
    {
      "cell_type": "code",
      "metadata": {
        "id": "Oy30td5NQ9-r",
        "colab_type": "code",
        "colab": {}
      },
      "source": [
        "preds_rf = rf.predict_proba(test_data)\n",
        "preds_lgb = m.predict_proba(test_data)"
      ],
      "execution_count": 0,
      "outputs": []
    },
    {
      "cell_type": "markdown",
      "metadata": {
        "id": "eDuQ5mz2VEr5",
        "colab_type": "text"
      },
      "source": [
        "# Using Weighted Ensembling - since imbalanced dataset"
      ]
    },
    {
      "cell_type": "code",
      "metadata": {
        "id": "FYUHt2bDUQmt",
        "colab_type": "code",
        "colab": {}
      },
      "source": [
        "test['MULTIPLE_OFFENSE'] = preds_rf[:,1]*0.4 + preds_lgb[:,1]*0.6"
      ],
      "execution_count": 0,
      "outputs": []
    },
    {
      "cell_type": "code",
      "metadata": {
        "id": "LC3bBpirV19f",
        "colab_type": "code",
        "colab": {}
      },
      "source": [
        "test['MULTIPLE_OFFENSE']  = test['MULTIPLE_OFFENSE'] .apply(lambda x : 1 if x > 0.5 else 0)"
      ],
      "execution_count": 0,
      "outputs": []
    },
    {
      "cell_type": "code",
      "metadata": {
        "id": "evQlGk9yVQHO",
        "colab_type": "code",
        "colab": {
          "base_uri": "https://localhost:8080/",
          "height": 224
        },
        "outputId": "63b5466f-b71f-4196-acca-bec5e47abe2a"
      },
      "source": [
        "test.head()"
      ],
      "execution_count": 76,
      "outputs": [
        {
          "output_type": "execute_result",
          "data": {
            "text/html": [
              "<div>\n",
              "<style scoped>\n",
              "    .dataframe tbody tr th:only-of-type {\n",
              "        vertical-align: middle;\n",
              "    }\n",
              "\n",
              "    .dataframe tbody tr th {\n",
              "        vertical-align: top;\n",
              "    }\n",
              "\n",
              "    .dataframe thead th {\n",
              "        text-align: right;\n",
              "    }\n",
              "</style>\n",
              "<table border=\"1\" class=\"dataframe\">\n",
              "  <thead>\n",
              "    <tr style=\"text-align: right;\">\n",
              "      <th></th>\n",
              "      <th>X_1</th>\n",
              "      <th>X_2</th>\n",
              "      <th>X_3</th>\n",
              "      <th>X_4</th>\n",
              "      <th>X_5</th>\n",
              "      <th>X_6</th>\n",
              "      <th>X_7</th>\n",
              "      <th>X_8</th>\n",
              "      <th>X_9</th>\n",
              "      <th>X_10</th>\n",
              "      <th>X_11</th>\n",
              "      <th>X_12</th>\n",
              "      <th>X_13</th>\n",
              "      <th>X_14</th>\n",
              "      <th>X_15</th>\n",
              "      <th>DAY</th>\n",
              "      <th>MONTH</th>\n",
              "      <th>WEEK_DAY</th>\n",
              "      <th>YEAR</th>\n",
              "      <th>MULTIPLE_OFFENSE</th>\n",
              "    </tr>\n",
              "  </thead>\n",
              "  <tbody>\n",
              "    <tr>\n",
              "      <th>0</th>\n",
              "      <td>0</td>\n",
              "      <td>30</td>\n",
              "      <td>35</td>\n",
              "      <td>7</td>\n",
              "      <td>3</td>\n",
              "      <td>6</td>\n",
              "      <td>4</td>\n",
              "      <td>0</td>\n",
              "      <td>5</td>\n",
              "      <td>1</td>\n",
              "      <td>174</td>\n",
              "      <td>1.0</td>\n",
              "      <td>72</td>\n",
              "      <td>119</td>\n",
              "      <td>23</td>\n",
              "      <td>1</td>\n",
              "      <td>2</td>\n",
              "      <td>3</td>\n",
              "      <td>2018</td>\n",
              "      <td>1</td>\n",
              "    </tr>\n",
              "    <tr>\n",
              "      <th>1</th>\n",
              "      <td>0</td>\n",
              "      <td>44</td>\n",
              "      <td>44</td>\n",
              "      <td>1</td>\n",
              "      <td>3</td>\n",
              "      <td>7</td>\n",
              "      <td>1</td>\n",
              "      <td>4</td>\n",
              "      <td>6</td>\n",
              "      <td>1</td>\n",
              "      <td>316</td>\n",
              "      <td>0.0</td>\n",
              "      <td>12</td>\n",
              "      <td>29</td>\n",
              "      <td>34</td>\n",
              "      <td>5</td>\n",
              "      <td>3</td>\n",
              "      <td>4</td>\n",
              "      <td>2004</td>\n",
              "      <td>1</td>\n",
              "    </tr>\n",
              "    <tr>\n",
              "      <th>2</th>\n",
              "      <td>0</td>\n",
              "      <td>34</td>\n",
              "      <td>33</td>\n",
              "      <td>3</td>\n",
              "      <td>5</td>\n",
              "      <td>2</td>\n",
              "      <td>7</td>\n",
              "      <td>3</td>\n",
              "      <td>0</td>\n",
              "      <td>1</td>\n",
              "      <td>316</td>\n",
              "      <td>1.0</td>\n",
              "      <td>72</td>\n",
              "      <td>0</td>\n",
              "      <td>34</td>\n",
              "      <td>27</td>\n",
              "      <td>1</td>\n",
              "      <td>5</td>\n",
              "      <td>2018</td>\n",
              "      <td>1</td>\n",
              "    </tr>\n",
              "    <tr>\n",
              "      <th>3</th>\n",
              "      <td>7</td>\n",
              "      <td>3</td>\n",
              "      <td>2</td>\n",
              "      <td>3</td>\n",
              "      <td>5</td>\n",
              "      <td>9</td>\n",
              "      <td>8</td>\n",
              "      <td>0</td>\n",
              "      <td>5</td>\n",
              "      <td>1</td>\n",
              "      <td>174</td>\n",
              "      <td>1.0</td>\n",
              "      <td>112</td>\n",
              "      <td>87</td>\n",
              "      <td>34</td>\n",
              "      <td>18</td>\n",
              "      <td>8</td>\n",
              "      <td>4</td>\n",
              "      <td>2006</td>\n",
              "      <td>1</td>\n",
              "    </tr>\n",
              "    <tr>\n",
              "      <th>4</th>\n",
              "      <td>0</td>\n",
              "      <td>7</td>\n",
              "      <td>8</td>\n",
              "      <td>7</td>\n",
              "      <td>3</td>\n",
              "      <td>2</td>\n",
              "      <td>7</td>\n",
              "      <td>1</td>\n",
              "      <td>5</td>\n",
              "      <td>1</td>\n",
              "      <td>174</td>\n",
              "      <td>0.0</td>\n",
              "      <td>112</td>\n",
              "      <td>93</td>\n",
              "      <td>43</td>\n",
              "      <td>31</td>\n",
              "      <td>10</td>\n",
              "      <td>0</td>\n",
              "      <td>2011</td>\n",
              "      <td>1</td>\n",
              "    </tr>\n",
              "  </tbody>\n",
              "</table>\n",
              "</div>"
            ],
            "text/plain": [
              "   X_1  X_2  X_3  X_4  X_5  ...  DAY  MONTH  WEEK_DAY  YEAR  MULTIPLE_OFFENSE\n",
              "0    0   30   35    7    3  ...    1      2         3  2018                 1\n",
              "1    0   44   44    1    3  ...    5      3         4  2004                 1\n",
              "2    0   34   33    3    5  ...   27      1         5  2018                 1\n",
              "3    7    3    2    3    5  ...   18      8         4  2006                 1\n",
              "4    0    7    8    7    3  ...   31     10         0  2011                 1\n",
              "\n",
              "[5 rows x 20 columns]"
            ]
          },
          "metadata": {
            "tags": []
          },
          "execution_count": 76
        }
      ]
    },
    {
      "cell_type": "markdown",
      "metadata": {
        "id": "F8MFvtInXy2V",
        "colab_type": "text"
      },
      "source": [
        "## Visualize the predictions madce on test data"
      ]
    },
    {
      "cell_type": "code",
      "metadata": {
        "id": "h_cDEXRfVmQr",
        "colab_type": "code",
        "colab": {
          "base_uri": "https://localhost:8080/",
          "height": 297
        },
        "outputId": "9075296e-e64d-4b8c-f7e9-05c1308801af"
      },
      "source": [
        "sns.countplot(test['MULTIPLE_OFFENSE'])"
      ],
      "execution_count": 77,
      "outputs": [
        {
          "output_type": "execute_result",
          "data": {
            "text/plain": [
              "<matplotlib.axes._subplots.AxesSubplot at 0x7f5ca2a5a320>"
            ]
          },
          "metadata": {
            "tags": []
          },
          "execution_count": 77
        },
        {
          "output_type": "display_data",
          "data": {
            "image/png": "[encoded data removed]",
            "text/plain": [
              "<Figure size 432x288 with 1 Axes>"
            ]
          },
          "metadata": {
            "tags": [],
            "needs_background": "light"
          }
        }
      ]
    },
    {
      "cell_type": "code",
      "metadata": {
        "id": "9hS2269AWgyA",
        "colab_type": "code",
        "colab": {
          "base_uri": "https://localhost:8080/",
          "height": 34
        },
        "outputId": "a558d95f-0a6d-4962-8f43-9f927cd75925"
      },
      "source": [
        "test.shape,sub.shape"
      ],
      "execution_count": 82,
      "outputs": [
        {
          "output_type": "execute_result",
          "data": {
            "text/plain": [
              "((15903, 20), (15903, 17))"
            ]
          },
          "metadata": {
            "tags": []
          },
          "execution_count": 82
        }
      ]
    },
    {
      "cell_type": "markdown",
      "metadata": {
        "id": "L6S0IHYQX5b0",
        "colab_type": "text"
      },
      "source": [
        "### Format the data for predictions"
      ]
    },
    {
      "cell_type": "code",
      "metadata": {
        "id": "tNKtRbKlWEDq",
        "colab_type": "code",
        "colab": {}
      },
      "source": [
        "sub['MULTIPLE_OFFENSE'] = preds_rf[:,1]*0.4 + preds_lgb[:,1]*0.6\n",
        "sub['MULTIPLE_OFFENSE']  = test['MULTIPLE_OFFENSE'] .apply(lambda x : 1 if x > 0.5 else 0) ## threshold > 0.5 belongs to class 1"
      ],
      "execution_count": 0,
      "outputs": []
    },
    {
      "cell_type": "code",
      "metadata": {
        "id": "RAQTuds5WWRq",
        "colab_type": "code",
        "colab": {
          "base_uri": "https://localhost:8080/",
          "height": 297
        },
        "outputId": "7b32f662-e7c2-4d6c-b7e6-987c204dbe81"
      },
      "source": [
        "sns.countplot(sub['MULTIPLE_OFFENSE'])"
      ],
      "execution_count": 84,
      "outputs": [
        {
          "output_type": "execute_result",
          "data": {
            "text/plain": [
              "<matplotlib.axes._subplots.AxesSubplot at 0x7f5ca2b331d0>"
            ]
          },
          "metadata": {
            "tags": []
          },
          "execution_count": 84
        },
        {
          "output_type": "display_data",
          "data": {
            "image/png": "[encoded data removed]",
            "text/plain": [
              "<Figure size 432x288 with 1 Axes>"
            ]
          },
          "metadata": {
            "tags": [],
            "needs_background": "light"
          }
        }
      ]
    },
    {
      "cell_type": "markdown",
      "metadata": {
        "id": "9f61cjZIXS_i",
        "colab_type": "text"
      },
      "source": [
        "## Download predictions to a csv file"
      ]
    },
    {
      "cell_type": "code",
      "metadata": {
        "id": "0QY5AxXRXAn7",
        "colab_type": "code",
        "colab": {}
      },
      "source": [
        "sub[['INCIDENT_ID','MULTIPLE_OFFENSE']].to_csv('sub_wght_ensemble.csv',index=False)"
      ],
      "execution_count": 0,
      "outputs": []
    },
    {
      "cell_type": "code",
      "metadata": {
        "id": "Ev-5rw-EXQDB",
        "colab_type": "code",
        "colab": {}
      },
      "source": [
        ""
      ],
      "execution_count": 0,
      "outputs": []
    }
  ]
}